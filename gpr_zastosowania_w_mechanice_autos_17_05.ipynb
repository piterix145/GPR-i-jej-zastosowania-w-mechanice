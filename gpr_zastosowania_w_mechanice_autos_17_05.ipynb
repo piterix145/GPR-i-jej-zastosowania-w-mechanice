{
 "cells": [
  {
   "cell_type": "markdown",
   "id": "8bf9d108-eba7-46f8-937f-9c5096dd87b9",
   "metadata": {},
   "source": [
    "$\\textbf{Notes w formacie jupyter notebook, z podglądem HTML, zawierający pełną implementację GPR}$ \n",
    "$\\textbf{zastosowaną w pracy.}$"
   ]
  },
  {
   "cell_type": "markdown",
   "id": "7a295c9f-9650-40bf-a588-d9eb42cdda53",
   "metadata": {},
   "source": [
    "Autor notesu: $\\textbf{Piotr Koneczny}$. Na dzień 17.05.2024, student kierunku Matematyka Stosowana (I stopień - licencjat) na Wydziale Fizyki Technicznej, Informatyki i Matematyki Stosowanej (FTIMS) na Politechnice Łódzkiej (nr indeksu: 242616)."
   ]
  },
  {
   "cell_type": "markdown",
   "id": "150f9387-fb1b-4732-ab67-cfcc30082139",
   "metadata": {
    "id": "150f9387-fb1b-4732-ab67-cfcc30082139",
    "jp-MarkdownHeadingCollapsed": true
   },
   "source": [
    "# 0. Cel notesu, przygotowanie."
   ]
  },
  {
   "cell_type": "markdown",
   "id": "517db6a9-937a-4724-baac-0085549b02ea",
   "metadata": {
    "id": "517db6a9-937a-4724-baac-0085549b02ea"
   },
   "source": [
    "W tym notesie podejmiemy próbę zaimplementowania GPR (Gaussian Proccess Regression) - a tym samym zbudowania modelu - w oparciu o nasze dane, przy wykorzystaniu biblioteki scikit-learn. Dane zostały podzielone na 4 'klasy', ze względu na wielkość próbki. Na końcu sekcji 'Implementacja GPR za pomocą biblioteki scikit-learn' został wybrany i wyświetlony najlepszy dostępny model."
   ]
  },
  {
   "cell_type": "markdown",
   "id": "3f481465-2bf2-4379-a80e-826a1022b40f",
   "metadata": {},
   "source": [
    "Ponieważ notes musi funkcjonować na google colab, wykonuję ku temu niezbędne czynności:"
   ]
  },
  {
   "cell_type": "code",
   "execution_count": 1,
   "id": "9a77c608-31dc-4848-add1-cdaba382bff9",
   "metadata": {},
   "outputs": [],
   "source": [
    "#montowanie notesu w odpowiedniej lokalizacji na moim google drive, aby pliki zostały poprawnie wczytanie\n",
    "\n",
    "#from google.colab import drive\n",
    "#drive.mount('/content/drive')\n",
    "#script_path = '/content/drive/MyDrive/colab_notebooks/' #ścieżka do folderu, w którym się znajdujemy\n",
    "#constant_loading = 0 #do poprawnego ładowania nazw kolumn\n",
    "\n",
    "script_path='./'#jeżeli przełączamy się do jupytera, wystarczy zakomentować powyższe 4 linijki i odkomentować tę linijkę i poniższą\n",
    "constant_loading = 2 #do poprawnego ładowania nazw kolumn"
   ]
  },
  {
   "cell_type": "markdown",
   "id": "a4097f27-4311-4c76-8c0a-81ee81579495",
   "metadata": {
    "id": "a4097f27-4311-4c76-8c0a-81ee81579495"
   },
   "source": [
    "Pierwsze, co musimy zrobić, to zaimportowanie potrzebnych bibliotek i modułów."
   ]
  },
  {
   "cell_type": "code",
   "execution_count": 2,
   "id": "9a99e1ae-8f80-4502-8295-594c2f8497be",
   "metadata": {
    "id": "9a99e1ae-8f80-4502-8295-594c2f8497be"
   },
   "outputs": [],
   "source": [
    "#podstawowe biblioteki\n",
    "import pandas as pd #podstawowe, czysto 'techniczne' narzędzia\n",
    "import numpy as np #również czysto 'technicznie' potrzebne narzędzia\n",
    "import matplotlib.pyplot as plt #rysowanie zawaansowanych wykresów\n",
    "import time #mierzenie czasu budowania modelu i przeszukiwania gridowego\n",
    "from sklearn.preprocessing import StandardScaler #do standaryzacji danych\n",
    "from os import listdir #potrzebne do zbudowania list ścieżek względnych do plików (ładowanie danych)\n",
    "\n",
    "#do implementacji (za pomocą biblioteki sklearn)\n",
    "from sklearn.gaussian_process import GaussianProcessRegressor #to jest typ zmiennej, w której będzie budowany model\n",
    "from sklearn.gaussian_process.kernels import RBF, ConstantKernel, WhiteKernel #to są funkcje jądrowe, które używamy\n",
    "from sklearn.model_selection import GridSearchCV, train_test_split, cross_val_score #to jest do podziału danych na część uczącą i testową\n",
    "from sklearn.metrics import mean_absolute_error #to jest do sprawdzenia jakości modelu po jego zbudowaniu\n",
    "from sklearn.gaussian_process.kernels import StationaryKernelMixin, Hyperparameter, PairwiseKernel #do stworzenia własnej 'poprawki' dla RBF z scikit\n",
    "\n",
    "#do wizualizacji kernela\n",
    "import plotly.graph_objects as go #potrzebne do rysowania 'animowanych' wykresów\n",
    "from ipywidgets import interact, widgets #stąd są 'animowane' wykresy"
   ]
  },
  {
   "cell_type": "markdown",
   "id": "e244d341-1463-41ce-aba1-153893b62620",
   "metadata": {
    "id": "e244d341-1463-41ce-aba1-153893b62620"
   },
   "source": [
    "W tym samym folderze, co ten plik (.ipynb), znajdują się 4 foldery o nazwach postaci: 'klasa_(nazwa_klasy)'. W każdym z tych folderów są pliki tekstowe, z których dane będą stanowić kolejne kolumny danych w ramach danej klasy. Załadujemy teraz dane z wszystkich 4 klas."
   ]
  },
  {
   "cell_type": "markdown",
   "id": "835b9832-784b-4576-83ac-d1a6a976bdd8",
   "metadata": {},
   "source": [
    "Zmierzymy też (eksperymentalnie) czas wykonania całego kodu - zapisujemy aktualny czas:"
   ]
  },
  {
   "cell_type": "code",
   "execution_count": 3,
   "id": "8800616d-cdb0-4ae2-ac3f-6ca26e50914b",
   "metadata": {},
   "outputs": [],
   "source": [
    "total_time_start = time.time()"
   ]
  },
  {
   "cell_type": "markdown",
   "id": "4042b2d6-e7a5-4b2d-b608-31521479d768",
   "metadata": {
    "id": "4042b2d6-e7a5-4b2d-b608-31521479d768",
    "jp-MarkdownHeadingCollapsed": true
   },
   "source": [
    "# 1. Załadowanie oraz wstępna obróbka danych."
   ]
  },
  {
   "cell_type": "markdown",
   "id": "04a6e4ec-719f-477c-8ea2-60654ba4c482",
   "metadata": {
    "id": "04a6e4ec-719f-477c-8ea2-60654ba4c482"
   },
   "source": [
    "Na samym początku tworzymy listę nazw klas:"
   ]
  },
  {
   "cell_type": "code",
   "execution_count": 4,
   "id": "e42aa812-aedf-4248-8e9a-a4d1121bdc64",
   "metadata": {
    "id": "e42aa812-aedf-4248-8e9a-a4d1121bdc64"
   },
   "outputs": [],
   "source": [
    "classes_names = ['Compact', 'Full_size', 'Luxury', 'mini']"
   ]
  },
  {
   "cell_type": "markdown",
   "id": "409a092c-866d-4a45-b549-dad3bba78175",
   "metadata": {
    "id": "409a092c-866d-4a45-b549-dad3bba78175"
   },
   "source": [
    "Teraz tworzymy i uzupełniamy słownik data_paths, którego kluczami będą nazwy klas, a wartościami - listy ścieżek względnych do wszystkich plików z tej klasy."
   ]
  },
  {
   "cell_type": "code",
   "execution_count": 5,
   "id": "f9c5d479-590a-42ab-b9d2-3ccdca896bd9",
   "metadata": {
    "id": "f9c5d479-590a-42ab-b9d2-3ccdca896bd9"
   },
   "outputs": [],
   "source": [
    "data_paths = dict()\n",
    "for class_name in classes_names:\n",
    "    data_paths[class_name] = [script_path+'/klasa_{}/'.format(class_name) + i for i in listdir(script_path+'/klasa_{}/'.format(class_name))]"
   ]
  },
  {
   "cell_type": "markdown",
   "id": "504f6a11-2197-49a1-a3c9-b03291ae7b1a",
   "metadata": {
    "id": "504f6a11-2197-49a1-a3c9-b03291ae7b1a"
   },
   "source": [
    "Teraz deklarujemy słownik, w którym będą dane z wszystkich klas. Jego kluczami są nazwy klas, takie jak w słowniku powyżej, natomiast wartościami będą data frame'y, zawierające wszystkie dane z odpowiedniej klasy."
   ]
  },
  {
   "cell_type": "code",
   "execution_count": 6,
   "id": "9e931cad-bf47-41cc-952f-013de0e2d0be",
   "metadata": {
    "id": "9e931cad-bf47-41cc-952f-013de0e2d0be"
   },
   "outputs": [],
   "source": [
    "data_frames = dict()"
   ]
  },
  {
   "cell_type": "markdown",
   "id": "2e89f2ac-f02c-4da1-8d49-317e3305f1d4",
   "metadata": {
    "id": "2e89f2ac-f02c-4da1-8d49-317e3305f1d4"
   },
   "source": [
    "Postanowiliśmy załadować i obrobić dane we własnoręcznie napisanej pętli:"
   ]
  },
  {
   "cell_type": "code",
   "execution_count": 7,
   "id": "42988b3f-9013-4dd6-9366-2f098b4538ba",
   "metadata": {
    "id": "42988b3f-9013-4dd6-9366-2f098b4538ba"
   },
   "outputs": [],
   "source": [
    "for class_name in classes_names: #każdy obrót tej pętli to załadowanie danych z kolejnej klasy\n",
    "    class_name_to_eval = 'data_paths[\\'{}\\']'.format(class_name)    #tworzymy stringi, które potem wywołamy jako fragment kodu (komenda eval)\n",
    "                                                                    #aby odwołać się do odpowiedniej listy ze ścieżkami względnymi\n",
    "    df = pd.DataFrame() #pomocniczy obiekt df, który będzie przesyłany do słownika data_frames pod odpowiedni klucz\n",
    "\n",
    "    #uzupełnienie frame'a df dla tej klasy\n",
    "    for file in eval(class_name_to_eval): #każdy obrót tej pętli to załadowanie kolejnej kolumny danych\n",
    "        #pomocniczy obiekt list, który będzie dodany jako kolumna danych do frame'a df\n",
    "        column_data = list()\n",
    "\n",
    "        #właściwe załadowanie danych\n",
    "        with open(file, 'r') as f: #czytamy plik z wykorzystaniem context managera linijka po linijce\n",
    "            for line in f:\n",
    "                column_data.append(float(line)) #wykorzystuję fakt, że dane są zapisane jedna pod drugą ('czyste' liczby)\n",
    "\n",
    "        #pomocniczy obiekt Series, który tworzymy na podstawie column_data\n",
    "        ds = pd.Series(column_data) #łatwiej jest operować na Data Series, niż na zwykłej liście (więcej, a na pewno łatwiej można zrobić)\n",
    "\n",
    "        #na podstawie nazwy pliku, wyodrębnienie nazwy kolumny\n",
    "        column_name = file[file.find('//', 3) + 6 + constant_loading + len(class_name) + 3:file.find('.', 3)] #wykorzystuję fakt, że nazwy kolumn to właściwie nazwy plików (pliki to .txt)\n",
    "\n",
    "        #czas na obróbkę danych\n",
    "        if(len(column_name) == 2 and column_name[0] == 'C' and column_name[1] != 's'): #nazwy 'C1', 'C2' itd. zamieniam na 'dent1', 'dent2' itd.\n",
    "                                                                                       #(z ang. dent - wgniecenie)\n",
    "            column_name = 'dent' + column_name[1]\n",
    "            ds = ds.apply(lambda x: round(x,3)) #ujednolicam dokładność danych o wgnieceniach (wszędzie zaokrąglenie do 3 miejsc po przecinku)\n",
    "        elif column_name == 'Cs': #zmieniam nazwę 'Cs' na 'dent_mean'\n",
    "            column_name = 'dent_mean'\n",
    "            ds = ds.apply(lambda x: round(x,3)) #średnia musi mieć taką samą ilość miejsc po przecinku, co odpowiednie kolumny\n",
    "        elif column_name == 'Lt': #zamieniam nazwę 'Lt' na 'mask_width'\n",
    "            column_name = 'mask_width'\n",
    "            ds = ds.multiply(float(1 / 1000)) #zamieniam szerokość maski, która jest w milimetrach, na metry (zeby wszystko miało tę samą jednostkę - SI)\n",
    "        elif column_name == 'mass':\n",
    "            ds = ds.apply(lambda x: round(x,0)).astype(int) #wartości masy samochodów zostały podane jako wartości całkowite, więc takie powinny być\n",
    "        elif column_name == 'Vt': #zamieniam nazwę 'Vt' na 'velocity'\n",
    "            column_name = 'velocity'\n",
    "\n",
    "        df[column_name] = ds #dodanie obrobionej kolumny do frame'a\n",
    "\n",
    "    #po uzupełnieniu frame'a dla danej klasy, dodanie kolumny ID i ustawienie jej jako indeks (wartości od 1 do ilości danych)\n",
    "    df.insert(loc=0, column='ID', value=[i + 1 for i in range(df.shape[0])])  #jak już frame jest zbudowany, dodaję kolumnnę nowych indeksów (od 1 do ilości danych)\n",
    "    df = df.set_index('ID') #ustawiam to jako nowy indeks, usuwając stary, który dodał się automatycznie\n",
    "\n",
    "    #przesłanie zbudowanego frame'a do słownika data_frames pod odpowiednim kluczem\n",
    "    data_frames[class_name] = df"
   ]
  },
  {
   "cell_type": "markdown",
   "id": "44497629-a8f9-4ca2-9776-0f4640650336",
   "metadata": {
    "id": "44497629-a8f9-4ca2-9776-0f4640650336"
   },
   "source": [
    "Zobaczymy teraz, czy udało się poprawnie załadować i przetworzyć dane ze wszystkich klas - postarajmy się je wyświetlić."
   ]
  },
  {
   "cell_type": "code",
   "execution_count": 8,
   "id": "bb304057-ec39-4c2e-8f20-21475ac1b4f8",
   "metadata": {
    "id": "bb304057-ec39-4c2e-8f20-21475ac1b4f8"
   },
   "outputs": [
    {
     "name": "stdout",
     "output_type": "stream",
     "text": [
      "Klasa Compact:\n",
      "      dent1  dent2  dent3  dent4  dent5  dent6  dent_mean  mask_width  mass  \\\n",
      "ID                                                                           \n",
      "1    0.300  0.493  0.384  0.488  0.416  0.416      0.428       1.689  1378   \n",
      "2    0.132  0.300  0.267  0.328  0.257  0.257      0.269       1.689  1378   \n",
      "3    0.218  0.450  0.300  0.500  0.367  0.367      0.382       1.689  1381   \n",
      "4    0.229  0.348  0.249  0.399  0.306  0.306      0.314       1.689  1384   \n",
      "5    0.038  0.152  0.279  0.419  0.241  0.076      0.230       1.203  1272   \n",
      "..     ...    ...    ...    ...    ...    ...        ...         ...   ...   \n",
      "395  0.270  0.386  0.449  0.442  0.375  0.259      0.383       1.370  1263   \n",
      "396  0.413  0.476  0.532  0.530  0.492  0.437      0.491       1.200  1394   \n",
      "397  0.271  0.459  0.473  0.479  0.437  0.254      0.422       1.537  1336   \n",
      "398  0.290  0.448  0.509  0.527  0.311  0.417      0.430       1.518  1440   \n",
      "399  0.436  0.472  0.501  0.506  0.468  0.385      0.471       1.230  1350   \n",
      "\n",
      "      velocity  \n",
      "ID              \n",
      "1    20.777778  \n",
      "2    19.972222  \n",
      "3    21.111111  \n",
      "4    20.777778  \n",
      "5     8.944444  \n",
      "..         ...  \n",
      "395  11.055556  \n",
      "396  15.638889  \n",
      "397  15.647222  \n",
      "398  15.694444  \n",
      "399  15.694444  \n",
      "\n",
      "[399 rows x 10 columns]\n",
      "\n",
      "Klasa Full_size:\n",
      "      dent1  dent2  dent3  dent4  dent5  dent_mean  mask_width  mass   velocity\n",
      "ID                                                                            \n",
      "1    0.486  0.589  0.358  0.384  0.284      0.394       2.027  1923  13.416667\n",
      "2    0.568  0.624  0.486  0.328  0.284      0.417       2.027  1960  14.027778\n",
      "3    0.268  0.635  0.389  0.411  0.235      0.388       1.829  2025  15.694444\n",
      "4    0.352  0.523  0.405  0.489  0.274      0.397       1.829  2004  15.777778\n",
      "5    0.628  0.486  0.560  0.532  0.423      0.485       1.829  2002  18.194444\n",
      "..     ...    ...    ...    ...    ...        ...         ...   ...        ...\n",
      "285  0.215  0.435  0.510  0.480  0.423      0.413       1.625  1852  15.780556\n",
      "286  0.316  0.363  0.363  0.367  0.368      0.358       1.201  1876  11.055556\n",
      "287  0.447  0.535  0.571  0.574  0.569      0.544       1.472  1914  15.736111\n",
      "288  0.279  0.476  0.459  0.413  0.362      0.397       1.465  1828  15.691667\n",
      "289  0.127  0.394  0.559  0.547  0.350      0.387       1.719  1968  15.736111\n",
      "\n",
      "[289 rows x 9 columns]\n",
      "\n",
      "Klasa Luxury:\n",
      "      dent1  dent2  dent3  dent4  dent5  dent6  dent_mean  mass   velocity\n",
      "ID                                                                       \n",
      "1    0.213  0.152  0.290  0.213  0.030  0.000      0.158  2195  15.722222\n",
      "2    0.490  0.503  0.508  0.503  0.501  0.501      0.502  2112  13.222222\n",
      "3    1.293  0.996  0.726  0.378  0.056  0.690      0.629  2348  16.944444\n",
      "4    0.437  0.467  0.470  0.488  0.470  0.466      0.469  2350  13.777778\n",
      "5    0.749  0.483  0.526  0.197  0.176  0.380      0.389  2351  13.777778\n",
      "..     ...    ...    ...    ...    ...    ...        ...   ...        ...\n",
      "283  0.326  0.433  0.516  0.477  0.434  0.245      0.429  2714  15.694444\n",
      "284  0.289  0.343  0.382  0.388  0.373  0.321      0.358  2404  15.647222\n",
      "285  0.320  0.353  0.362  0.409  0.364  0.299      0.359  2224  15.638889\n",
      "286  0.480  0.488  0.487  0.484  0.476  0.477      0.483  2217  15.638889\n",
      "287  0.623  0.651  0.694  0.691  0.648  0.591      0.658  2896  15.638889\n",
      "\n",
      "[287 rows x 9 columns]\n",
      "\n",
      "Klasa mini:\n",
      "     dent1  dent2  dent3  dent4  dent5  dent6  dent_mean  mask_width  mass  \\\n",
      "ID                                                                          \n",
      "1   0.176  0.147  0.178  0.102  0.152  0.102      0.144       1.626   884   \n",
      "2   0.381  0.356  0.432  0.189  0.138  0.182      0.279       1.092   887   \n",
      "3   0.102  0.102  0.176  0.176  0.122  0.102      0.136       1.914   895   \n",
      "4   0.183  0.164  0.176  0.176  0.102  0.175      0.159       1.914   896   \n",
      "5   0.183  0.259  0.386  0.259  0.183  0.254      0.261       1.016   897   \n",
      "6   0.229  0.203  0.165  0.191  0.178  0.152      0.185       1.524   882   \n",
      "7   0.312  0.287  0.267  0.244  0.198  0.191      0.249       1.499   900   \n",
      "8   0.381  0.391  0.411  0.417  0.422  0.432      0.409       1.621   888   \n",
      "9   0.381  0.432  0.406  0.406  0.406  0.406      0.409       1.473   830   \n",
      "10  0.406  0.419  0.412  0.412  0.412  0.412      0.413       1.524   897   \n",
      "11  0.940  0.869  0.711  0.521  0.292  0.223      0.595       1.334   889   \n",
      "12  0.596  0.620  0.628  0.622  0.582  0.551      0.605       1.301   892   \n",
      "13  0.321  0.536  0.439  0.478  0.501  0.498      0.473       1.520   880   \n",
      "14  0.406  0.419  0.412  0.412  0.420  0.432      0.416       1.567   890   \n",
      "\n",
      "     velocity  \n",
      "ID             \n",
      "1   23.250000  \n",
      "2   26.833333  \n",
      "3   26.916667  \n",
      "4   25.916667  \n",
      "5   26.833333  \n",
      "6   26.833333  \n",
      "7   12.861111  \n",
      "8   13.138889  \n",
      "9   13.194444  \n",
      "10  13.138889  \n",
      "11  16.138889  \n",
      "12  18.833333  \n",
      "13  16.666667  \n",
      "14  19.444444  \n",
      "\n"
     ]
    }
   ],
   "source": [
    "for class_name in classes_names:\n",
    "    data_frames[class_name] = data_frames[class_name].sort_index(axis = 1)\n",
    "    our_data = data_frames[class_name]\n",
    "    print('Klasa {}:\\n {}\\n'.format(class_name, our_data))"
   ]
  },
  {
   "cell_type": "markdown",
   "id": "8ab90b31-2dc4-4a48-a689-b28fdfbe2bf3",
   "metadata": {
    "id": "8ab90b31-2dc4-4a48-a689-b28fdfbe2bf3"
   },
   "source": [
    "Jak więc widać, ładowanie danych zostało zakończone z sukcesem. Teraz sprawdzimy, czy nie ma żadnych braków danych - jeśli tak, to wyeliminujemy te dane, dla których znajdziemy jakikolwiek brak (może należałoby zamiast tego przyjąć inną taktykę, np. imputację z użyciem modelu regresji?):"
   ]
  },
  {
   "cell_type": "code",
   "execution_count": 9,
   "id": "462e95be-22b0-4d71-ad11-65235d8bad4a",
   "metadata": {
    "id": "462e95be-22b0-4d71-ad11-65235d8bad4a"
   },
   "outputs": [
    {
     "name": "stdout",
     "output_type": "stream",
     "text": [
      "Klasa Compact: danych było 399, po wyrzuceniu na jest 399.\n",
      "Klasa Full_size: danych było 289, po wyrzuceniu na jest 289.\n",
      "Klasa Luxury: danych było 287, po wyrzuceniu na jest 287.\n",
      "Klasa mini: danych było 14, po wyrzuceniu na jest 14.\n"
     ]
    }
   ],
   "source": [
    "for class_name in classes_names:\n",
    "    our_data = data_frames[class_name]\n",
    "    our_data_length = len(our_data)\n",
    "    our_data_without_na = our_data.dropna()\n",
    "    our_data_without_na_legth = len(our_data_without_na)\n",
    "    print(\"Klasa {}: danych było {}, po wyrzuceniu na jest {}.\".format(class_name, our_data_length, our_data_without_na_legth))"
   ]
  },
  {
   "cell_type": "markdown",
   "id": "553789b7-e83c-4700-8f60-8e1586249740",
   "metadata": {
    "id": "553789b7-e83c-4700-8f60-8e1586249740"
   },
   "source": [
    "Jak więc widać, braków danych w naszych frame'ach nie ma - nie musimy się więc tym przejmować."
   ]
  },
  {
   "cell_type": "markdown",
   "id": "aa538599-0e3f-4311-aea3-24f66ab7489b",
   "metadata": {
    "id": "aa538599-0e3f-4311-aea3-24f66ab7489b"
   },
   "source": [
    "Wyliczymy jeszcze teraz podstawowe liczbowe charakterystyki dla tych spośród kolumn w danych w każdej klasie, dla których jest to możliwe i sensowne wg biblioteki pandas (metoda describe)."
   ]
  },
  {
   "cell_type": "code",
   "execution_count": 10,
   "id": "e092ebf0-e78f-4ddb-bc78-e077a3bc4fe5",
   "metadata": {
    "id": "e092ebf0-e78f-4ddb-bc78-e077a3bc4fe5"
   },
   "outputs": [
    {
     "name": "stdout",
     "output_type": "stream",
     "text": [
      "describe('Compact'):\n",
      "            count      mean     std       min       25%       50%       75%  \\\n",
      "dent1         399     0.439   0.182     0.038     0.314     0.432     0.543   \n",
      "dent2         399     0.482   0.157     0.092     0.376     0.480     0.566   \n",
      "dent3         399     0.491   0.156     0.093     0.383     0.495     0.580   \n",
      "dent4         399     0.467   0.159     0.049     0.363     0.475     0.571   \n",
      "dent5         399     0.430   0.161     0.079     0.309     0.437     0.536   \n",
      "dent6         399     0.386   0.165     0.015     0.245     0.384     0.508   \n",
      "dent_mean     399     0.456   0.142     0.103     0.362     0.455     0.542   \n",
      "mask_width    399     1.496   0.144     1.050     1.401     1.499     1.587   \n",
      "mass          399  1364.729  61.090  1251.000  1324.000  1363.000  1410.500   \n",
      "velocity      399    14.679   2.574     4.472    13.222    15.500    15.694   \n",
      "\n",
      "                 max  \n",
      "dent1          1.367  \n",
      "dent2          1.290  \n",
      "dent3          1.336  \n",
      "dent4          1.349  \n",
      "dent5          1.356  \n",
      "dent6          1.344  \n",
      "dent_mean      1.328  \n",
      "mask_width     1.914  \n",
      "mass        1478.000  \n",
      "velocity      26.861  \n",
      "\n",
      "describe('Full_size'):\n",
      "            count      mean     std       min       25%       50%       75%  \\\n",
      "dent1         289     0.420   0.197     0.109     0.278     0.393     0.521   \n",
      "dent2         289     0.480   0.174     0.114     0.363     0.470     0.569   \n",
      "dent3         289     0.495   0.163     0.127     0.389     0.493     0.595   \n",
      "dent4         289     0.482   0.169     0.112     0.366     0.489     0.592   \n",
      "dent5         289     0.441   0.155     0.110     0.321     0.442     0.560   \n",
      "dent_mean     289     0.460   0.150     0.131     0.355     0.448     0.558   \n",
      "mask_width    289     1.606   0.198     0.764     1.520     1.571     1.738   \n",
      "mass          289  1929.536  85.785  1791.000  1856.000  1927.000  2010.000   \n",
      "velocity      289    14.033   2.921     4.167    13.139    13.917    15.667   \n",
      "\n",
      "                 max  \n",
      "dent1          1.392  \n",
      "dent2          1.435  \n",
      "dent3          1.270  \n",
      "dent4          1.247  \n",
      "dent5          0.887  \n",
      "dent_mean      1.053  \n",
      "mask_width     2.027  \n",
      "mass        2070.000  \n",
      "velocity      28.556  \n",
      "\n",
      "describe('Luxury'):\n",
      "           count      mean      std       min       25%       50%       75%  \\\n",
      "dent1        287     0.408    0.154     0.101     0.310     0.398     0.477   \n",
      "dent2        287     0.458    0.144     0.114     0.373     0.455     0.551   \n",
      "dent3        287     0.480    0.146     0.145     0.388     0.492     0.581   \n",
      "dent4        287     0.466    0.152     0.102     0.360     0.482     0.569   \n",
      "dent5        287     0.431    0.152     0.030     0.326     0.453     0.536   \n",
      "dent6        287     0.380    0.137     0.000     0.285     0.381     0.469   \n",
      "dent_mean    287     0.446    0.133     0.137     0.358     0.454     0.532   \n",
      "mass         287  2329.007  215.259  2072.000  2156.500  2273.000  2445.000   \n",
      "velocity     287    14.778    2.844     6.667    13.257    15.603    15.694   \n",
      "\n",
      "                max  \n",
      "dent1         1.293  \n",
      "dent2         0.996  \n",
      "dent3         0.866  \n",
      "dent4         0.861  \n",
      "dent5         0.841  \n",
      "dent6         0.831  \n",
      "dent_mean     0.857  \n",
      "mass       3054.000  \n",
      "velocity     26.833  \n",
      "\n",
      "describe('mini'):\n",
      "            count     mean     std      min      25%      50%      75%  \\\n",
      "dent1          14    0.357   0.212    0.102    0.195    0.351    0.400   \n",
      "dent2          14    0.372   0.207    0.102    0.217    0.373    0.429   \n",
      "dent3          14    0.371   0.167    0.165    0.200    0.408    0.427   \n",
      "dent4          14    0.329   0.157    0.102    0.190    0.333    0.416   \n",
      "dent5          14    0.293   0.159    0.102    0.159    0.245    0.418   \n",
      "dent6          14    0.294   0.154    0.102    0.177    0.238    0.427   \n",
      "dent_mean      14    0.338   0.159    0.136    0.201    0.344    0.415   \n",
      "mask_width     14    1.495   0.255    1.016    1.369    1.522    1.607   \n",
      "mass           14  886.214  17.268  830.000  884.750  889.500  895.750   \n",
      "velocity       14   20.000   5.901   12.861   13.931   19.139   26.604   \n",
      "\n",
      "                max  \n",
      "dent1         0.940  \n",
      "dent2         0.869  \n",
      "dent3         0.711  \n",
      "dent4         0.622  \n",
      "dent5         0.582  \n",
      "dent6         0.551  \n",
      "dent_mean     0.605  \n",
      "mask_width    1.914  \n",
      "mass        900.000  \n",
      "velocity     26.917  \n",
      "\n"
     ]
    }
   ],
   "source": [
    "for class_name in classes_names:\n",
    "    our_data = data_frames[class_name]\n",
    "    our_describe = our_data.describe().transpose()\n",
    "    our_describe['count'] = our_describe['count'].apply(lambda x: round(x,0)).astype(int)\n",
    "    for i in range(len(our_describe.columns)):\n",
    "        if i != 0:\n",
    "            our_describe[our_describe.columns[i]] = our_describe[our_describe.columns[i]].apply(lambda x: round(x,3))\n",
    "    print('describe(\\'{}\\'):\\n{}\\n'.format(class_name, our_describe))"
   ]
  },
  {
   "cell_type": "markdown",
   "id": "af32383d-44ee-4f39-bdf3-62c736982c52",
   "metadata": {
    "id": "af32383d-44ee-4f39-bdf3-62c736982c52"
   },
   "source": [
    "Poniżej zebrany został dokładniejszy opis danych zawartych w każdej klasie.\n",
    "\n",
    "Zmienne wyjaśniające:\n",
    "\n",
    "- dent1 --> odkształcenie mierzone w punkcie pomiarowym nr 1 [m] (oryginalna nazwa: C1)\n",
    "\n",
    "- dent2 --> odkształcenie mierzone w punkcie pomiarowym nr 2 [m] (oryginalna nazwa: C2)\n",
    "\n",
    "- dent3 --> odkształcenie mierzone w punkcie pomiarowym nr 3 [m] (oryginalna nazwa: C3)\n",
    "\n",
    "- dent4 --> odkształcenie mierzone w punkcie pomiarowym nr 4 [m] (oryginalna nazwa: C4)\n",
    "\n",
    "- dent5 --> odkształcenie mierzone w punkcie pomiarowym nr 5 [m] (oryginalna nazwa: C5)\n",
    "\n",
    "- dent6 --> odkształcenie mierzone w punkcie pomiarowym nr 6 [m] (oryginalna nazwa: C6) --> nie występuje tylko w klasie Full_size\n",
    "\n",
    "- dent_mean --> odkształcenie średnie (średnia ważona z powyżej opisanych kolumn) [m] (oryginalna nazwa: Cs)\n",
    "\n",
    "- mask_width --> szerokość maski [m] (oryginalna nazwa: Lt)\n",
    "\n",
    "- mass --> masa samochodu [kg] (zachowana oryginalna nazwa)\n",
    "\n",
    "\n",
    "Zmienna wyjaśniana:\n",
    "\n",
    "velocity --> prędkość samochodu przy zderzeniu [m/s] (oryginalna nazwa: Vt)"
   ]
  },
  {
   "cell_type": "markdown",
   "id": "fc488f45-bbce-4a40-8780-fbe94e1969d5",
   "metadata": {
    "id": "fc488f45-bbce-4a40-8780-fbe94e1969d5",
    "jp-MarkdownHeadingCollapsed": true
   },
   "source": [
    "# 2. Dalsze przetwarzanie danych (standaryzacja)."
   ]
  },
  {
   "cell_type": "markdown",
   "id": "d2128a44-0f99-4946-8200-2092289d3726",
   "metadata": {
    "id": "d2128a44-0f99-4946-8200-2092289d3726"
   },
   "source": [
    "Pierwotnie rozważaliśmy następujące możliwości zaimplementowania naszego modelu:\n",
    "\n",
    "1. za pomocą biblioteki scikit-learn (to zostało finalnie wykonane);\n",
    "\n",
    "2. za pomocą implementacji, pokazanej w filmie: [link](https://youtu.be/JXdrq7--XV0) - korzystałem bezpośrednio z notesu z tego filmu: [link](https://gitlab.com/youtube-optimization-geeks/uncertainty-quantification/-/blob/main/coing_gpr_from_scratch_notebook.ipynb?ref_type=heads);\n",
    "\n",
    "3. implementacji, pokazanej w filmie: [link](https://youtu.be/VXTIPfS_vV8) - można korzystać bezpośrednio z notesu z tego filmu: [link](https://uni-tuebingen.de/en/180804) - na tej stronie dostępny pod hasłem: 'Lecture 11 - Example of GP Regression';\n",
    "\n",
    "4. implementacji, pokazanej w filmie: [link](https://youtu.be/jrwY60lh-Po) - niestety notes z filmu nie jest nigdzie załączony."
   ]
  },
  {
   "cell_type": "markdown",
   "id": "1013af0f-388e-4270-9f7f-5278fc6d37a8",
   "metadata": {
    "id": "1013af0f-388e-4270-9f7f-5278fc6d37a8"
   },
   "source": [
    "Pierwszą próbę zbudowania modelu oprzemy na mniejszej ilości danych, tj. klasie 'Luxury'. Moglibyśmy się też oprzeć na klasie Full_size, bo ma bardzo podobną ilość rekordów, jednak tam jest mniej o 1 zmiennych wyjaśniających (a więc automatycznie: mniej danych). Następnie będziemy budować najlepszy model już na danych z klasy 'Compact' (największa ilość danych). Ostatecznie, jako finalny model, wybierzemy najlepszy z tych otrzymanych."
   ]
  },
  {
   "cell_type": "markdown",
   "id": "991b1085-edf1-4f78-812e-f518df80969e",
   "metadata": {
    "id": "991b1085-edf1-4f78-812e-f518df80969e"
   },
   "source": [
    "Zapiszmy więc już na samym początku w osobnych zmiennych dane z tych dwóch klas. Zacznijmy od całościowych data frame'ów:"
   ]
  },
  {
   "cell_type": "code",
   "execution_count": 11,
   "id": "813ecd93-8a37-456e-97d0-124c2af66079",
   "metadata": {
    "id": "813ecd93-8a37-456e-97d0-124c2af66079"
   },
   "outputs": [
    {
     "data": {
      "text/html": [
       "<div>\n",
       "<style scoped>\n",
       "    .dataframe tbody tr th:only-of-type {\n",
       "        vertical-align: middle;\n",
       "    }\n",
       "\n",
       "    .dataframe tbody tr th {\n",
       "        vertical-align: top;\n",
       "    }\n",
       "\n",
       "    .dataframe thead th {\n",
       "        text-align: right;\n",
       "    }\n",
       "</style>\n",
       "<table border=\"1\" class=\"dataframe\">\n",
       "  <thead>\n",
       "    <tr style=\"text-align: right;\">\n",
       "      <th></th>\n",
       "      <th>dent1</th>\n",
       "      <th>dent2</th>\n",
       "      <th>dent3</th>\n",
       "      <th>dent4</th>\n",
       "      <th>dent5</th>\n",
       "      <th>dent6</th>\n",
       "      <th>dent_mean</th>\n",
       "      <th>mass</th>\n",
       "      <th>velocity</th>\n",
       "    </tr>\n",
       "    <tr>\n",
       "      <th>ID</th>\n",
       "      <th></th>\n",
       "      <th></th>\n",
       "      <th></th>\n",
       "      <th></th>\n",
       "      <th></th>\n",
       "      <th></th>\n",
       "      <th></th>\n",
       "      <th></th>\n",
       "      <th></th>\n",
       "    </tr>\n",
       "  </thead>\n",
       "  <tbody>\n",
       "    <tr>\n",
       "      <th>1</th>\n",
       "      <td>0.213</td>\n",
       "      <td>0.152</td>\n",
       "      <td>0.290</td>\n",
       "      <td>0.213</td>\n",
       "      <td>0.030</td>\n",
       "      <td>0.000</td>\n",
       "      <td>0.158</td>\n",
       "      <td>2195</td>\n",
       "      <td>15.722222</td>\n",
       "    </tr>\n",
       "    <tr>\n",
       "      <th>2</th>\n",
       "      <td>0.490</td>\n",
       "      <td>0.503</td>\n",
       "      <td>0.508</td>\n",
       "      <td>0.503</td>\n",
       "      <td>0.501</td>\n",
       "      <td>0.501</td>\n",
       "      <td>0.502</td>\n",
       "      <td>2112</td>\n",
       "      <td>13.222222</td>\n",
       "    </tr>\n",
       "    <tr>\n",
       "      <th>3</th>\n",
       "      <td>1.293</td>\n",
       "      <td>0.996</td>\n",
       "      <td>0.726</td>\n",
       "      <td>0.378</td>\n",
       "      <td>0.056</td>\n",
       "      <td>0.690</td>\n",
       "      <td>0.629</td>\n",
       "      <td>2348</td>\n",
       "      <td>16.944444</td>\n",
       "    </tr>\n",
       "    <tr>\n",
       "      <th>4</th>\n",
       "      <td>0.437</td>\n",
       "      <td>0.467</td>\n",
       "      <td>0.470</td>\n",
       "      <td>0.488</td>\n",
       "      <td>0.470</td>\n",
       "      <td>0.466</td>\n",
       "      <td>0.469</td>\n",
       "      <td>2350</td>\n",
       "      <td>13.777778</td>\n",
       "    </tr>\n",
       "    <tr>\n",
       "      <th>5</th>\n",
       "      <td>0.749</td>\n",
       "      <td>0.483</td>\n",
       "      <td>0.526</td>\n",
       "      <td>0.197</td>\n",
       "      <td>0.176</td>\n",
       "      <td>0.380</td>\n",
       "      <td>0.389</td>\n",
       "      <td>2351</td>\n",
       "      <td>13.777778</td>\n",
       "    </tr>\n",
       "    <tr>\n",
       "      <th>...</th>\n",
       "      <td>...</td>\n",
       "      <td>...</td>\n",
       "      <td>...</td>\n",
       "      <td>...</td>\n",
       "      <td>...</td>\n",
       "      <td>...</td>\n",
       "      <td>...</td>\n",
       "      <td>...</td>\n",
       "      <td>...</td>\n",
       "    </tr>\n",
       "    <tr>\n",
       "      <th>283</th>\n",
       "      <td>0.326</td>\n",
       "      <td>0.433</td>\n",
       "      <td>0.516</td>\n",
       "      <td>0.477</td>\n",
       "      <td>0.434</td>\n",
       "      <td>0.245</td>\n",
       "      <td>0.429</td>\n",
       "      <td>2714</td>\n",
       "      <td>15.694444</td>\n",
       "    </tr>\n",
       "    <tr>\n",
       "      <th>284</th>\n",
       "      <td>0.289</td>\n",
       "      <td>0.343</td>\n",
       "      <td>0.382</td>\n",
       "      <td>0.388</td>\n",
       "      <td>0.373</td>\n",
       "      <td>0.321</td>\n",
       "      <td>0.358</td>\n",
       "      <td>2404</td>\n",
       "      <td>15.647222</td>\n",
       "    </tr>\n",
       "    <tr>\n",
       "      <th>285</th>\n",
       "      <td>0.320</td>\n",
       "      <td>0.353</td>\n",
       "      <td>0.362</td>\n",
       "      <td>0.409</td>\n",
       "      <td>0.364</td>\n",
       "      <td>0.299</td>\n",
       "      <td>0.359</td>\n",
       "      <td>2224</td>\n",
       "      <td>15.638889</td>\n",
       "    </tr>\n",
       "    <tr>\n",
       "      <th>286</th>\n",
       "      <td>0.480</td>\n",
       "      <td>0.488</td>\n",
       "      <td>0.487</td>\n",
       "      <td>0.484</td>\n",
       "      <td>0.476</td>\n",
       "      <td>0.477</td>\n",
       "      <td>0.483</td>\n",
       "      <td>2217</td>\n",
       "      <td>15.638889</td>\n",
       "    </tr>\n",
       "    <tr>\n",
       "      <th>287</th>\n",
       "      <td>0.623</td>\n",
       "      <td>0.651</td>\n",
       "      <td>0.694</td>\n",
       "      <td>0.691</td>\n",
       "      <td>0.648</td>\n",
       "      <td>0.591</td>\n",
       "      <td>0.658</td>\n",
       "      <td>2896</td>\n",
       "      <td>15.638889</td>\n",
       "    </tr>\n",
       "  </tbody>\n",
       "</table>\n",
       "<p>287 rows × 9 columns</p>\n",
       "</div>"
      ],
      "text/plain": [
       "     dent1  dent2  dent3  dent4  dent5  dent6  dent_mean  mass   velocity\n",
       "ID                                                                       \n",
       "1    0.213  0.152  0.290  0.213  0.030  0.000      0.158  2195  15.722222\n",
       "2    0.490  0.503  0.508  0.503  0.501  0.501      0.502  2112  13.222222\n",
       "3    1.293  0.996  0.726  0.378  0.056  0.690      0.629  2348  16.944444\n",
       "4    0.437  0.467  0.470  0.488  0.470  0.466      0.469  2350  13.777778\n",
       "5    0.749  0.483  0.526  0.197  0.176  0.380      0.389  2351  13.777778\n",
       "..     ...    ...    ...    ...    ...    ...        ...   ...        ...\n",
       "283  0.326  0.433  0.516  0.477  0.434  0.245      0.429  2714  15.694444\n",
       "284  0.289  0.343  0.382  0.388  0.373  0.321      0.358  2404  15.647222\n",
       "285  0.320  0.353  0.362  0.409  0.364  0.299      0.359  2224  15.638889\n",
       "286  0.480  0.488  0.487  0.484  0.476  0.477      0.483  2217  15.638889\n",
       "287  0.623  0.651  0.694  0.691  0.648  0.591      0.658  2896  15.638889\n",
       "\n",
       "[287 rows x 9 columns]"
      ]
     },
     "execution_count": 11,
     "metadata": {},
     "output_type": "execute_result"
    }
   ],
   "source": [
    "data_luxury = data_frames['Luxury'] #całościowy data frame z klasy Luxury\n",
    "data_luxury"
   ]
  },
  {
   "cell_type": "code",
   "execution_count": 12,
   "id": "37d1b00c-798d-4d26-b726-4562b7b28469",
   "metadata": {
    "id": "37d1b00c-798d-4d26-b726-4562b7b28469"
   },
   "outputs": [
    {
     "data": {
      "text/html": [
       "<div>\n",
       "<style scoped>\n",
       "    .dataframe tbody tr th:only-of-type {\n",
       "        vertical-align: middle;\n",
       "    }\n",
       "\n",
       "    .dataframe tbody tr th {\n",
       "        vertical-align: top;\n",
       "    }\n",
       "\n",
       "    .dataframe thead th {\n",
       "        text-align: right;\n",
       "    }\n",
       "</style>\n",
       "<table border=\"1\" class=\"dataframe\">\n",
       "  <thead>\n",
       "    <tr style=\"text-align: right;\">\n",
       "      <th></th>\n",
       "      <th>dent1</th>\n",
       "      <th>dent2</th>\n",
       "      <th>dent3</th>\n",
       "      <th>dent4</th>\n",
       "      <th>dent5</th>\n",
       "      <th>dent6</th>\n",
       "      <th>dent_mean</th>\n",
       "      <th>mask_width</th>\n",
       "      <th>mass</th>\n",
       "      <th>velocity</th>\n",
       "    </tr>\n",
       "    <tr>\n",
       "      <th>ID</th>\n",
       "      <th></th>\n",
       "      <th></th>\n",
       "      <th></th>\n",
       "      <th></th>\n",
       "      <th></th>\n",
       "      <th></th>\n",
       "      <th></th>\n",
       "      <th></th>\n",
       "      <th></th>\n",
       "      <th></th>\n",
       "    </tr>\n",
       "  </thead>\n",
       "  <tbody>\n",
       "    <tr>\n",
       "      <th>1</th>\n",
       "      <td>0.300</td>\n",
       "      <td>0.493</td>\n",
       "      <td>0.384</td>\n",
       "      <td>0.488</td>\n",
       "      <td>0.416</td>\n",
       "      <td>0.416</td>\n",
       "      <td>0.428</td>\n",
       "      <td>1.689</td>\n",
       "      <td>1378</td>\n",
       "      <td>20.777778</td>\n",
       "    </tr>\n",
       "    <tr>\n",
       "      <th>2</th>\n",
       "      <td>0.132</td>\n",
       "      <td>0.300</td>\n",
       "      <td>0.267</td>\n",
       "      <td>0.328</td>\n",
       "      <td>0.257</td>\n",
       "      <td>0.257</td>\n",
       "      <td>0.269</td>\n",
       "      <td>1.689</td>\n",
       "      <td>1378</td>\n",
       "      <td>19.972222</td>\n",
       "    </tr>\n",
       "    <tr>\n",
       "      <th>3</th>\n",
       "      <td>0.218</td>\n",
       "      <td>0.450</td>\n",
       "      <td>0.300</td>\n",
       "      <td>0.500</td>\n",
       "      <td>0.367</td>\n",
       "      <td>0.367</td>\n",
       "      <td>0.382</td>\n",
       "      <td>1.689</td>\n",
       "      <td>1381</td>\n",
       "      <td>21.111111</td>\n",
       "    </tr>\n",
       "    <tr>\n",
       "      <th>4</th>\n",
       "      <td>0.229</td>\n",
       "      <td>0.348</td>\n",
       "      <td>0.249</td>\n",
       "      <td>0.399</td>\n",
       "      <td>0.306</td>\n",
       "      <td>0.306</td>\n",
       "      <td>0.314</td>\n",
       "      <td>1.689</td>\n",
       "      <td>1384</td>\n",
       "      <td>20.777778</td>\n",
       "    </tr>\n",
       "    <tr>\n",
       "      <th>5</th>\n",
       "      <td>0.038</td>\n",
       "      <td>0.152</td>\n",
       "      <td>0.279</td>\n",
       "      <td>0.419</td>\n",
       "      <td>0.241</td>\n",
       "      <td>0.076</td>\n",
       "      <td>0.230</td>\n",
       "      <td>1.203</td>\n",
       "      <td>1272</td>\n",
       "      <td>8.944444</td>\n",
       "    </tr>\n",
       "    <tr>\n",
       "      <th>...</th>\n",
       "      <td>...</td>\n",
       "      <td>...</td>\n",
       "      <td>...</td>\n",
       "      <td>...</td>\n",
       "      <td>...</td>\n",
       "      <td>...</td>\n",
       "      <td>...</td>\n",
       "      <td>...</td>\n",
       "      <td>...</td>\n",
       "      <td>...</td>\n",
       "    </tr>\n",
       "    <tr>\n",
       "      <th>395</th>\n",
       "      <td>0.270</td>\n",
       "      <td>0.386</td>\n",
       "      <td>0.449</td>\n",
       "      <td>0.442</td>\n",
       "      <td>0.375</td>\n",
       "      <td>0.259</td>\n",
       "      <td>0.383</td>\n",
       "      <td>1.370</td>\n",
       "      <td>1263</td>\n",
       "      <td>11.055556</td>\n",
       "    </tr>\n",
       "    <tr>\n",
       "      <th>396</th>\n",
       "      <td>0.413</td>\n",
       "      <td>0.476</td>\n",
       "      <td>0.532</td>\n",
       "      <td>0.530</td>\n",
       "      <td>0.492</td>\n",
       "      <td>0.437</td>\n",
       "      <td>0.491</td>\n",
       "      <td>1.200</td>\n",
       "      <td>1394</td>\n",
       "      <td>15.638889</td>\n",
       "    </tr>\n",
       "    <tr>\n",
       "      <th>397</th>\n",
       "      <td>0.271</td>\n",
       "      <td>0.459</td>\n",
       "      <td>0.473</td>\n",
       "      <td>0.479</td>\n",
       "      <td>0.437</td>\n",
       "      <td>0.254</td>\n",
       "      <td>0.422</td>\n",
       "      <td>1.537</td>\n",
       "      <td>1336</td>\n",
       "      <td>15.647222</td>\n",
       "    </tr>\n",
       "    <tr>\n",
       "      <th>398</th>\n",
       "      <td>0.290</td>\n",
       "      <td>0.448</td>\n",
       "      <td>0.509</td>\n",
       "      <td>0.527</td>\n",
       "      <td>0.311</td>\n",
       "      <td>0.417</td>\n",
       "      <td>0.430</td>\n",
       "      <td>1.518</td>\n",
       "      <td>1440</td>\n",
       "      <td>15.694444</td>\n",
       "    </tr>\n",
       "    <tr>\n",
       "      <th>399</th>\n",
       "      <td>0.436</td>\n",
       "      <td>0.472</td>\n",
       "      <td>0.501</td>\n",
       "      <td>0.506</td>\n",
       "      <td>0.468</td>\n",
       "      <td>0.385</td>\n",
       "      <td>0.471</td>\n",
       "      <td>1.230</td>\n",
       "      <td>1350</td>\n",
       "      <td>15.694444</td>\n",
       "    </tr>\n",
       "  </tbody>\n",
       "</table>\n",
       "<p>399 rows × 10 columns</p>\n",
       "</div>"
      ],
      "text/plain": [
       "     dent1  dent2  dent3  dent4  dent5  dent6  dent_mean  mask_width  mass  \\\n",
       "ID                                                                           \n",
       "1    0.300  0.493  0.384  0.488  0.416  0.416      0.428       1.689  1378   \n",
       "2    0.132  0.300  0.267  0.328  0.257  0.257      0.269       1.689  1378   \n",
       "3    0.218  0.450  0.300  0.500  0.367  0.367      0.382       1.689  1381   \n",
       "4    0.229  0.348  0.249  0.399  0.306  0.306      0.314       1.689  1384   \n",
       "5    0.038  0.152  0.279  0.419  0.241  0.076      0.230       1.203  1272   \n",
       "..     ...    ...    ...    ...    ...    ...        ...         ...   ...   \n",
       "395  0.270  0.386  0.449  0.442  0.375  0.259      0.383       1.370  1263   \n",
       "396  0.413  0.476  0.532  0.530  0.492  0.437      0.491       1.200  1394   \n",
       "397  0.271  0.459  0.473  0.479  0.437  0.254      0.422       1.537  1336   \n",
       "398  0.290  0.448  0.509  0.527  0.311  0.417      0.430       1.518  1440   \n",
       "399  0.436  0.472  0.501  0.506  0.468  0.385      0.471       1.230  1350   \n",
       "\n",
       "      velocity  \n",
       "ID              \n",
       "1    20.777778  \n",
       "2    19.972222  \n",
       "3    21.111111  \n",
       "4    20.777778  \n",
       "5     8.944444  \n",
       "..         ...  \n",
       "395  11.055556  \n",
       "396  15.638889  \n",
       "397  15.647222  \n",
       "398  15.694444  \n",
       "399  15.694444  \n",
       "\n",
       "[399 rows x 10 columns]"
      ]
     },
     "execution_count": 12,
     "metadata": {},
     "output_type": "execute_result"
    }
   ],
   "source": [
    "data_compact = data_frames['Compact'] #całościowy data frame z klasy Compact\n",
    "data_compact"
   ]
  },
  {
   "cell_type": "markdown",
   "id": "5cf5293d-56f0-43e4-b651-26927ea58067",
   "metadata": {
    "id": "5cf5293d-56f0-43e4-b651-26927ea58067"
   },
   "source": [
    "Teraz zapiszmy osobno zmienne wyjaśniające z obu klas:"
   ]
  },
  {
   "cell_type": "code",
   "execution_count": 13,
   "id": "83cd8128-90d0-4567-b4a0-f969e0243095",
   "metadata": {
    "id": "83cd8128-90d0-4567-b4a0-f969e0243095"
   },
   "outputs": [
    {
     "data": {
      "text/html": [
       "<div>\n",
       "<style scoped>\n",
       "    .dataframe tbody tr th:only-of-type {\n",
       "        vertical-align: middle;\n",
       "    }\n",
       "\n",
       "    .dataframe tbody tr th {\n",
       "        vertical-align: top;\n",
       "    }\n",
       "\n",
       "    .dataframe thead th {\n",
       "        text-align: right;\n",
       "    }\n",
       "</style>\n",
       "<table border=\"1\" class=\"dataframe\">\n",
       "  <thead>\n",
       "    <tr style=\"text-align: right;\">\n",
       "      <th></th>\n",
       "      <th>dent1</th>\n",
       "      <th>dent2</th>\n",
       "      <th>dent3</th>\n",
       "      <th>dent4</th>\n",
       "      <th>dent5</th>\n",
       "      <th>dent6</th>\n",
       "      <th>dent_mean</th>\n",
       "      <th>mass</th>\n",
       "    </tr>\n",
       "    <tr>\n",
       "      <th>ID</th>\n",
       "      <th></th>\n",
       "      <th></th>\n",
       "      <th></th>\n",
       "      <th></th>\n",
       "      <th></th>\n",
       "      <th></th>\n",
       "      <th></th>\n",
       "      <th></th>\n",
       "    </tr>\n",
       "  </thead>\n",
       "  <tbody>\n",
       "    <tr>\n",
       "      <th>1</th>\n",
       "      <td>0.213</td>\n",
       "      <td>0.152</td>\n",
       "      <td>0.290</td>\n",
       "      <td>0.213</td>\n",
       "      <td>0.030</td>\n",
       "      <td>0.000</td>\n",
       "      <td>0.158</td>\n",
       "      <td>2195</td>\n",
       "    </tr>\n",
       "    <tr>\n",
       "      <th>2</th>\n",
       "      <td>0.490</td>\n",
       "      <td>0.503</td>\n",
       "      <td>0.508</td>\n",
       "      <td>0.503</td>\n",
       "      <td>0.501</td>\n",
       "      <td>0.501</td>\n",
       "      <td>0.502</td>\n",
       "      <td>2112</td>\n",
       "    </tr>\n",
       "    <tr>\n",
       "      <th>3</th>\n",
       "      <td>1.293</td>\n",
       "      <td>0.996</td>\n",
       "      <td>0.726</td>\n",
       "      <td>0.378</td>\n",
       "      <td>0.056</td>\n",
       "      <td>0.690</td>\n",
       "      <td>0.629</td>\n",
       "      <td>2348</td>\n",
       "    </tr>\n",
       "    <tr>\n",
       "      <th>4</th>\n",
       "      <td>0.437</td>\n",
       "      <td>0.467</td>\n",
       "      <td>0.470</td>\n",
       "      <td>0.488</td>\n",
       "      <td>0.470</td>\n",
       "      <td>0.466</td>\n",
       "      <td>0.469</td>\n",
       "      <td>2350</td>\n",
       "    </tr>\n",
       "    <tr>\n",
       "      <th>5</th>\n",
       "      <td>0.749</td>\n",
       "      <td>0.483</td>\n",
       "      <td>0.526</td>\n",
       "      <td>0.197</td>\n",
       "      <td>0.176</td>\n",
       "      <td>0.380</td>\n",
       "      <td>0.389</td>\n",
       "      <td>2351</td>\n",
       "    </tr>\n",
       "    <tr>\n",
       "      <th>...</th>\n",
       "      <td>...</td>\n",
       "      <td>...</td>\n",
       "      <td>...</td>\n",
       "      <td>...</td>\n",
       "      <td>...</td>\n",
       "      <td>...</td>\n",
       "      <td>...</td>\n",
       "      <td>...</td>\n",
       "    </tr>\n",
       "    <tr>\n",
       "      <th>283</th>\n",
       "      <td>0.326</td>\n",
       "      <td>0.433</td>\n",
       "      <td>0.516</td>\n",
       "      <td>0.477</td>\n",
       "      <td>0.434</td>\n",
       "      <td>0.245</td>\n",
       "      <td>0.429</td>\n",
       "      <td>2714</td>\n",
       "    </tr>\n",
       "    <tr>\n",
       "      <th>284</th>\n",
       "      <td>0.289</td>\n",
       "      <td>0.343</td>\n",
       "      <td>0.382</td>\n",
       "      <td>0.388</td>\n",
       "      <td>0.373</td>\n",
       "      <td>0.321</td>\n",
       "      <td>0.358</td>\n",
       "      <td>2404</td>\n",
       "    </tr>\n",
       "    <tr>\n",
       "      <th>285</th>\n",
       "      <td>0.320</td>\n",
       "      <td>0.353</td>\n",
       "      <td>0.362</td>\n",
       "      <td>0.409</td>\n",
       "      <td>0.364</td>\n",
       "      <td>0.299</td>\n",
       "      <td>0.359</td>\n",
       "      <td>2224</td>\n",
       "    </tr>\n",
       "    <tr>\n",
       "      <th>286</th>\n",
       "      <td>0.480</td>\n",
       "      <td>0.488</td>\n",
       "      <td>0.487</td>\n",
       "      <td>0.484</td>\n",
       "      <td>0.476</td>\n",
       "      <td>0.477</td>\n",
       "      <td>0.483</td>\n",
       "      <td>2217</td>\n",
       "    </tr>\n",
       "    <tr>\n",
       "      <th>287</th>\n",
       "      <td>0.623</td>\n",
       "      <td>0.651</td>\n",
       "      <td>0.694</td>\n",
       "      <td>0.691</td>\n",
       "      <td>0.648</td>\n",
       "      <td>0.591</td>\n",
       "      <td>0.658</td>\n",
       "      <td>2896</td>\n",
       "    </tr>\n",
       "  </tbody>\n",
       "</table>\n",
       "<p>287 rows × 8 columns</p>\n",
       "</div>"
      ],
      "text/plain": [
       "     dent1  dent2  dent3  dent4  dent5  dent6  dent_mean  mass\n",
       "ID                                                            \n",
       "1    0.213  0.152  0.290  0.213  0.030  0.000      0.158  2195\n",
       "2    0.490  0.503  0.508  0.503  0.501  0.501      0.502  2112\n",
       "3    1.293  0.996  0.726  0.378  0.056  0.690      0.629  2348\n",
       "4    0.437  0.467  0.470  0.488  0.470  0.466      0.469  2350\n",
       "5    0.749  0.483  0.526  0.197  0.176  0.380      0.389  2351\n",
       "..     ...    ...    ...    ...    ...    ...        ...   ...\n",
       "283  0.326  0.433  0.516  0.477  0.434  0.245      0.429  2714\n",
       "284  0.289  0.343  0.382  0.388  0.373  0.321      0.358  2404\n",
       "285  0.320  0.353  0.362  0.409  0.364  0.299      0.359  2224\n",
       "286  0.480  0.488  0.487  0.484  0.476  0.477      0.483  2217\n",
       "287  0.623  0.651  0.694  0.691  0.648  0.591      0.658  2896\n",
       "\n",
       "[287 rows x 8 columns]"
      ]
     },
     "execution_count": 13,
     "metadata": {},
     "output_type": "execute_result"
    }
   ],
   "source": [
    "X_luxury = data_luxury.drop('velocity', axis = 1) #zmienne wyjaśniające z klasy Luxury\n",
    "X_luxury"
   ]
  },
  {
   "cell_type": "code",
   "execution_count": 14,
   "id": "bcf0aac7-0c67-48a1-9761-f49da7b76474",
   "metadata": {
    "id": "bcf0aac7-0c67-48a1-9761-f49da7b76474"
   },
   "outputs": [
    {
     "data": {
      "text/html": [
       "<div>\n",
       "<style scoped>\n",
       "    .dataframe tbody tr th:only-of-type {\n",
       "        vertical-align: middle;\n",
       "    }\n",
       "\n",
       "    .dataframe tbody tr th {\n",
       "        vertical-align: top;\n",
       "    }\n",
       "\n",
       "    .dataframe thead th {\n",
       "        text-align: right;\n",
       "    }\n",
       "</style>\n",
       "<table border=\"1\" class=\"dataframe\">\n",
       "  <thead>\n",
       "    <tr style=\"text-align: right;\">\n",
       "      <th></th>\n",
       "      <th>dent1</th>\n",
       "      <th>dent2</th>\n",
       "      <th>dent3</th>\n",
       "      <th>dent4</th>\n",
       "      <th>dent5</th>\n",
       "      <th>dent6</th>\n",
       "      <th>dent_mean</th>\n",
       "      <th>mask_width</th>\n",
       "      <th>mass</th>\n",
       "    </tr>\n",
       "    <tr>\n",
       "      <th>ID</th>\n",
       "      <th></th>\n",
       "      <th></th>\n",
       "      <th></th>\n",
       "      <th></th>\n",
       "      <th></th>\n",
       "      <th></th>\n",
       "      <th></th>\n",
       "      <th></th>\n",
       "      <th></th>\n",
       "    </tr>\n",
       "  </thead>\n",
       "  <tbody>\n",
       "    <tr>\n",
       "      <th>1</th>\n",
       "      <td>0.300</td>\n",
       "      <td>0.493</td>\n",
       "      <td>0.384</td>\n",
       "      <td>0.488</td>\n",
       "      <td>0.416</td>\n",
       "      <td>0.416</td>\n",
       "      <td>0.428</td>\n",
       "      <td>1.689</td>\n",
       "      <td>1378</td>\n",
       "    </tr>\n",
       "    <tr>\n",
       "      <th>2</th>\n",
       "      <td>0.132</td>\n",
       "      <td>0.300</td>\n",
       "      <td>0.267</td>\n",
       "      <td>0.328</td>\n",
       "      <td>0.257</td>\n",
       "      <td>0.257</td>\n",
       "      <td>0.269</td>\n",
       "      <td>1.689</td>\n",
       "      <td>1378</td>\n",
       "    </tr>\n",
       "    <tr>\n",
       "      <th>3</th>\n",
       "      <td>0.218</td>\n",
       "      <td>0.450</td>\n",
       "      <td>0.300</td>\n",
       "      <td>0.500</td>\n",
       "      <td>0.367</td>\n",
       "      <td>0.367</td>\n",
       "      <td>0.382</td>\n",
       "      <td>1.689</td>\n",
       "      <td>1381</td>\n",
       "    </tr>\n",
       "    <tr>\n",
       "      <th>4</th>\n",
       "      <td>0.229</td>\n",
       "      <td>0.348</td>\n",
       "      <td>0.249</td>\n",
       "      <td>0.399</td>\n",
       "      <td>0.306</td>\n",
       "      <td>0.306</td>\n",
       "      <td>0.314</td>\n",
       "      <td>1.689</td>\n",
       "      <td>1384</td>\n",
       "    </tr>\n",
       "    <tr>\n",
       "      <th>5</th>\n",
       "      <td>0.038</td>\n",
       "      <td>0.152</td>\n",
       "      <td>0.279</td>\n",
       "      <td>0.419</td>\n",
       "      <td>0.241</td>\n",
       "      <td>0.076</td>\n",
       "      <td>0.230</td>\n",
       "      <td>1.203</td>\n",
       "      <td>1272</td>\n",
       "    </tr>\n",
       "    <tr>\n",
       "      <th>...</th>\n",
       "      <td>...</td>\n",
       "      <td>...</td>\n",
       "      <td>...</td>\n",
       "      <td>...</td>\n",
       "      <td>...</td>\n",
       "      <td>...</td>\n",
       "      <td>...</td>\n",
       "      <td>...</td>\n",
       "      <td>...</td>\n",
       "    </tr>\n",
       "    <tr>\n",
       "      <th>395</th>\n",
       "      <td>0.270</td>\n",
       "      <td>0.386</td>\n",
       "      <td>0.449</td>\n",
       "      <td>0.442</td>\n",
       "      <td>0.375</td>\n",
       "      <td>0.259</td>\n",
       "      <td>0.383</td>\n",
       "      <td>1.370</td>\n",
       "      <td>1263</td>\n",
       "    </tr>\n",
       "    <tr>\n",
       "      <th>396</th>\n",
       "      <td>0.413</td>\n",
       "      <td>0.476</td>\n",
       "      <td>0.532</td>\n",
       "      <td>0.530</td>\n",
       "      <td>0.492</td>\n",
       "      <td>0.437</td>\n",
       "      <td>0.491</td>\n",
       "      <td>1.200</td>\n",
       "      <td>1394</td>\n",
       "    </tr>\n",
       "    <tr>\n",
       "      <th>397</th>\n",
       "      <td>0.271</td>\n",
       "      <td>0.459</td>\n",
       "      <td>0.473</td>\n",
       "      <td>0.479</td>\n",
       "      <td>0.437</td>\n",
       "      <td>0.254</td>\n",
       "      <td>0.422</td>\n",
       "      <td>1.537</td>\n",
       "      <td>1336</td>\n",
       "    </tr>\n",
       "    <tr>\n",
       "      <th>398</th>\n",
       "      <td>0.290</td>\n",
       "      <td>0.448</td>\n",
       "      <td>0.509</td>\n",
       "      <td>0.527</td>\n",
       "      <td>0.311</td>\n",
       "      <td>0.417</td>\n",
       "      <td>0.430</td>\n",
       "      <td>1.518</td>\n",
       "      <td>1440</td>\n",
       "    </tr>\n",
       "    <tr>\n",
       "      <th>399</th>\n",
       "      <td>0.436</td>\n",
       "      <td>0.472</td>\n",
       "      <td>0.501</td>\n",
       "      <td>0.506</td>\n",
       "      <td>0.468</td>\n",
       "      <td>0.385</td>\n",
       "      <td>0.471</td>\n",
       "      <td>1.230</td>\n",
       "      <td>1350</td>\n",
       "    </tr>\n",
       "  </tbody>\n",
       "</table>\n",
       "<p>399 rows × 9 columns</p>\n",
       "</div>"
      ],
      "text/plain": [
       "     dent1  dent2  dent3  dent4  dent5  dent6  dent_mean  mask_width  mass\n",
       "ID                                                                        \n",
       "1    0.300  0.493  0.384  0.488  0.416  0.416      0.428       1.689  1378\n",
       "2    0.132  0.300  0.267  0.328  0.257  0.257      0.269       1.689  1378\n",
       "3    0.218  0.450  0.300  0.500  0.367  0.367      0.382       1.689  1381\n",
       "4    0.229  0.348  0.249  0.399  0.306  0.306      0.314       1.689  1384\n",
       "5    0.038  0.152  0.279  0.419  0.241  0.076      0.230       1.203  1272\n",
       "..     ...    ...    ...    ...    ...    ...        ...         ...   ...\n",
       "395  0.270  0.386  0.449  0.442  0.375  0.259      0.383       1.370  1263\n",
       "396  0.413  0.476  0.532  0.530  0.492  0.437      0.491       1.200  1394\n",
       "397  0.271  0.459  0.473  0.479  0.437  0.254      0.422       1.537  1336\n",
       "398  0.290  0.448  0.509  0.527  0.311  0.417      0.430       1.518  1440\n",
       "399  0.436  0.472  0.501  0.506  0.468  0.385      0.471       1.230  1350\n",
       "\n",
       "[399 rows x 9 columns]"
      ]
     },
     "execution_count": 14,
     "metadata": {},
     "output_type": "execute_result"
    }
   ],
   "source": [
    "X_compact = data_compact.drop('velocity', axis = 1) #zmienne wyjaśniające z klasy Compact\n",
    "X_compact"
   ]
  },
  {
   "cell_type": "markdown",
   "id": "9c263410-f11c-4be7-b249-be39dc8eb982",
   "metadata": {
    "id": "9c263410-f11c-4be7-b249-be39dc8eb982"
   },
   "source": [
    "Teraz zapiszmy osobno zmienne wyjaśniane z obu klas:"
   ]
  },
  {
   "cell_type": "code",
   "execution_count": 15,
   "id": "bb705ba7-1762-4325-a965-c0c8ed708ebf",
   "metadata": {
    "id": "bb705ba7-1762-4325-a965-c0c8ed708ebf"
   },
   "outputs": [
    {
     "data": {
      "text/html": [
       "<div>\n",
       "<style scoped>\n",
       "    .dataframe tbody tr th:only-of-type {\n",
       "        vertical-align: middle;\n",
       "    }\n",
       "\n",
       "    .dataframe tbody tr th {\n",
       "        vertical-align: top;\n",
       "    }\n",
       "\n",
       "    .dataframe thead th {\n",
       "        text-align: right;\n",
       "    }\n",
       "</style>\n",
       "<table border=\"1\" class=\"dataframe\">\n",
       "  <thead>\n",
       "    <tr style=\"text-align: right;\">\n",
       "      <th></th>\n",
       "      <th>velocity</th>\n",
       "    </tr>\n",
       "    <tr>\n",
       "      <th>ID</th>\n",
       "      <th></th>\n",
       "    </tr>\n",
       "  </thead>\n",
       "  <tbody>\n",
       "    <tr>\n",
       "      <th>1</th>\n",
       "      <td>15.722222</td>\n",
       "    </tr>\n",
       "    <tr>\n",
       "      <th>2</th>\n",
       "      <td>13.222222</td>\n",
       "    </tr>\n",
       "    <tr>\n",
       "      <th>3</th>\n",
       "      <td>16.944444</td>\n",
       "    </tr>\n",
       "    <tr>\n",
       "      <th>4</th>\n",
       "      <td>13.777778</td>\n",
       "    </tr>\n",
       "    <tr>\n",
       "      <th>5</th>\n",
       "      <td>13.777778</td>\n",
       "    </tr>\n",
       "    <tr>\n",
       "      <th>...</th>\n",
       "      <td>...</td>\n",
       "    </tr>\n",
       "    <tr>\n",
       "      <th>283</th>\n",
       "      <td>15.694444</td>\n",
       "    </tr>\n",
       "    <tr>\n",
       "      <th>284</th>\n",
       "      <td>15.647222</td>\n",
       "    </tr>\n",
       "    <tr>\n",
       "      <th>285</th>\n",
       "      <td>15.638889</td>\n",
       "    </tr>\n",
       "    <tr>\n",
       "      <th>286</th>\n",
       "      <td>15.638889</td>\n",
       "    </tr>\n",
       "    <tr>\n",
       "      <th>287</th>\n",
       "      <td>15.638889</td>\n",
       "    </tr>\n",
       "  </tbody>\n",
       "</table>\n",
       "<p>287 rows × 1 columns</p>\n",
       "</div>"
      ],
      "text/plain": [
       "      velocity\n",
       "ID            \n",
       "1    15.722222\n",
       "2    13.222222\n",
       "3    16.944444\n",
       "4    13.777778\n",
       "5    13.777778\n",
       "..         ...\n",
       "283  15.694444\n",
       "284  15.647222\n",
       "285  15.638889\n",
       "286  15.638889\n",
       "287  15.638889\n",
       "\n",
       "[287 rows x 1 columns]"
      ]
     },
     "execution_count": 15,
     "metadata": {},
     "output_type": "execute_result"
    }
   ],
   "source": [
    "y_luxury = pd.DataFrame(data_luxury.loc[:,'velocity']) #zmienna wyjaśniana z klasy Luxury\n",
    "y_luxury"
   ]
  },
  {
   "cell_type": "code",
   "execution_count": 16,
   "id": "6cac0353-5c90-436e-ae6c-e327d1e323d3",
   "metadata": {
    "id": "6cac0353-5c90-436e-ae6c-e327d1e323d3"
   },
   "outputs": [
    {
     "data": {
      "text/html": [
       "<div>\n",
       "<style scoped>\n",
       "    .dataframe tbody tr th:only-of-type {\n",
       "        vertical-align: middle;\n",
       "    }\n",
       "\n",
       "    .dataframe tbody tr th {\n",
       "        vertical-align: top;\n",
       "    }\n",
       "\n",
       "    .dataframe thead th {\n",
       "        text-align: right;\n",
       "    }\n",
       "</style>\n",
       "<table border=\"1\" class=\"dataframe\">\n",
       "  <thead>\n",
       "    <tr style=\"text-align: right;\">\n",
       "      <th></th>\n",
       "      <th>velocity</th>\n",
       "    </tr>\n",
       "    <tr>\n",
       "      <th>ID</th>\n",
       "      <th></th>\n",
       "    </tr>\n",
       "  </thead>\n",
       "  <tbody>\n",
       "    <tr>\n",
       "      <th>1</th>\n",
       "      <td>20.777778</td>\n",
       "    </tr>\n",
       "    <tr>\n",
       "      <th>2</th>\n",
       "      <td>19.972222</td>\n",
       "    </tr>\n",
       "    <tr>\n",
       "      <th>3</th>\n",
       "      <td>21.111111</td>\n",
       "    </tr>\n",
       "    <tr>\n",
       "      <th>4</th>\n",
       "      <td>20.777778</td>\n",
       "    </tr>\n",
       "    <tr>\n",
       "      <th>5</th>\n",
       "      <td>8.944444</td>\n",
       "    </tr>\n",
       "    <tr>\n",
       "      <th>...</th>\n",
       "      <td>...</td>\n",
       "    </tr>\n",
       "    <tr>\n",
       "      <th>395</th>\n",
       "      <td>11.055556</td>\n",
       "    </tr>\n",
       "    <tr>\n",
       "      <th>396</th>\n",
       "      <td>15.638889</td>\n",
       "    </tr>\n",
       "    <tr>\n",
       "      <th>397</th>\n",
       "      <td>15.647222</td>\n",
       "    </tr>\n",
       "    <tr>\n",
       "      <th>398</th>\n",
       "      <td>15.694444</td>\n",
       "    </tr>\n",
       "    <tr>\n",
       "      <th>399</th>\n",
       "      <td>15.694444</td>\n",
       "    </tr>\n",
       "  </tbody>\n",
       "</table>\n",
       "<p>399 rows × 1 columns</p>\n",
       "</div>"
      ],
      "text/plain": [
       "      velocity\n",
       "ID            \n",
       "1    20.777778\n",
       "2    19.972222\n",
       "3    21.111111\n",
       "4    20.777778\n",
       "5     8.944444\n",
       "..         ...\n",
       "395  11.055556\n",
       "396  15.638889\n",
       "397  15.647222\n",
       "398  15.694444\n",
       "399  15.694444\n",
       "\n",
       "[399 rows x 1 columns]"
      ]
     },
     "execution_count": 16,
     "metadata": {},
     "output_type": "execute_result"
    }
   ],
   "source": [
    "y_compact = pd.DataFrame(data_compact.loc[:,'velocity']) #zmienna wyjaśniana z klasy Compact\n",
    "y_compact"
   ]
  },
  {
   "cell_type": "markdown",
   "id": "3efc08f8-3d59-4cc1-b3b0-a9090ddcb65f",
   "metadata": {
    "id": "3efc08f8-3d59-4cc1-b3b0-a9090ddcb65f"
   },
   "source": [
    "Na tym etapie nie wiemy jeszcze, czy standaryzacja zmiennych wyjaśniających będzie przydatna w zbudowaniu najlepszego modelu, czy nie, ale 'na wszelki wypadek' dokonamy jej już teraz. Do standaryzacji użyjemy metody StandardScaler z pakietu sklearn.preprocessing (zwraca ona dane po odjęciu średniej, a następnie podzieleniu przez odchylenie standardowe). Podajemy tutaj link do opisu w dokumentacji tej metody: [link](https://scikit-learn.org/stable/modules/generated/sklearn.preprocessing.StandardScaler.html). Utwórzmy więc na samym początku zmienną typu StandardScaler:"
   ]
  },
  {
   "cell_type": "code",
   "execution_count": 17,
   "id": "c421b556-7b48-421d-bdd8-dfed782c474f",
   "metadata": {
    "id": "c421b556-7b48-421d-bdd8-dfed782c474f"
   },
   "outputs": [],
   "source": [
    "sc_luxury = StandardScaler() #tworzymy zmienną typu StandardScaler"
   ]
  },
  {
   "cell_type": "markdown",
   "id": "999d0255-31b8-4eb0-9a68-1e6e07364c8e",
   "metadata": {
    "id": "999d0255-31b8-4eb0-9a68-1e6e07364c8e"
   },
   "source": [
    "Wynikiem poniższego bloku poleceń będzie otrzymanie ustandaryzowanych zmiennych wyjaśniających z klasy Luxury:"
   ]
  },
  {
   "cell_type": "code",
   "execution_count": 18,
   "id": "57736460-ffa0-4a4b-bd9b-007c9c5c6018",
   "metadata": {
    "id": "57736460-ffa0-4a4b-bd9b-007c9c5c6018"
   },
   "outputs": [
    {
     "data": {
      "text/html": [
       "<div>\n",
       "<style scoped>\n",
       "    .dataframe tbody tr th:only-of-type {\n",
       "        vertical-align: middle;\n",
       "    }\n",
       "\n",
       "    .dataframe tbody tr th {\n",
       "        vertical-align: top;\n",
       "    }\n",
       "\n",
       "    .dataframe thead th {\n",
       "        text-align: right;\n",
       "    }\n",
       "</style>\n",
       "<table border=\"1\" class=\"dataframe\">\n",
       "  <thead>\n",
       "    <tr style=\"text-align: right;\">\n",
       "      <th></th>\n",
       "      <th>dent1</th>\n",
       "      <th>dent2</th>\n",
       "      <th>dent3</th>\n",
       "      <th>dent4</th>\n",
       "      <th>dent5</th>\n",
       "      <th>dent6</th>\n",
       "      <th>dent_mean</th>\n",
       "      <th>mass</th>\n",
       "    </tr>\n",
       "    <tr>\n",
       "      <th>ID</th>\n",
       "      <th></th>\n",
       "      <th></th>\n",
       "      <th></th>\n",
       "      <th></th>\n",
       "      <th></th>\n",
       "      <th></th>\n",
       "      <th></th>\n",
       "      <th></th>\n",
       "    </tr>\n",
       "  </thead>\n",
       "  <tbody>\n",
       "    <tr>\n",
       "      <th>1</th>\n",
       "      <td>-1.269505</td>\n",
       "      <td>-2.134145</td>\n",
       "      <td>-1.310216</td>\n",
       "      <td>-1.668048</td>\n",
       "      <td>-2.648446</td>\n",
       "      <td>-2.778463</td>\n",
       "      <td>-2.166869</td>\n",
       "      <td>-0.623626</td>\n",
       "    </tr>\n",
       "    <tr>\n",
       "      <th>2</th>\n",
       "      <td>0.536295</td>\n",
       "      <td>0.312285</td>\n",
       "      <td>0.189619</td>\n",
       "      <td>0.241971</td>\n",
       "      <td>0.461052</td>\n",
       "      <td>0.882070</td>\n",
       "      <td>0.421492</td>\n",
       "      <td>-1.009881</td>\n",
       "    </tr>\n",
       "    <tr>\n",
       "      <th>3</th>\n",
       "      <td>5.771160</td>\n",
       "      <td>3.748439</td>\n",
       "      <td>1.689454</td>\n",
       "      <td>-0.581313</td>\n",
       "      <td>-2.476797</td>\n",
       "      <td>2.262989</td>\n",
       "      <td>1.377079</td>\n",
       "      <td>0.088388</td>\n",
       "    </tr>\n",
       "    <tr>\n",
       "      <th>4</th>\n",
       "      <td>0.190781</td>\n",
       "      <td>0.061369</td>\n",
       "      <td>-0.071820</td>\n",
       "      <td>0.143177</td>\n",
       "      <td>0.256393</td>\n",
       "      <td>0.626344</td>\n",
       "      <td>0.173190</td>\n",
       "      <td>0.097695</td>\n",
       "    </tr>\n",
       "    <tr>\n",
       "      <th>5</th>\n",
       "      <td>2.224751</td>\n",
       "      <td>0.172887</td>\n",
       "      <td>0.313458</td>\n",
       "      <td>-1.773428</td>\n",
       "      <td>-1.684568</td>\n",
       "      <td>-0.002011</td>\n",
       "      <td>-0.428754</td>\n",
       "      <td>0.102349</td>\n",
       "    </tr>\n",
       "    <tr>\n",
       "      <th>...</th>\n",
       "      <td>...</td>\n",
       "      <td>...</td>\n",
       "      <td>...</td>\n",
       "      <td>...</td>\n",
       "      <td>...</td>\n",
       "      <td>...</td>\n",
       "      <td>...</td>\n",
       "      <td>...</td>\n",
       "    </tr>\n",
       "    <tr>\n",
       "      <th>283</th>\n",
       "      <td>-0.532843</td>\n",
       "      <td>-0.175607</td>\n",
       "      <td>0.244659</td>\n",
       "      <td>0.070728</td>\n",
       "      <td>0.018725</td>\n",
       "      <td>-0.988382</td>\n",
       "      <td>-0.127782</td>\n",
       "      <td>1.791635</td>\n",
       "    </tr>\n",
       "    <tr>\n",
       "      <th>284</th>\n",
       "      <td>-0.774051</td>\n",
       "      <td>-0.802897</td>\n",
       "      <td>-0.677258</td>\n",
       "      <td>-0.515450</td>\n",
       "      <td>-0.383992</td>\n",
       "      <td>-0.433092</td>\n",
       "      <td>-0.662008</td>\n",
       "      <td>0.348994</td>\n",
       "    </tr>\n",
       "    <tr>\n",
       "      <th>285</th>\n",
       "      <td>-0.571958</td>\n",
       "      <td>-0.733198</td>\n",
       "      <td>-0.814858</td>\n",
       "      <td>-0.377139</td>\n",
       "      <td>-0.443409</td>\n",
       "      <td>-0.593834</td>\n",
       "      <td>-0.654483</td>\n",
       "      <td>-0.488669</td>\n",
       "    </tr>\n",
       "    <tr>\n",
       "      <th>286</th>\n",
       "      <td>0.471104</td>\n",
       "      <td>0.207737</td>\n",
       "      <td>0.045139</td>\n",
       "      <td>0.116832</td>\n",
       "      <td>0.296005</td>\n",
       "      <td>0.706715</td>\n",
       "      <td>0.278530</td>\n",
       "      <td>-0.521245</td>\n",
       "    </tr>\n",
       "    <tr>\n",
       "      <th>287</th>\n",
       "      <td>1.403340</td>\n",
       "      <td>1.343828</td>\n",
       "      <td>1.469295</td>\n",
       "      <td>1.480190</td>\n",
       "      <td>1.431533</td>\n",
       "      <td>1.539650</td>\n",
       "      <td>1.595284</td>\n",
       "      <td>2.638605</td>\n",
       "    </tr>\n",
       "  </tbody>\n",
       "</table>\n",
       "<p>287 rows × 8 columns</p>\n",
       "</div>"
      ],
      "text/plain": [
       "        dent1     dent2     dent3     dent4     dent5     dent6  dent_mean  \\\n",
       "ID                                                                           \n",
       "1   -1.269505 -2.134145 -1.310216 -1.668048 -2.648446 -2.778463  -2.166869   \n",
       "2    0.536295  0.312285  0.189619  0.241971  0.461052  0.882070   0.421492   \n",
       "3    5.771160  3.748439  1.689454 -0.581313 -2.476797  2.262989   1.377079   \n",
       "4    0.190781  0.061369 -0.071820  0.143177  0.256393  0.626344   0.173190   \n",
       "5    2.224751  0.172887  0.313458 -1.773428 -1.684568 -0.002011  -0.428754   \n",
       "..        ...       ...       ...       ...       ...       ...        ...   \n",
       "283 -0.532843 -0.175607  0.244659  0.070728  0.018725 -0.988382  -0.127782   \n",
       "284 -0.774051 -0.802897 -0.677258 -0.515450 -0.383992 -0.433092  -0.662008   \n",
       "285 -0.571958 -0.733198 -0.814858 -0.377139 -0.443409 -0.593834  -0.654483   \n",
       "286  0.471104  0.207737  0.045139  0.116832  0.296005  0.706715   0.278530   \n",
       "287  1.403340  1.343828  1.469295  1.480190  1.431533  1.539650   1.595284   \n",
       "\n",
       "         mass  \n",
       "ID             \n",
       "1   -0.623626  \n",
       "2   -1.009881  \n",
       "3    0.088388  \n",
       "4    0.097695  \n",
       "5    0.102349  \n",
       "..        ...  \n",
       "283  1.791635  \n",
       "284  0.348994  \n",
       "285 -0.488669  \n",
       "286 -0.521245  \n",
       "287  2.638605  \n",
       "\n",
       "[287 rows x 8 columns]"
      ]
     },
     "execution_count": 18,
     "metadata": {},
     "output_type": "execute_result"
    }
   ],
   "source": [
    "X_luxury_std = sc_luxury.fit_transform(X_luxury)\n",
    "X_luxury_std = pd.DataFrame(X_luxury_std)\n",
    "X_luxury_std.insert(loc=0, column='ID', value=[i + 1 for i in range(X_luxury_std.shape[0])])  #jak już frame jest zbudowany,\n",
    "                                                                                              #dodaję kolumnnę naszych indeksów (od 1 do ilości danych)\n",
    "X_luxury_std = X_luxury_std.set_index('ID') #ustawiam to jako nowy indeks, usuwając stary, który dodał się automatycznie\n",
    "X_luxury_std.columns = X_luxury.columns\n",
    "X_luxury_std"
   ]
  },
  {
   "cell_type": "markdown",
   "id": "3bf0e484-0fe2-4b3d-96db-03ff66397356",
   "metadata": {
    "id": "3bf0e484-0fe2-4b3d-96db-03ff66397356"
   },
   "source": [
    "Aby dane w jakiś dziwny sposób się nie pomieszały, tworzymy teraz osobną zmienną typu StandardScaler, specjalnie dla klasy Compact:"
   ]
  },
  {
   "cell_type": "code",
   "execution_count": 19,
   "id": "1a9c7436-c28c-48ed-a170-8168a09837ce",
   "metadata": {
    "id": "1a9c7436-c28c-48ed-a170-8168a09837ce"
   },
   "outputs": [],
   "source": [
    "sc_compact = StandardScaler() #tworzymy zmienną typu StandardScaler"
   ]
  },
  {
   "cell_type": "markdown",
   "id": "9718c77a-5933-4a9c-a7be-8519482db062",
   "metadata": {
    "id": "9718c77a-5933-4a9c-a7be-8519482db062"
   },
   "source": [
    "Wykonujemy teraz analogiczne czynności dla klasy Compact:"
   ]
  },
  {
   "cell_type": "code",
   "execution_count": 20,
   "id": "274bd52c-f2eb-4e74-8222-a5b4da51d6a3",
   "metadata": {
    "id": "274bd52c-f2eb-4e74-8222-a5b4da51d6a3"
   },
   "outputs": [
    {
     "data": {
      "text/html": [
       "<div>\n",
       "<style scoped>\n",
       "    .dataframe tbody tr th:only-of-type {\n",
       "        vertical-align: middle;\n",
       "    }\n",
       "\n",
       "    .dataframe tbody tr th {\n",
       "        vertical-align: top;\n",
       "    }\n",
       "\n",
       "    .dataframe thead th {\n",
       "        text-align: right;\n",
       "    }\n",
       "</style>\n",
       "<table border=\"1\" class=\"dataframe\">\n",
       "  <thead>\n",
       "    <tr style=\"text-align: right;\">\n",
       "      <th></th>\n",
       "      <th>dent1</th>\n",
       "      <th>dent2</th>\n",
       "      <th>dent3</th>\n",
       "      <th>dent4</th>\n",
       "      <th>dent5</th>\n",
       "      <th>dent6</th>\n",
       "      <th>dent_mean</th>\n",
       "      <th>mask_width</th>\n",
       "      <th>mass</th>\n",
       "    </tr>\n",
       "    <tr>\n",
       "      <th>ID</th>\n",
       "      <th></th>\n",
       "      <th></th>\n",
       "      <th></th>\n",
       "      <th></th>\n",
       "      <th></th>\n",
       "      <th></th>\n",
       "      <th></th>\n",
       "      <th></th>\n",
       "      <th></th>\n",
       "    </tr>\n",
       "  </thead>\n",
       "  <tbody>\n",
       "    <tr>\n",
       "      <th>1</th>\n",
       "      <td>-0.766353</td>\n",
       "      <td>0.072565</td>\n",
       "      <td>-0.686429</td>\n",
       "      <td>0.133810</td>\n",
       "      <td>-0.088937</td>\n",
       "      <td>0.181240</td>\n",
       "      <td>-0.201124</td>\n",
       "      <td>1.342587</td>\n",
       "      <td>0.217503</td>\n",
       "    </tr>\n",
       "    <tr>\n",
       "      <th>2</th>\n",
       "      <td>-1.689662</td>\n",
       "      <td>-1.162088</td>\n",
       "      <td>-1.438790</td>\n",
       "      <td>-0.876408</td>\n",
       "      <td>-1.074825</td>\n",
       "      <td>-0.781747</td>\n",
       "      <td>-1.325510</td>\n",
       "      <td>1.342587</td>\n",
       "      <td>0.217503</td>\n",
       "    </tr>\n",
       "    <tr>\n",
       "      <th>3</th>\n",
       "      <td>-1.217016</td>\n",
       "      <td>-0.202513</td>\n",
       "      <td>-1.226585</td>\n",
       "      <td>0.209576</td>\n",
       "      <td>-0.392764</td>\n",
       "      <td>-0.115529</td>\n",
       "      <td>-0.526418</td>\n",
       "      <td>1.342587</td>\n",
       "      <td>0.266672</td>\n",
       "    </tr>\n",
       "    <tr>\n",
       "      <th>4</th>\n",
       "      <td>-1.156561</td>\n",
       "      <td>-0.855024</td>\n",
       "      <td>-1.554537</td>\n",
       "      <td>-0.428124</td>\n",
       "      <td>-0.770998</td>\n",
       "      <td>-0.484977</td>\n",
       "      <td>-1.007288</td>\n",
       "      <td>1.342587</td>\n",
       "      <td>0.315842</td>\n",
       "    </tr>\n",
       "    <tr>\n",
       "      <th>5</th>\n",
       "      <td>-2.206276</td>\n",
       "      <td>-2.108869</td>\n",
       "      <td>-1.361624</td>\n",
       "      <td>-0.301847</td>\n",
       "      <td>-1.174034</td>\n",
       "      <td>-1.877977</td>\n",
       "      <td>-1.601303</td>\n",
       "      <td>-2.046943</td>\n",
       "      <td>-1.519811</td>\n",
       "    </tr>\n",
       "    <tr>\n",
       "      <th>...</th>\n",
       "      <td>...</td>\n",
       "      <td>...</td>\n",
       "      <td>...</td>\n",
       "      <td>...</td>\n",
       "      <td>...</td>\n",
       "      <td>...</td>\n",
       "      <td>...</td>\n",
       "      <td>...</td>\n",
       "      <td>...</td>\n",
       "    </tr>\n",
       "    <tr>\n",
       "      <th>395</th>\n",
       "      <td>-0.931230</td>\n",
       "      <td>-0.611932</td>\n",
       "      <td>-0.268450</td>\n",
       "      <td>-0.156628</td>\n",
       "      <td>-0.343160</td>\n",
       "      <td>-0.769634</td>\n",
       "      <td>-0.519347</td>\n",
       "      <td>-0.882228</td>\n",
       "      <td>-1.667319</td>\n",
       "    </tr>\n",
       "    <tr>\n",
       "      <th>396</th>\n",
       "      <td>-0.145317</td>\n",
       "      <td>-0.036186</td>\n",
       "      <td>0.265276</td>\n",
       "      <td>0.398992</td>\n",
       "      <td>0.382305</td>\n",
       "      <td>0.308427</td>\n",
       "      <td>0.244387</td>\n",
       "      <td>-2.067866</td>\n",
       "      <td>0.479739</td>\n",
       "    </tr>\n",
       "    <tr>\n",
       "      <th>397</th>\n",
       "      <td>-0.925734</td>\n",
       "      <td>-0.144938</td>\n",
       "      <td>-0.114120</td>\n",
       "      <td>0.076985</td>\n",
       "      <td>0.041275</td>\n",
       "      <td>-0.799916</td>\n",
       "      <td>-0.243554</td>\n",
       "      <td>0.282487</td>\n",
       "      <td>-0.470867</td>\n",
       "    </tr>\n",
       "    <tr>\n",
       "      <th>398</th>\n",
       "      <td>-0.821312</td>\n",
       "      <td>-0.215307</td>\n",
       "      <td>0.117376</td>\n",
       "      <td>0.380050</td>\n",
       "      <td>-0.739995</td>\n",
       "      <td>0.187297</td>\n",
       "      <td>-0.186981</td>\n",
       "      <td>0.149975</td>\n",
       "      <td>1.233668</td>\n",
       "    </tr>\n",
       "    <tr>\n",
       "      <th>399</th>\n",
       "      <td>-0.018912</td>\n",
       "      <td>-0.061775</td>\n",
       "      <td>0.065932</td>\n",
       "      <td>0.247459</td>\n",
       "      <td>0.233492</td>\n",
       "      <td>-0.006512</td>\n",
       "      <td>0.102955</td>\n",
       "      <td>-1.858635</td>\n",
       "      <td>-0.241410</td>\n",
       "    </tr>\n",
       "  </tbody>\n",
       "</table>\n",
       "<p>399 rows × 9 columns</p>\n",
       "</div>"
      ],
      "text/plain": [
       "        dent1     dent2     dent3     dent4     dent5     dent6  dent_mean  \\\n",
       "ID                                                                           \n",
       "1   -0.766353  0.072565 -0.686429  0.133810 -0.088937  0.181240  -0.201124   \n",
       "2   -1.689662 -1.162088 -1.438790 -0.876408 -1.074825 -0.781747  -1.325510   \n",
       "3   -1.217016 -0.202513 -1.226585  0.209576 -0.392764 -0.115529  -0.526418   \n",
       "4   -1.156561 -0.855024 -1.554537 -0.428124 -0.770998 -0.484977  -1.007288   \n",
       "5   -2.206276 -2.108869 -1.361624 -0.301847 -1.174034 -1.877977  -1.601303   \n",
       "..        ...       ...       ...       ...       ...       ...        ...   \n",
       "395 -0.931230 -0.611932 -0.268450 -0.156628 -0.343160 -0.769634  -0.519347   \n",
       "396 -0.145317 -0.036186  0.265276  0.398992  0.382305  0.308427   0.244387   \n",
       "397 -0.925734 -0.144938 -0.114120  0.076985  0.041275 -0.799916  -0.243554   \n",
       "398 -0.821312 -0.215307  0.117376  0.380050 -0.739995  0.187297  -0.186981   \n",
       "399 -0.018912 -0.061775  0.065932  0.247459  0.233492 -0.006512   0.102955   \n",
       "\n",
       "     mask_width      mass  \n",
       "ID                         \n",
       "1      1.342587  0.217503  \n",
       "2      1.342587  0.217503  \n",
       "3      1.342587  0.266672  \n",
       "4      1.342587  0.315842  \n",
       "5     -2.046943 -1.519811  \n",
       "..          ...       ...  \n",
       "395   -0.882228 -1.667319  \n",
       "396   -2.067866  0.479739  \n",
       "397    0.282487 -0.470867  \n",
       "398    0.149975  1.233668  \n",
       "399   -1.858635 -0.241410  \n",
       "\n",
       "[399 rows x 9 columns]"
      ]
     },
     "execution_count": 20,
     "metadata": {},
     "output_type": "execute_result"
    }
   ],
   "source": [
    "X_compact_std = sc_compact.fit_transform(X_compact)\n",
    "X_compact_std = pd.DataFrame(X_compact_std)\n",
    "X_compact_std.insert(loc=0, column='ID', value=[i + 1 for i in range(X_compact_std.shape[0])])  #jak już frame jest zbudowany,\n",
    "                                                                                              #dodaję kolumnnę naszych indeksów (od 1 do ilości danych)\n",
    "X_compact_std = X_compact_std.set_index('ID') #ustawiam to jako nowy indeks, usuwając stary, który dodał się automatycznie\n",
    "X_compact_std.columns = X_compact.columns\n",
    "X_compact_std"
   ]
  },
  {
   "cell_type": "markdown",
   "id": "a5f65482-1884-42ab-8809-0300e82079e6",
   "metadata": {
    "id": "a5f65482-1884-42ab-8809-0300e82079e6"
   },
   "source": [
    "Utworzymy więc teraz jeszcze zmienne typu data frame, w których będą wszystkie dane, ale zmienne wyjaśniające będą już ustandaryzowane:"
   ]
  },
  {
   "cell_type": "code",
   "execution_count": 21,
   "id": "6a345cec-377c-440d-b37f-f10b9efc0282",
   "metadata": {
    "id": "6a345cec-377c-440d-b37f-f10b9efc0282"
   },
   "outputs": [
    {
     "data": {
      "text/html": [
       "<div>\n",
       "<style scoped>\n",
       "    .dataframe tbody tr th:only-of-type {\n",
       "        vertical-align: middle;\n",
       "    }\n",
       "\n",
       "    .dataframe tbody tr th {\n",
       "        vertical-align: top;\n",
       "    }\n",
       "\n",
       "    .dataframe thead th {\n",
       "        text-align: right;\n",
       "    }\n",
       "</style>\n",
       "<table border=\"1\" class=\"dataframe\">\n",
       "  <thead>\n",
       "    <tr style=\"text-align: right;\">\n",
       "      <th></th>\n",
       "      <th>dent1</th>\n",
       "      <th>dent2</th>\n",
       "      <th>dent3</th>\n",
       "      <th>dent4</th>\n",
       "      <th>dent5</th>\n",
       "      <th>dent6</th>\n",
       "      <th>dent_mean</th>\n",
       "      <th>mass</th>\n",
       "      <th>velocity</th>\n",
       "    </tr>\n",
       "    <tr>\n",
       "      <th>ID</th>\n",
       "      <th></th>\n",
       "      <th></th>\n",
       "      <th></th>\n",
       "      <th></th>\n",
       "      <th></th>\n",
       "      <th></th>\n",
       "      <th></th>\n",
       "      <th></th>\n",
       "      <th></th>\n",
       "    </tr>\n",
       "  </thead>\n",
       "  <tbody>\n",
       "    <tr>\n",
       "      <th>1</th>\n",
       "      <td>-1.269505</td>\n",
       "      <td>-2.134145</td>\n",
       "      <td>-1.310216</td>\n",
       "      <td>-1.668048</td>\n",
       "      <td>-2.648446</td>\n",
       "      <td>-2.778463</td>\n",
       "      <td>-2.166869</td>\n",
       "      <td>-0.623626</td>\n",
       "      <td>15.722222</td>\n",
       "    </tr>\n",
       "    <tr>\n",
       "      <th>2</th>\n",
       "      <td>0.536295</td>\n",
       "      <td>0.312285</td>\n",
       "      <td>0.189619</td>\n",
       "      <td>0.241971</td>\n",
       "      <td>0.461052</td>\n",
       "      <td>0.882070</td>\n",
       "      <td>0.421492</td>\n",
       "      <td>-1.009881</td>\n",
       "      <td>13.222222</td>\n",
       "    </tr>\n",
       "    <tr>\n",
       "      <th>3</th>\n",
       "      <td>5.771160</td>\n",
       "      <td>3.748439</td>\n",
       "      <td>1.689454</td>\n",
       "      <td>-0.581313</td>\n",
       "      <td>-2.476797</td>\n",
       "      <td>2.262989</td>\n",
       "      <td>1.377079</td>\n",
       "      <td>0.088388</td>\n",
       "      <td>16.944444</td>\n",
       "    </tr>\n",
       "    <tr>\n",
       "      <th>4</th>\n",
       "      <td>0.190781</td>\n",
       "      <td>0.061369</td>\n",
       "      <td>-0.071820</td>\n",
       "      <td>0.143177</td>\n",
       "      <td>0.256393</td>\n",
       "      <td>0.626344</td>\n",
       "      <td>0.173190</td>\n",
       "      <td>0.097695</td>\n",
       "      <td>13.777778</td>\n",
       "    </tr>\n",
       "    <tr>\n",
       "      <th>5</th>\n",
       "      <td>2.224751</td>\n",
       "      <td>0.172887</td>\n",
       "      <td>0.313458</td>\n",
       "      <td>-1.773428</td>\n",
       "      <td>-1.684568</td>\n",
       "      <td>-0.002011</td>\n",
       "      <td>-0.428754</td>\n",
       "      <td>0.102349</td>\n",
       "      <td>13.777778</td>\n",
       "    </tr>\n",
       "    <tr>\n",
       "      <th>...</th>\n",
       "      <td>...</td>\n",
       "      <td>...</td>\n",
       "      <td>...</td>\n",
       "      <td>...</td>\n",
       "      <td>...</td>\n",
       "      <td>...</td>\n",
       "      <td>...</td>\n",
       "      <td>...</td>\n",
       "      <td>...</td>\n",
       "    </tr>\n",
       "    <tr>\n",
       "      <th>283</th>\n",
       "      <td>-0.532843</td>\n",
       "      <td>-0.175607</td>\n",
       "      <td>0.244659</td>\n",
       "      <td>0.070728</td>\n",
       "      <td>0.018725</td>\n",
       "      <td>-0.988382</td>\n",
       "      <td>-0.127782</td>\n",
       "      <td>1.791635</td>\n",
       "      <td>15.694444</td>\n",
       "    </tr>\n",
       "    <tr>\n",
       "      <th>284</th>\n",
       "      <td>-0.774051</td>\n",
       "      <td>-0.802897</td>\n",
       "      <td>-0.677258</td>\n",
       "      <td>-0.515450</td>\n",
       "      <td>-0.383992</td>\n",
       "      <td>-0.433092</td>\n",
       "      <td>-0.662008</td>\n",
       "      <td>0.348994</td>\n",
       "      <td>15.647222</td>\n",
       "    </tr>\n",
       "    <tr>\n",
       "      <th>285</th>\n",
       "      <td>-0.571958</td>\n",
       "      <td>-0.733198</td>\n",
       "      <td>-0.814858</td>\n",
       "      <td>-0.377139</td>\n",
       "      <td>-0.443409</td>\n",
       "      <td>-0.593834</td>\n",
       "      <td>-0.654483</td>\n",
       "      <td>-0.488669</td>\n",
       "      <td>15.638889</td>\n",
       "    </tr>\n",
       "    <tr>\n",
       "      <th>286</th>\n",
       "      <td>0.471104</td>\n",
       "      <td>0.207737</td>\n",
       "      <td>0.045139</td>\n",
       "      <td>0.116832</td>\n",
       "      <td>0.296005</td>\n",
       "      <td>0.706715</td>\n",
       "      <td>0.278530</td>\n",
       "      <td>-0.521245</td>\n",
       "      <td>15.638889</td>\n",
       "    </tr>\n",
       "    <tr>\n",
       "      <th>287</th>\n",
       "      <td>1.403340</td>\n",
       "      <td>1.343828</td>\n",
       "      <td>1.469295</td>\n",
       "      <td>1.480190</td>\n",
       "      <td>1.431533</td>\n",
       "      <td>1.539650</td>\n",
       "      <td>1.595284</td>\n",
       "      <td>2.638605</td>\n",
       "      <td>15.638889</td>\n",
       "    </tr>\n",
       "  </tbody>\n",
       "</table>\n",
       "<p>287 rows × 9 columns</p>\n",
       "</div>"
      ],
      "text/plain": [
       "        dent1     dent2     dent3     dent4     dent5     dent6  dent_mean  \\\n",
       "ID                                                                           \n",
       "1   -1.269505 -2.134145 -1.310216 -1.668048 -2.648446 -2.778463  -2.166869   \n",
       "2    0.536295  0.312285  0.189619  0.241971  0.461052  0.882070   0.421492   \n",
       "3    5.771160  3.748439  1.689454 -0.581313 -2.476797  2.262989   1.377079   \n",
       "4    0.190781  0.061369 -0.071820  0.143177  0.256393  0.626344   0.173190   \n",
       "5    2.224751  0.172887  0.313458 -1.773428 -1.684568 -0.002011  -0.428754   \n",
       "..        ...       ...       ...       ...       ...       ...        ...   \n",
       "283 -0.532843 -0.175607  0.244659  0.070728  0.018725 -0.988382  -0.127782   \n",
       "284 -0.774051 -0.802897 -0.677258 -0.515450 -0.383992 -0.433092  -0.662008   \n",
       "285 -0.571958 -0.733198 -0.814858 -0.377139 -0.443409 -0.593834  -0.654483   \n",
       "286  0.471104  0.207737  0.045139  0.116832  0.296005  0.706715   0.278530   \n",
       "287  1.403340  1.343828  1.469295  1.480190  1.431533  1.539650   1.595284   \n",
       "\n",
       "         mass   velocity  \n",
       "ID                        \n",
       "1   -0.623626  15.722222  \n",
       "2   -1.009881  13.222222  \n",
       "3    0.088388  16.944444  \n",
       "4    0.097695  13.777778  \n",
       "5    0.102349  13.777778  \n",
       "..        ...        ...  \n",
       "283  1.791635  15.694444  \n",
       "284  0.348994  15.647222  \n",
       "285 -0.488669  15.638889  \n",
       "286 -0.521245  15.638889  \n",
       "287  2.638605  15.638889  \n",
       "\n",
       "[287 rows x 9 columns]"
      ]
     },
     "execution_count": 21,
     "metadata": {},
     "output_type": "execute_result"
    }
   ],
   "source": [
    "data_luxury_std = X_luxury_std.join(y_luxury) #tworzymy taki frame dla klasy Luxury\n",
    "data_luxury_std"
   ]
  },
  {
   "cell_type": "code",
   "execution_count": 22,
   "id": "7c468858-cefd-43b4-bdb0-b7045affcb75",
   "metadata": {
    "id": "7c468858-cefd-43b4-bdb0-b7045affcb75"
   },
   "outputs": [
    {
     "data": {
      "text/html": [
       "<div>\n",
       "<style scoped>\n",
       "    .dataframe tbody tr th:only-of-type {\n",
       "        vertical-align: middle;\n",
       "    }\n",
       "\n",
       "    .dataframe tbody tr th {\n",
       "        vertical-align: top;\n",
       "    }\n",
       "\n",
       "    .dataframe thead th {\n",
       "        text-align: right;\n",
       "    }\n",
       "</style>\n",
       "<table border=\"1\" class=\"dataframe\">\n",
       "  <thead>\n",
       "    <tr style=\"text-align: right;\">\n",
       "      <th></th>\n",
       "      <th>dent1</th>\n",
       "      <th>dent2</th>\n",
       "      <th>dent3</th>\n",
       "      <th>dent4</th>\n",
       "      <th>dent5</th>\n",
       "      <th>dent6</th>\n",
       "      <th>dent_mean</th>\n",
       "      <th>mask_width</th>\n",
       "      <th>mass</th>\n",
       "      <th>velocity</th>\n",
       "    </tr>\n",
       "    <tr>\n",
       "      <th>ID</th>\n",
       "      <th></th>\n",
       "      <th></th>\n",
       "      <th></th>\n",
       "      <th></th>\n",
       "      <th></th>\n",
       "      <th></th>\n",
       "      <th></th>\n",
       "      <th></th>\n",
       "      <th></th>\n",
       "      <th></th>\n",
       "    </tr>\n",
       "  </thead>\n",
       "  <tbody>\n",
       "    <tr>\n",
       "      <th>1</th>\n",
       "      <td>-0.766353</td>\n",
       "      <td>0.072565</td>\n",
       "      <td>-0.686429</td>\n",
       "      <td>0.133810</td>\n",
       "      <td>-0.088937</td>\n",
       "      <td>0.181240</td>\n",
       "      <td>-0.201124</td>\n",
       "      <td>1.342587</td>\n",
       "      <td>0.217503</td>\n",
       "      <td>20.777778</td>\n",
       "    </tr>\n",
       "    <tr>\n",
       "      <th>2</th>\n",
       "      <td>-1.689662</td>\n",
       "      <td>-1.162088</td>\n",
       "      <td>-1.438790</td>\n",
       "      <td>-0.876408</td>\n",
       "      <td>-1.074825</td>\n",
       "      <td>-0.781747</td>\n",
       "      <td>-1.325510</td>\n",
       "      <td>1.342587</td>\n",
       "      <td>0.217503</td>\n",
       "      <td>19.972222</td>\n",
       "    </tr>\n",
       "    <tr>\n",
       "      <th>3</th>\n",
       "      <td>-1.217016</td>\n",
       "      <td>-0.202513</td>\n",
       "      <td>-1.226585</td>\n",
       "      <td>0.209576</td>\n",
       "      <td>-0.392764</td>\n",
       "      <td>-0.115529</td>\n",
       "      <td>-0.526418</td>\n",
       "      <td>1.342587</td>\n",
       "      <td>0.266672</td>\n",
       "      <td>21.111111</td>\n",
       "    </tr>\n",
       "    <tr>\n",
       "      <th>4</th>\n",
       "      <td>-1.156561</td>\n",
       "      <td>-0.855024</td>\n",
       "      <td>-1.554537</td>\n",
       "      <td>-0.428124</td>\n",
       "      <td>-0.770998</td>\n",
       "      <td>-0.484977</td>\n",
       "      <td>-1.007288</td>\n",
       "      <td>1.342587</td>\n",
       "      <td>0.315842</td>\n",
       "      <td>20.777778</td>\n",
       "    </tr>\n",
       "    <tr>\n",
       "      <th>5</th>\n",
       "      <td>-2.206276</td>\n",
       "      <td>-2.108869</td>\n",
       "      <td>-1.361624</td>\n",
       "      <td>-0.301847</td>\n",
       "      <td>-1.174034</td>\n",
       "      <td>-1.877977</td>\n",
       "      <td>-1.601303</td>\n",
       "      <td>-2.046943</td>\n",
       "      <td>-1.519811</td>\n",
       "      <td>8.944444</td>\n",
       "    </tr>\n",
       "    <tr>\n",
       "      <th>...</th>\n",
       "      <td>...</td>\n",
       "      <td>...</td>\n",
       "      <td>...</td>\n",
       "      <td>...</td>\n",
       "      <td>...</td>\n",
       "      <td>...</td>\n",
       "      <td>...</td>\n",
       "      <td>...</td>\n",
       "      <td>...</td>\n",
       "      <td>...</td>\n",
       "    </tr>\n",
       "    <tr>\n",
       "      <th>395</th>\n",
       "      <td>-0.931230</td>\n",
       "      <td>-0.611932</td>\n",
       "      <td>-0.268450</td>\n",
       "      <td>-0.156628</td>\n",
       "      <td>-0.343160</td>\n",
       "      <td>-0.769634</td>\n",
       "      <td>-0.519347</td>\n",
       "      <td>-0.882228</td>\n",
       "      <td>-1.667319</td>\n",
       "      <td>11.055556</td>\n",
       "    </tr>\n",
       "    <tr>\n",
       "      <th>396</th>\n",
       "      <td>-0.145317</td>\n",
       "      <td>-0.036186</td>\n",
       "      <td>0.265276</td>\n",
       "      <td>0.398992</td>\n",
       "      <td>0.382305</td>\n",
       "      <td>0.308427</td>\n",
       "      <td>0.244387</td>\n",
       "      <td>-2.067866</td>\n",
       "      <td>0.479739</td>\n",
       "      <td>15.638889</td>\n",
       "    </tr>\n",
       "    <tr>\n",
       "      <th>397</th>\n",
       "      <td>-0.925734</td>\n",
       "      <td>-0.144938</td>\n",
       "      <td>-0.114120</td>\n",
       "      <td>0.076985</td>\n",
       "      <td>0.041275</td>\n",
       "      <td>-0.799916</td>\n",
       "      <td>-0.243554</td>\n",
       "      <td>0.282487</td>\n",
       "      <td>-0.470867</td>\n",
       "      <td>15.647222</td>\n",
       "    </tr>\n",
       "    <tr>\n",
       "      <th>398</th>\n",
       "      <td>-0.821312</td>\n",
       "      <td>-0.215307</td>\n",
       "      <td>0.117376</td>\n",
       "      <td>0.380050</td>\n",
       "      <td>-0.739995</td>\n",
       "      <td>0.187297</td>\n",
       "      <td>-0.186981</td>\n",
       "      <td>0.149975</td>\n",
       "      <td>1.233668</td>\n",
       "      <td>15.694444</td>\n",
       "    </tr>\n",
       "    <tr>\n",
       "      <th>399</th>\n",
       "      <td>-0.018912</td>\n",
       "      <td>-0.061775</td>\n",
       "      <td>0.065932</td>\n",
       "      <td>0.247459</td>\n",
       "      <td>0.233492</td>\n",
       "      <td>-0.006512</td>\n",
       "      <td>0.102955</td>\n",
       "      <td>-1.858635</td>\n",
       "      <td>-0.241410</td>\n",
       "      <td>15.694444</td>\n",
       "    </tr>\n",
       "  </tbody>\n",
       "</table>\n",
       "<p>399 rows × 10 columns</p>\n",
       "</div>"
      ],
      "text/plain": [
       "        dent1     dent2     dent3     dent4     dent5     dent6  dent_mean  \\\n",
       "ID                                                                           \n",
       "1   -0.766353  0.072565 -0.686429  0.133810 -0.088937  0.181240  -0.201124   \n",
       "2   -1.689662 -1.162088 -1.438790 -0.876408 -1.074825 -0.781747  -1.325510   \n",
       "3   -1.217016 -0.202513 -1.226585  0.209576 -0.392764 -0.115529  -0.526418   \n",
       "4   -1.156561 -0.855024 -1.554537 -0.428124 -0.770998 -0.484977  -1.007288   \n",
       "5   -2.206276 -2.108869 -1.361624 -0.301847 -1.174034 -1.877977  -1.601303   \n",
       "..        ...       ...       ...       ...       ...       ...        ...   \n",
       "395 -0.931230 -0.611932 -0.268450 -0.156628 -0.343160 -0.769634  -0.519347   \n",
       "396 -0.145317 -0.036186  0.265276  0.398992  0.382305  0.308427   0.244387   \n",
       "397 -0.925734 -0.144938 -0.114120  0.076985  0.041275 -0.799916  -0.243554   \n",
       "398 -0.821312 -0.215307  0.117376  0.380050 -0.739995  0.187297  -0.186981   \n",
       "399 -0.018912 -0.061775  0.065932  0.247459  0.233492 -0.006512   0.102955   \n",
       "\n",
       "     mask_width      mass   velocity  \n",
       "ID                                    \n",
       "1      1.342587  0.217503  20.777778  \n",
       "2      1.342587  0.217503  19.972222  \n",
       "3      1.342587  0.266672  21.111111  \n",
       "4      1.342587  0.315842  20.777778  \n",
       "5     -2.046943 -1.519811   8.944444  \n",
       "..          ...       ...        ...  \n",
       "395   -0.882228 -1.667319  11.055556  \n",
       "396   -2.067866  0.479739  15.638889  \n",
       "397    0.282487 -0.470867  15.647222  \n",
       "398    0.149975  1.233668  15.694444  \n",
       "399   -1.858635 -0.241410  15.694444  \n",
       "\n",
       "[399 rows x 10 columns]"
      ]
     },
     "execution_count": 22,
     "metadata": {},
     "output_type": "execute_result"
    }
   ],
   "source": [
    "data_compact_std = X_compact_std.join(y_compact) #tworzymy taki frame dla klasy Compact\n",
    "data_compact_std"
   ]
  },
  {
   "cell_type": "markdown",
   "id": "0ca0411e-2688-4c77-8488-0e2ffaaa8fa1",
   "metadata": {
    "id": "0ca0411e-2688-4c77-8488-0e2ffaaa8fa1"
   },
   "source": [
    "Dane uważamy już więc za przygotowane do budowania modelu."
   ]
  },
  {
   "cell_type": "markdown",
   "id": "20574a02-0607-4b5c-8e1d-f961b4096593",
   "metadata": {
    "id": "20574a02-0607-4b5c-8e1d-f961b4096593",
    "jp-MarkdownHeadingCollapsed": true
   },
   "source": [
    "# 3. Bardzo podstawowa teoria. Wybór jądra."
   ]
  },
  {
   "cell_type": "markdown",
   "id": "292755e1-fb92-4401-b85c-c4d673eda62e",
   "metadata": {
    "id": "292755e1-fb92-4401-b85c-c4d673eda62e"
   },
   "source": [
    "Najpierw w skrócie - czym są i do czego nam posłużą hiperparametry?"
   ]
  },
  {
   "cell_type": "markdown",
   "id": "25a10821-dbc4-4394-8c30-e5f61c5a4a21",
   "metadata": {
    "id": "25a10821-dbc4-4394-8c30-e5f61c5a4a21"
   },
   "source": [
    "Każdy model w uczeniu maszynowym ma parametry. Jedne mają ich więcej, drugie mniej. Jeśli parametr wyliczany jest samodzielnie przez algorytm podczas uczenia, to nazywamy go po prostu parametrem. Przykładem mogą być wagi w sieciach neuronowych.\n",
    "\n",
    "Natomiast, jeśli parametr podawany jest przez użytkownika, który używa algorytmu, wówczas nazywamy go hiperparametrem (np. liczba drzew i iteracji w lesie losowym)."
   ]
  },
  {
   "cell_type": "markdown",
   "id": "e8978de3-d58f-419d-b4c6-e4df06518886",
   "metadata": {
    "id": "e8978de3-d58f-419d-b4c6-e4df06518886"
   },
   "source": [
    "Aby móc zdefiniować model regresji procesu gaussowskiego, potrzebne nam jest jądro (funkcja kowariancji). Wybór tej funkcji wpłynie zresztą dość istotnie na późniejszy 'kształt' GPR. Z braku lepszego pomysłu i na tę chwilę głębszej analizy, wybieramy na razie dość popularne jądro, a mianowicie: Radial Basis Function (Squared Exponential Kernel) - w skrócie RBF albo SE. Dane jest ono wzorem:"
   ]
  },
  {
   "cell_type": "markdown",
   "id": "c25cb051-8429-471a-bdbd-25279bc4478f",
   "metadata": {
    "id": "c25cb051-8429-471a-bdbd-25279bc4478f"
   },
   "source": [
    "$$ k_y(x_p,x_q):= \\sigma_f^2 \\cdot \\exp\\left(-\\frac{1}{2\\ell^2} \\cdot \\|x_1-x_2\\|^2_2\\right) + \\sigma_n^2 \\delta_{pq}$$\n"
   ]
  },
  {
   "cell_type": "markdown",
   "id": "621835a2-02be-4c57-8a66-e1aeac19ef70",
   "metadata": {
    "id": "621835a2-02be-4c57-8a66-e1aeac19ef70"
   },
   "source": [
    "gdzie parametrami w tej funkcji są:\n",
    "\n",
    "- długość skali $\\ell$ (ang. length scale) - nasz 1. hiperparametr: $$\\ell >0 \\text{,}$$\n",
    "\n",
    "- wariancja sygnału $\\sigma_f^2$ (ang. signal variance) - nasz 2. hiperparametr: $$\\sigma_f^2>0 \\text{,}$$\n",
    "\n",
    "- wariancja szumu $\\sigma_n^2$ (ang. noise variance) - nasz 3. hiperparametr: $$\\sigma_n^2>0 \\text{.}$$\n",
    "\n",
    "Symbol $\\| \\cdot \\|_2$ we wzorze powyżej oznacza normę euklidesową. Użyliśmy tu symbolu $\\delta_{pq}$ - oznacza on Deltę Kroneckera. Przypomnijmy definicję tej funkcji:\n",
    "\n",
    "$$ \\delta_{pq} =\n",
    "\\begin{cases}\n",
    "    \\hfill 1 \\text{,} & \\text{gdy}\\;p = q \\text{;}\\\\\n",
    "    0 \\text{,} & \\text{gdy}\\;p \\not = q.\n",
    "\\end{cases}\n",
    "$$"
   ]
  },
  {
   "cell_type": "markdown",
   "id": "9087feb6-51e1-4133-864b-96b7aef6ed21",
   "metadata": {
    "id": "9087feb6-51e1-4133-864b-96b7aef6ed21"
   },
   "source": [
    "A więc mamy 3 hiperparametry - jeszcze raz wypiszmy je i dodajmy małe opisy:\n",
    "\n",
    "1. długość skali $\\ell$ (ang. length scale) - określa on to, jak szybko zmienia się funkcja korelacji między danymi - dla małych wartości, model staje się bardziej skomplikowany i dopasowuje się do bardziej nieregularnych danych, natomiast dla dużych wartości model jest bardziej gładki;\n",
    "\n",
    "2. wariancja sygnału $\\sigma_f^2$ (ang. signal variance) - odpowiada on za amplitudę zmienności przestrzennej - wysoka wartość oznacza większą amplitudę, co skutkuje bardziej zmiennym modelem;\n",
    "\n",
    "3. wariancja szumu $\\sigma_n^2$ (ang. noise variance) - reprezentuje on poziom szumu w danych - wartość tego hiperparametru określa, jak duże fluktuacje w danych są traktowane jako szum, a nie rzeczywista zmienność."
   ]
  },
  {
   "cell_type": "markdown",
   "id": "24daca16-3f99-4dab-9df2-c5d383d06b8c",
   "metadata": {
    "id": "24daca16-3f99-4dab-9df2-c5d383d06b8c"
   },
   "source": [
    "A teraz - w 'telegraficznym skrócie' - co się dzieje 'za kulisami', gdy budujemy model?\n",
    "\n",
    "Ustalmy $m \\in \\mathbb{N}_{+}$. Załóżmy, że dysponujemy cechami treningowymi $x_1,...,x_{n_t}\\in \\mathbb{R}^m$ oraz odpowiadającymi im wartościami etykiet: $y_1,...,y_{n_t}\\in \\mathbb{R}$, które zestawiamy w wektor $\\mathbf{y}_{t} := (y_1, \\ldots, y_{n_t})^{T}$. Zakładamy, że te wartości etykiet, które zostały zaobserwowane dla cech ze zbioru treningowego obarczone są już szumem, który w całym modelu jest IID o rozkładzie $\\mathcal{N}(0,\\sigma_n^2)$ dla pewnego $\\sigma_n^2 > 0$. Załóżmy, że mamy cechy testowe $x_{1}^{\\star},...,x_{n_e}^{\\star} \\in \\mathbb{R}^m$, dla których wartości etykiet chcemy przewidzieć za pomocą modelu. GPR (Gaussian Process Regression) to regresja nieparametryczna, w której celem jest 'wytypowanie' funkcji, dla której prawdopodobieństwo, że to ona obrazuje prawdziwą zależność między zmiennymi niezależnymi oraz zależną jest największe. Dopasowywanie rozkładu prawdopodobieństwa funkcji odbywa się przy pomocy rozkładu: $$\\mathcal{N}(K_*K^{-1}y,K_{**}-K_*K^{-1}K_*^T) \\text{,}$$gdzie:\n",
    "\n",
    "- $K= [k(x_i,x_j)]_{1 \\leq i,j\\leq n_t}+\\sigma_n^2*\\mathbf{I}_{n_t}$, gdzie $\\mathbf{I}_{n_t}$ to macierz jednostkowa o wymiarze $n_t$;\n",
    "\n",
    "- $K_*= [k(x_i^{\\star},x_j)]_{1 \\leq i \\leq n_e, 1 \\leq j \\leq n_t}$;\n",
    "\n",
    "- $K_{**}= [k(x_i^{\\star},x_j^{\\star})]_{1\\leq i,j \\leq n_e}$,\n",
    "\n",
    "gdzie 'k' oznacza właśnie wybraną a-priori funkcję kowariancji (ang. kernel, czyli jądro). Te wzory są prawdziwe przy założeniu, że średnia przyjmowana a-priori jest funkcją zerową."
   ]
  },
  {
   "cell_type": "markdown",
   "id": "f2ac17ba-19eb-4239-9cb0-f48b667f502d",
   "metadata": {
    "id": "f2ac17ba-19eb-4239-9cb0-f48b667f502d",
    "jp-MarkdownHeadingCollapsed": true
   },
   "source": [
    "# 4. Podział danych na część uczącą i testową."
   ]
  },
  {
   "cell_type": "markdown",
   "id": "a7ce0ca9-4263-4b8c-b71d-5b994deece46",
   "metadata": {
    "id": "a7ce0ca9-4263-4b8c-b71d-5b994deece46"
   },
   "source": [
    "Teraz dokonamy podziału danych z obu klas, na których operujemy, na część uczącą i testową - robimy to w celu zagwarantowania sobie reprezentatywności zbioru danych, na którym budujemy model (część ucząca) oraz tej części, na podstawie której oceniamy, jak dobry jest ten model (część testowa)."
   ]
  },
  {
   "cell_type": "markdown",
   "id": "b6c66070-10fc-4e88-89f2-4c1e75f1b50c",
   "metadata": {
    "id": "b6c66070-10fc-4e88-89f2-4c1e75f1b50c"
   },
   "source": [
    "Dokonamy tego przy użyciu metody train_test_split z pakietu sklearn.model_selection (link do dokumentacji tej metody: [link](https://scikit-learn.org/stable/modules/generated/sklearn.model_selection.train_test_split.html)).\n",
    "\n",
    "Przyjmujemy następującą proporcję podziału danych: 80% to część ucząca, 20% to część testowa - z tego powodu, w tej metodzie przyjmujemy wartość parametru test_size = 0.2 - train_size zostaje wówczas ustawiony automatycznie na 0.8.\n",
    "\n",
    "Przyjmujemy wartość parametru 'random_state' na wartość 42 - to taki rodzaj 'seedu' dla generatora. Robimy tak dlatego, ponieważ liczba 42 jest często używana w środowisku programistycznym jako \"odpowiedź na wszystko\" (zgodnie z Douglasem Adams'em w \"Autostopem przez Galaktykę\"). Wybór tej liczby nie ma nic wspólnego z algorytmem czy konkretnymi danymi, a jedynie z konwencją i chęcią uzyskania powtarzalności wyników (dla wygody i większej kontroli)."
   ]
  },
  {
   "cell_type": "markdown",
   "id": "6203a0c6-8108-4fa9-8553-db7a3030f8b6",
   "metadata": {
    "id": "6203a0c6-8108-4fa9-8553-db7a3030f8b6"
   },
   "source": [
    "Dla obu klas (Luxury i Compact) dokonamy takiego podziału dla oryginalnych danych, a następnie 'wyciągniemy' odpowiadające im ustandaryzowane zmienne wyjaśniające."
   ]
  },
  {
   "cell_type": "markdown",
   "id": "2fd75301-f0cf-48d9-93c4-14a226f1cd7a",
   "metadata": {
    "id": "2fd75301-f0cf-48d9-93c4-14a226f1cd7a"
   },
   "source": [
    "Najpierw dokonujemy podziału oryginalnych danych z klasy Luxury:"
   ]
  },
  {
   "cell_type": "code",
   "execution_count": 27,
   "id": "7cd43453-e565-4c16-ab67-f4f55717bdc6",
   "metadata": {
    "id": "7cd43453-e565-4c16-ab67-f4f55717bdc6"
   },
   "outputs": [],
   "source": [
    "X_luxury_train, X_luxury_test, y_luxury_train, y_luxury_test = train_test_split(X_luxury, y_luxury, test_size=0.2, random_state=42)"
   ]
  },
  {
   "cell_type": "markdown",
   "id": "76193d13-edac-4ba3-9749-9baf3d92747f",
   "metadata": {
    "id": "76193d13-edac-4ba3-9749-9baf3d92747f"
   },
   "source": [
    "Teraz dokonujemy analogicznego podziału oryginalnych danych z klasy Compact:"
   ]
  },
  {
   "cell_type": "code",
   "execution_count": 28,
   "id": "e6da8958-ac66-44b9-b98f-2d8578c48eca",
   "metadata": {
    "id": "e6da8958-ac66-44b9-b98f-2d8578c48eca"
   },
   "outputs": [],
   "source": [
    "X_compact_train, X_compact_test, y_compact_train, y_compact_test = train_test_split(X_compact, y_compact, test_size=0.2, random_state=42)"
   ]
  },
  {
   "cell_type": "markdown",
   "id": "c40fef72-48f5-481a-af68-f64847941ced",
   "metadata": {
    "id": "c40fef72-48f5-481a-af68-f64847941ced"
   },
   "source": [
    "Teraz zajmiemy się 'wyciąganiem' odpowiednich zmiennych wyjaśniających ustandaryzowanych z obu klas. 'Wyciągamy' najpierw odpowiednie indeksy - klasa Luxury:"
   ]
  },
  {
   "cell_type": "code",
   "execution_count": 29,
   "id": "4f85fea8-5f8f-40ae-ab54-38198ffcccc6",
   "metadata": {
    "id": "4f85fea8-5f8f-40ae-ab54-38198ffcccc6"
   },
   "outputs": [],
   "source": [
    "X_luxury_train_index = np.array(X_luxury_train.index) #klasa Luxury - indexy ze zbioru uczącego"
   ]
  },
  {
   "cell_type": "code",
   "execution_count": 30,
   "id": "f6a85640-067c-45ce-bd81-9b615005c53d",
   "metadata": {
    "id": "f6a85640-067c-45ce-bd81-9b615005c53d"
   },
   "outputs": [],
   "source": [
    "X_luxury_test_index = np.array(X_luxury_test.index) #klasa Luxury - indexy ze zbioru testowego"
   ]
  },
  {
   "cell_type": "markdown",
   "id": "e6e47c99-f8ef-4b59-8e4f-354610d599aa",
   "metadata": {
    "id": "e6e47c99-f8ef-4b59-8e4f-354610d599aa"
   },
   "source": [
    "Teraz klasa Compact:"
   ]
  },
  {
   "cell_type": "code",
   "execution_count": 31,
   "id": "20666ccb-67d9-4607-a6ee-a044c17a152f",
   "metadata": {
    "id": "20666ccb-67d9-4607-a6ee-a044c17a152f"
   },
   "outputs": [],
   "source": [
    "X_compact_train_index = np.array(X_compact_train.index) #klasa Compact - indexy ze zbioru uczącego"
   ]
  },
  {
   "cell_type": "code",
   "execution_count": 32,
   "id": "5fe7ff49-8abf-4e42-a091-856af07ab557",
   "metadata": {
    "id": "5fe7ff49-8abf-4e42-a091-856af07ab557"
   },
   "outputs": [],
   "source": [
    "X_compact_test_index = np.array(X_compact_test.index) #klasa Compact - indexy ze zbioru testowego"
   ]
  },
  {
   "cell_type": "markdown",
   "id": "31a801d0-c80d-4918-906c-8eb9ffd6ec81",
   "metadata": {
    "id": "31a801d0-c80d-4918-906c-8eb9ffd6ec81"
   },
   "source": [
    "No to wyciągamy odpowiednie zmienne wyjaśniające - klasa Luxury:"
   ]
  },
  {
   "cell_type": "code",
   "execution_count": 33,
   "id": "5a5fe793-5486-419f-915f-5ec9ee96ecb7",
   "metadata": {
    "id": "5a5fe793-5486-419f-915f-5ec9ee96ecb7"
   },
   "outputs": [],
   "source": [
    "X_luxury_std_train = X_luxury_std.loc[X_luxury_train_index, :] #klasa Luxury - dane uczące"
   ]
  },
  {
   "cell_type": "code",
   "execution_count": 34,
   "id": "20c9f748-acfb-46c7-9612-921f4dc033ed",
   "metadata": {
    "id": "20c9f748-acfb-46c7-9612-921f4dc033ed"
   },
   "outputs": [],
   "source": [
    "X_luxury_std_test = X_luxury_std.loc[X_luxury_test_index, :] #klasa Luxury - dane testowe"
   ]
  },
  {
   "cell_type": "markdown",
   "id": "753239ca-4327-4c39-9d76-30c16e4802f6",
   "metadata": {
    "id": "753239ca-4327-4c39-9d76-30c16e4802f6"
   },
   "source": [
    "A teraz klasa Compact:"
   ]
  },
  {
   "cell_type": "code",
   "execution_count": 35,
   "id": "987525e2-2171-491b-a7fb-422a2cb314d6",
   "metadata": {
    "id": "987525e2-2171-491b-a7fb-422a2cb314d6"
   },
   "outputs": [],
   "source": [
    "X_compact_std_train = X_compact_std.loc[X_compact_train_index, :] #klasa Compact - dane uczące"
   ]
  },
  {
   "cell_type": "code",
   "execution_count": 36,
   "id": "74a2d5a0-bb21-42d1-8cf2-24cfd45b3640",
   "metadata": {
    "id": "74a2d5a0-bb21-42d1-8cf2-24cfd45b3640"
   },
   "outputs": [],
   "source": [
    "X_compact_std_test = X_compact_std.loc[X_compact_test_index, :] #klasa Compact - dane testowe"
   ]
  },
  {
   "cell_type": "markdown",
   "id": "ec471393-42f8-4e93-993e-2ff9dc999d10",
   "metadata": {
    "id": "ec471393-42f8-4e93-993e-2ff9dc999d10"
   },
   "source": [
    "Mamy więc gotowy podział danych na część uczącą i testową. Możemy więc przechodzić do budowania modelu."
   ]
  },
  {
   "cell_type": "markdown",
   "id": "7929d60d-870c-44e6-b0a6-a9cebf051176",
   "metadata": {
    "id": "7929d60d-870c-44e6-b0a6-a9cebf051176",
    "jp-MarkdownHeadingCollapsed": true
   },
   "source": [
    "# 5. Implementacja GPR za pomocą biblioteki scikit-learn."
   ]
  },
  {
   "cell_type": "markdown",
   "id": "8b1f7437-bdaf-420c-8385-85e783fdc571",
   "metadata": {
    "id": "8b1f7437-bdaf-420c-8385-85e783fdc571"
   },
   "source": [
    "Spróbujemy zbudować model przy użyciu biblioteki scikit-learn, wykorzystując 'przeszukiwanie gridowe' jako technikę optymalizacji (dostrajania) hiperparametrów. Implementacja oparta jest na algorytmie, podanym w książce \"Gaussian Processes for Machine Learning\" (link: [link](https://gaussianprocess.org/gpml/chapters/RW.pdf))."
   ]
  },
  {
   "cell_type": "markdown",
   "id": "e2a0c2b0-72ed-4cfd-8346-e75766812655",
   "metadata": {
    "id": "e2a0c2b0-72ed-4cfd-8346-e75766812655"
   },
   "source": [
    "Tak jak wspomnieliśmy powyżej, będziemy używać jądra RBF, danego wzorem: $$ k_y(x_p,x_q):= \\sigma_f^2 \\cdot \\exp\\left(-\\frac{1}{2\\ell^2} \\cdot \\|x_1-x_2\\|^2_2\\right) + \\sigma_n^2 \\delta_{pq}$$"
   ]
  },
  {
   "cell_type": "markdown",
   "id": "b17bde56-c43a-453a-af9f-1ca4241f6ddc",
   "metadata": {
    "id": "b17bde56-c43a-453a-af9f-1ca4241f6ddc"
   },
   "source": [
    "Jak zamierzamy zaimplementować to jądro u nas w praktyce? Wykorzystamy 3 różne jądra z pakietu sklearn.gaussian_process.kernels:\n",
    "\n",
    "1. jądro RBF (link do dokumentacji: [link](https://scikit-learn.org/stable/modules/generated/sklearn.gaussian_process.kernels.RBF.html)) - dane wzorem: $$ RBF(x_p,x_q):= \\exp\\left(-\\frac{1}{2\\ell^2} \\cdot \\|x_p-x_q\\|^2_2\\right) \\text{;}$$\n",
    "\n",
    "2. jądro ConstantKernel (link do dokumentacji: [link](https://scikit-learn.org/stable/modules/generated/sklearn.gaussian_process.kernels.ConstantKernel.html)) - dane wzorem: $$ ConstantKernel(x_p,x_q):= \\sigma_f^2 \\text{;}$$\n",
    "\n",
    "3. jądro WhiteKernel (link do dokumentacji: [link](https://scikit-learn.org/stable/modules/generated/sklearn.gaussian_process.kernels.WhiteKernel.html)) - dane wzorem: $$ WhiteKernel(x_p, x_q) :=  \\sigma_n^2 \\delta_{pq} \\text{.}$$\n",
    "\n",
    "Wówczas: $$ k_y(x_p,x_q) = ConstantKernel(x_p,x_q) \\cdot RBF(x_p,x_q) + WhiteKernel(x_p, x_q) \\text{.}$$"
   ]
  },
  {
   "cell_type": "markdown",
   "id": "a7262858-246b-41f3-9f92-1d20c5065352",
   "metadata": {
    "id": "a7262858-246b-41f3-9f92-1d20c5065352"
   },
   "source": [
    "Definiujemy więc nasze jądro do analizy z użyciem domyślnych wartości dla wszystkich hiperparametrów (wszędzie 1):"
   ]
  },
  {
   "cell_type": "code",
   "execution_count": 38,
   "id": "f116331f-574a-41b7-a652-bd3de266a436",
   "metadata": {
    "id": "f116331f-574a-41b7-a652-bd3de266a436"
   },
   "outputs": [],
   "source": [
    "our_kernel = ConstantKernel() * RBF() + WhiteKernel()"
   ]
  },
  {
   "cell_type": "markdown",
   "id": "2dd9574f-24cd-436c-a9c9-e3aedf4a5c5c",
   "metadata": {
    "id": "2dd9574f-24cd-436c-a9c9-e3aedf4a5c5c"
   },
   "source": [
    "Do budowy modelu regresji procesów gaussowskich, użyjemy zmiennej typu GaussianProcessRegressor, zaimplementowanej w pakiecie sklearn.gaussian_process - pozostawiamy link do dokumentacji: [link](https://scikit-learn.org/stable/modules/generated/sklearn.gaussian_process.GaussianProcessRegressor.html). A więc, zdefiniujmy początkowo jakiś model (w 4 kopiach, jeśli chodzi o zmienne - dwie będą dla klasy Luxury, dwie dla klasy Compact - jedna z ustandaryzowanych danych, druga z oryginalnych danych):"
   ]
  },
  {
   "cell_type": "code",
   "execution_count": 39,
   "id": "96ac2dc2-12d4-495a-9b1e-32fd029778a7",
   "metadata": {
    "id": "96ac2dc2-12d4-495a-9b1e-32fd029778a7"
   },
   "outputs": [
    {
     "data": {
      "text/html": [
       "<style>#sk-container-id-1 {color: black;}#sk-container-id-1 pre{padding: 0;}#sk-container-id-1 div.sk-toggleable {background-color: white;}#sk-container-id-1 label.sk-toggleable__label {cursor: pointer;display: block;width: 100%;margin-bottom: 0;padding: 0.3em;box-sizing: border-box;text-align: center;}#sk-container-id-1 label.sk-toggleable__label-arrow:before {content: \"▸\";float: left;margin-right: 0.25em;color: #696969;}#sk-container-id-1 label.sk-toggleable__label-arrow:hover:before {color: black;}#sk-container-id-1 div.sk-estimator:hover label.sk-toggleable__label-arrow:before {color: black;}#sk-container-id-1 div.sk-toggleable__content {max-height: 0;max-width: 0;overflow: hidden;text-align: left;background-color: #f0f8ff;}#sk-container-id-1 div.sk-toggleable__content pre {margin: 0.2em;color: black;border-radius: 0.25em;background-color: #f0f8ff;}#sk-container-id-1 input.sk-toggleable__control:checked~div.sk-toggleable__content {max-height: 200px;max-width: 100%;overflow: auto;}#sk-container-id-1 input.sk-toggleable__control:checked~label.sk-toggleable__label-arrow:before {content: \"▾\";}#sk-container-id-1 div.sk-estimator input.sk-toggleable__control:checked~label.sk-toggleable__label {background-color: #d4ebff;}#sk-container-id-1 div.sk-label input.sk-toggleable__control:checked~label.sk-toggleable__label {background-color: #d4ebff;}#sk-container-id-1 input.sk-hidden--visually {border: 0;clip: rect(1px 1px 1px 1px);clip: rect(1px, 1px, 1px, 1px);height: 1px;margin: -1px;overflow: hidden;padding: 0;position: absolute;width: 1px;}#sk-container-id-1 div.sk-estimator {font-family: monospace;background-color: #f0f8ff;border: 1px dotted black;border-radius: 0.25em;box-sizing: border-box;margin-bottom: 0.5em;}#sk-container-id-1 div.sk-estimator:hover {background-color: #d4ebff;}#sk-container-id-1 div.sk-parallel-item::after {content: \"\";width: 100%;border-bottom: 1px solid gray;flex-grow: 1;}#sk-container-id-1 div.sk-label:hover label.sk-toggleable__label {background-color: #d4ebff;}#sk-container-id-1 div.sk-serial::before {content: \"\";position: absolute;border-left: 1px solid gray;box-sizing: border-box;top: 0;bottom: 0;left: 50%;z-index: 0;}#sk-container-id-1 div.sk-serial {display: flex;flex-direction: column;align-items: center;background-color: white;padding-right: 0.2em;padding-left: 0.2em;position: relative;}#sk-container-id-1 div.sk-item {position: relative;z-index: 1;}#sk-container-id-1 div.sk-parallel {display: flex;align-items: stretch;justify-content: center;background-color: white;position: relative;}#sk-container-id-1 div.sk-item::before, #sk-container-id-1 div.sk-parallel-item::before {content: \"\";position: absolute;border-left: 1px solid gray;box-sizing: border-box;top: 0;bottom: 0;left: 50%;z-index: -1;}#sk-container-id-1 div.sk-parallel-item {display: flex;flex-direction: column;z-index: 1;position: relative;background-color: white;}#sk-container-id-1 div.sk-parallel-item:first-child::after {align-self: flex-end;width: 50%;}#sk-container-id-1 div.sk-parallel-item:last-child::after {align-self: flex-start;width: 50%;}#sk-container-id-1 div.sk-parallel-item:only-child::after {width: 0;}#sk-container-id-1 div.sk-dashed-wrapped {border: 1px dashed gray;margin: 0 0.4em 0.5em 0.4em;box-sizing: border-box;padding-bottom: 0.4em;background-color: white;}#sk-container-id-1 div.sk-label label {font-family: monospace;font-weight: bold;display: inline-block;line-height: 1.2em;}#sk-container-id-1 div.sk-label-container {text-align: center;}#sk-container-id-1 div.sk-container {/* jupyter's `normalize.less` sets `[hidden] { display: none; }` but bootstrap.min.css set `[hidden] { display: none !important; }` so we also need the `!important` here to be able to override the default hidden behavior on the sphinx rendered scikit-learn.org. See: https://github.com/scikit-learn/scikit-learn/issues/21755 */display: inline-block !important;position: relative;}#sk-container-id-1 div.sk-text-repr-fallback {display: none;}</style><div id=\"sk-container-id-1\" class=\"sk-top-container\"><div class=\"sk-text-repr-fallback\"><pre>GaussianProcessRegressor(kernel=1**2 * RBF(length_scale=1) + WhiteKernel(noise_level=1),\n",
       "                         n_restarts_optimizer=10)</pre><b>In a Jupyter environment, please rerun this cell to show the HTML representation or trust the notebook. <br />On GitHub, the HTML representation is unable to render, please try loading this page with nbviewer.org.</b></div><div class=\"sk-container\" hidden><div class=\"sk-item\"><div class=\"sk-estimator sk-toggleable\"><input class=\"sk-toggleable__control sk-hidden--visually\" id=\"sk-estimator-id-1\" type=\"checkbox\" checked><label for=\"sk-estimator-id-1\" class=\"sk-toggleable__label sk-toggleable__label-arrow\">GaussianProcessRegressor</label><div class=\"sk-toggleable__content\"><pre>GaussianProcessRegressor(kernel=1**2 * RBF(length_scale=1) + WhiteKernel(noise_level=1),\n",
       "                         n_restarts_optimizer=10)</pre></div></div></div></div></div>"
      ],
      "text/plain": [
       "GaussianProcessRegressor(kernel=1**2 * RBF(length_scale=1) + WhiteKernel(noise_level=1),\n",
       "                         n_restarts_optimizer=10)"
      ]
     },
     "execution_count": 39,
     "metadata": {},
     "output_type": "execute_result"
    }
   ],
   "source": [
    "model_luxury = GaussianProcessRegressor(kernel=our_kernel, n_restarts_optimizer = 10) #dla klasy Luxury - oryginalne dane\n",
    "model_luxury"
   ]
  },
  {
   "cell_type": "code",
   "execution_count": 40,
   "id": "00d9e831-2f67-4975-8ed7-53d405d6b488",
   "metadata": {
    "id": "00d9e831-2f67-4975-8ed7-53d405d6b488"
   },
   "outputs": [
    {
     "data": {
      "text/html": [
       "<style>#sk-container-id-2 {color: black;}#sk-container-id-2 pre{padding: 0;}#sk-container-id-2 div.sk-toggleable {background-color: white;}#sk-container-id-2 label.sk-toggleable__label {cursor: pointer;display: block;width: 100%;margin-bottom: 0;padding: 0.3em;box-sizing: border-box;text-align: center;}#sk-container-id-2 label.sk-toggleable__label-arrow:before {content: \"▸\";float: left;margin-right: 0.25em;color: #696969;}#sk-container-id-2 label.sk-toggleable__label-arrow:hover:before {color: black;}#sk-container-id-2 div.sk-estimator:hover label.sk-toggleable__label-arrow:before {color: black;}#sk-container-id-2 div.sk-toggleable__content {max-height: 0;max-width: 0;overflow: hidden;text-align: left;background-color: #f0f8ff;}#sk-container-id-2 div.sk-toggleable__content pre {margin: 0.2em;color: black;border-radius: 0.25em;background-color: #f0f8ff;}#sk-container-id-2 input.sk-toggleable__control:checked~div.sk-toggleable__content {max-height: 200px;max-width: 100%;overflow: auto;}#sk-container-id-2 input.sk-toggleable__control:checked~label.sk-toggleable__label-arrow:before {content: \"▾\";}#sk-container-id-2 div.sk-estimator input.sk-toggleable__control:checked~label.sk-toggleable__label {background-color: #d4ebff;}#sk-container-id-2 div.sk-label input.sk-toggleable__control:checked~label.sk-toggleable__label {background-color: #d4ebff;}#sk-container-id-2 input.sk-hidden--visually {border: 0;clip: rect(1px 1px 1px 1px);clip: rect(1px, 1px, 1px, 1px);height: 1px;margin: -1px;overflow: hidden;padding: 0;position: absolute;width: 1px;}#sk-container-id-2 div.sk-estimator {font-family: monospace;background-color: #f0f8ff;border: 1px dotted black;border-radius: 0.25em;box-sizing: border-box;margin-bottom: 0.5em;}#sk-container-id-2 div.sk-estimator:hover {background-color: #d4ebff;}#sk-container-id-2 div.sk-parallel-item::after {content: \"\";width: 100%;border-bottom: 1px solid gray;flex-grow: 1;}#sk-container-id-2 div.sk-label:hover label.sk-toggleable__label {background-color: #d4ebff;}#sk-container-id-2 div.sk-serial::before {content: \"\";position: absolute;border-left: 1px solid gray;box-sizing: border-box;top: 0;bottom: 0;left: 50%;z-index: 0;}#sk-container-id-2 div.sk-serial {display: flex;flex-direction: column;align-items: center;background-color: white;padding-right: 0.2em;padding-left: 0.2em;position: relative;}#sk-container-id-2 div.sk-item {position: relative;z-index: 1;}#sk-container-id-2 div.sk-parallel {display: flex;align-items: stretch;justify-content: center;background-color: white;position: relative;}#sk-container-id-2 div.sk-item::before, #sk-container-id-2 div.sk-parallel-item::before {content: \"\";position: absolute;border-left: 1px solid gray;box-sizing: border-box;top: 0;bottom: 0;left: 50%;z-index: -1;}#sk-container-id-2 div.sk-parallel-item {display: flex;flex-direction: column;z-index: 1;position: relative;background-color: white;}#sk-container-id-2 div.sk-parallel-item:first-child::after {align-self: flex-end;width: 50%;}#sk-container-id-2 div.sk-parallel-item:last-child::after {align-self: flex-start;width: 50%;}#sk-container-id-2 div.sk-parallel-item:only-child::after {width: 0;}#sk-container-id-2 div.sk-dashed-wrapped {border: 1px dashed gray;margin: 0 0.4em 0.5em 0.4em;box-sizing: border-box;padding-bottom: 0.4em;background-color: white;}#sk-container-id-2 div.sk-label label {font-family: monospace;font-weight: bold;display: inline-block;line-height: 1.2em;}#sk-container-id-2 div.sk-label-container {text-align: center;}#sk-container-id-2 div.sk-container {/* jupyter's `normalize.less` sets `[hidden] { display: none; }` but bootstrap.min.css set `[hidden] { display: none !important; }` so we also need the `!important` here to be able to override the default hidden behavior on the sphinx rendered scikit-learn.org. See: https://github.com/scikit-learn/scikit-learn/issues/21755 */display: inline-block !important;position: relative;}#sk-container-id-2 div.sk-text-repr-fallback {display: none;}</style><div id=\"sk-container-id-2\" class=\"sk-top-container\"><div class=\"sk-text-repr-fallback\"><pre>GaussianProcessRegressor(kernel=1**2 * RBF(length_scale=1) + WhiteKernel(noise_level=1),\n",
       "                         n_restarts_optimizer=10)</pre><b>In a Jupyter environment, please rerun this cell to show the HTML representation or trust the notebook. <br />On GitHub, the HTML representation is unable to render, please try loading this page with nbviewer.org.</b></div><div class=\"sk-container\" hidden><div class=\"sk-item\"><div class=\"sk-estimator sk-toggleable\"><input class=\"sk-toggleable__control sk-hidden--visually\" id=\"sk-estimator-id-2\" type=\"checkbox\" checked><label for=\"sk-estimator-id-2\" class=\"sk-toggleable__label sk-toggleable__label-arrow\">GaussianProcessRegressor</label><div class=\"sk-toggleable__content\"><pre>GaussianProcessRegressor(kernel=1**2 * RBF(length_scale=1) + WhiteKernel(noise_level=1),\n",
       "                         n_restarts_optimizer=10)</pre></div></div></div></div></div>"
      ],
      "text/plain": [
       "GaussianProcessRegressor(kernel=1**2 * RBF(length_scale=1) + WhiteKernel(noise_level=1),\n",
       "                         n_restarts_optimizer=10)"
      ]
     },
     "execution_count": 40,
     "metadata": {},
     "output_type": "execute_result"
    }
   ],
   "source": [
    "model_luxury_std = GaussianProcessRegressor(kernel=our_kernel, n_restarts_optimizer = 10) #dla klasy Luxury - ustandaryzowane dane\n",
    "model_luxury_std"
   ]
  },
  {
   "cell_type": "code",
   "execution_count": 41,
   "id": "6725a9fa-08b5-4421-84ba-e949c50f0ccf",
   "metadata": {
    "id": "6725a9fa-08b5-4421-84ba-e949c50f0ccf"
   },
   "outputs": [
    {
     "data": {
      "text/html": [
       "<style>#sk-container-id-3 {color: black;}#sk-container-id-3 pre{padding: 0;}#sk-container-id-3 div.sk-toggleable {background-color: white;}#sk-container-id-3 label.sk-toggleable__label {cursor: pointer;display: block;width: 100%;margin-bottom: 0;padding: 0.3em;box-sizing: border-box;text-align: center;}#sk-container-id-3 label.sk-toggleable__label-arrow:before {content: \"▸\";float: left;margin-right: 0.25em;color: #696969;}#sk-container-id-3 label.sk-toggleable__label-arrow:hover:before {color: black;}#sk-container-id-3 div.sk-estimator:hover label.sk-toggleable__label-arrow:before {color: black;}#sk-container-id-3 div.sk-toggleable__content {max-height: 0;max-width: 0;overflow: hidden;text-align: left;background-color: #f0f8ff;}#sk-container-id-3 div.sk-toggleable__content pre {margin: 0.2em;color: black;border-radius: 0.25em;background-color: #f0f8ff;}#sk-container-id-3 input.sk-toggleable__control:checked~div.sk-toggleable__content {max-height: 200px;max-width: 100%;overflow: auto;}#sk-container-id-3 input.sk-toggleable__control:checked~label.sk-toggleable__label-arrow:before {content: \"▾\";}#sk-container-id-3 div.sk-estimator input.sk-toggleable__control:checked~label.sk-toggleable__label {background-color: #d4ebff;}#sk-container-id-3 div.sk-label input.sk-toggleable__control:checked~label.sk-toggleable__label {background-color: #d4ebff;}#sk-container-id-3 input.sk-hidden--visually {border: 0;clip: rect(1px 1px 1px 1px);clip: rect(1px, 1px, 1px, 1px);height: 1px;margin: -1px;overflow: hidden;padding: 0;position: absolute;width: 1px;}#sk-container-id-3 div.sk-estimator {font-family: monospace;background-color: #f0f8ff;border: 1px dotted black;border-radius: 0.25em;box-sizing: border-box;margin-bottom: 0.5em;}#sk-container-id-3 div.sk-estimator:hover {background-color: #d4ebff;}#sk-container-id-3 div.sk-parallel-item::after {content: \"\";width: 100%;border-bottom: 1px solid gray;flex-grow: 1;}#sk-container-id-3 div.sk-label:hover label.sk-toggleable__label {background-color: #d4ebff;}#sk-container-id-3 div.sk-serial::before {content: \"\";position: absolute;border-left: 1px solid gray;box-sizing: border-box;top: 0;bottom: 0;left: 50%;z-index: 0;}#sk-container-id-3 div.sk-serial {display: flex;flex-direction: column;align-items: center;background-color: white;padding-right: 0.2em;padding-left: 0.2em;position: relative;}#sk-container-id-3 div.sk-item {position: relative;z-index: 1;}#sk-container-id-3 div.sk-parallel {display: flex;align-items: stretch;justify-content: center;background-color: white;position: relative;}#sk-container-id-3 div.sk-item::before, #sk-container-id-3 div.sk-parallel-item::before {content: \"\";position: absolute;border-left: 1px solid gray;box-sizing: border-box;top: 0;bottom: 0;left: 50%;z-index: -1;}#sk-container-id-3 div.sk-parallel-item {display: flex;flex-direction: column;z-index: 1;position: relative;background-color: white;}#sk-container-id-3 div.sk-parallel-item:first-child::after {align-self: flex-end;width: 50%;}#sk-container-id-3 div.sk-parallel-item:last-child::after {align-self: flex-start;width: 50%;}#sk-container-id-3 div.sk-parallel-item:only-child::after {width: 0;}#sk-container-id-3 div.sk-dashed-wrapped {border: 1px dashed gray;margin: 0 0.4em 0.5em 0.4em;box-sizing: border-box;padding-bottom: 0.4em;background-color: white;}#sk-container-id-3 div.sk-label label {font-family: monospace;font-weight: bold;display: inline-block;line-height: 1.2em;}#sk-container-id-3 div.sk-label-container {text-align: center;}#sk-container-id-3 div.sk-container {/* jupyter's `normalize.less` sets `[hidden] { display: none; }` but bootstrap.min.css set `[hidden] { display: none !important; }` so we also need the `!important` here to be able to override the default hidden behavior on the sphinx rendered scikit-learn.org. See: https://github.com/scikit-learn/scikit-learn/issues/21755 */display: inline-block !important;position: relative;}#sk-container-id-3 div.sk-text-repr-fallback {display: none;}</style><div id=\"sk-container-id-3\" class=\"sk-top-container\"><div class=\"sk-text-repr-fallback\"><pre>GaussianProcessRegressor(kernel=1**2 * RBF(length_scale=1) + WhiteKernel(noise_level=1),\n",
       "                         n_restarts_optimizer=10)</pre><b>In a Jupyter environment, please rerun this cell to show the HTML representation or trust the notebook. <br />On GitHub, the HTML representation is unable to render, please try loading this page with nbviewer.org.</b></div><div class=\"sk-container\" hidden><div class=\"sk-item\"><div class=\"sk-estimator sk-toggleable\"><input class=\"sk-toggleable__control sk-hidden--visually\" id=\"sk-estimator-id-3\" type=\"checkbox\" checked><label for=\"sk-estimator-id-3\" class=\"sk-toggleable__label sk-toggleable__label-arrow\">GaussianProcessRegressor</label><div class=\"sk-toggleable__content\"><pre>GaussianProcessRegressor(kernel=1**2 * RBF(length_scale=1) + WhiteKernel(noise_level=1),\n",
       "                         n_restarts_optimizer=10)</pre></div></div></div></div></div>"
      ],
      "text/plain": [
       "GaussianProcessRegressor(kernel=1**2 * RBF(length_scale=1) + WhiteKernel(noise_level=1),\n",
       "                         n_restarts_optimizer=10)"
      ]
     },
     "execution_count": 41,
     "metadata": {},
     "output_type": "execute_result"
    }
   ],
   "source": [
    "model_compact = GaussianProcessRegressor(kernel=our_kernel, n_restarts_optimizer = 10) #dla klasy Compact - oryginalne dane\n",
    "model_compact"
   ]
  },
  {
   "cell_type": "code",
   "execution_count": 42,
   "id": "68ff4931-ffe5-44fa-966c-fb6b2de5e945",
   "metadata": {
    "id": "68ff4931-ffe5-44fa-966c-fb6b2de5e945"
   },
   "outputs": [
    {
     "data": {
      "text/html": [
       "<style>#sk-container-id-4 {color: black;}#sk-container-id-4 pre{padding: 0;}#sk-container-id-4 div.sk-toggleable {background-color: white;}#sk-container-id-4 label.sk-toggleable__label {cursor: pointer;display: block;width: 100%;margin-bottom: 0;padding: 0.3em;box-sizing: border-box;text-align: center;}#sk-container-id-4 label.sk-toggleable__label-arrow:before {content: \"▸\";float: left;margin-right: 0.25em;color: #696969;}#sk-container-id-4 label.sk-toggleable__label-arrow:hover:before {color: black;}#sk-container-id-4 div.sk-estimator:hover label.sk-toggleable__label-arrow:before {color: black;}#sk-container-id-4 div.sk-toggleable__content {max-height: 0;max-width: 0;overflow: hidden;text-align: left;background-color: #f0f8ff;}#sk-container-id-4 div.sk-toggleable__content pre {margin: 0.2em;color: black;border-radius: 0.25em;background-color: #f0f8ff;}#sk-container-id-4 input.sk-toggleable__control:checked~div.sk-toggleable__content {max-height: 200px;max-width: 100%;overflow: auto;}#sk-container-id-4 input.sk-toggleable__control:checked~label.sk-toggleable__label-arrow:before {content: \"▾\";}#sk-container-id-4 div.sk-estimator input.sk-toggleable__control:checked~label.sk-toggleable__label {background-color: #d4ebff;}#sk-container-id-4 div.sk-label input.sk-toggleable__control:checked~label.sk-toggleable__label {background-color: #d4ebff;}#sk-container-id-4 input.sk-hidden--visually {border: 0;clip: rect(1px 1px 1px 1px);clip: rect(1px, 1px, 1px, 1px);height: 1px;margin: -1px;overflow: hidden;padding: 0;position: absolute;width: 1px;}#sk-container-id-4 div.sk-estimator {font-family: monospace;background-color: #f0f8ff;border: 1px dotted black;border-radius: 0.25em;box-sizing: border-box;margin-bottom: 0.5em;}#sk-container-id-4 div.sk-estimator:hover {background-color: #d4ebff;}#sk-container-id-4 div.sk-parallel-item::after {content: \"\";width: 100%;border-bottom: 1px solid gray;flex-grow: 1;}#sk-container-id-4 div.sk-label:hover label.sk-toggleable__label {background-color: #d4ebff;}#sk-container-id-4 div.sk-serial::before {content: \"\";position: absolute;border-left: 1px solid gray;box-sizing: border-box;top: 0;bottom: 0;left: 50%;z-index: 0;}#sk-container-id-4 div.sk-serial {display: flex;flex-direction: column;align-items: center;background-color: white;padding-right: 0.2em;padding-left: 0.2em;position: relative;}#sk-container-id-4 div.sk-item {position: relative;z-index: 1;}#sk-container-id-4 div.sk-parallel {display: flex;align-items: stretch;justify-content: center;background-color: white;position: relative;}#sk-container-id-4 div.sk-item::before, #sk-container-id-4 div.sk-parallel-item::before {content: \"\";position: absolute;border-left: 1px solid gray;box-sizing: border-box;top: 0;bottom: 0;left: 50%;z-index: -1;}#sk-container-id-4 div.sk-parallel-item {display: flex;flex-direction: column;z-index: 1;position: relative;background-color: white;}#sk-container-id-4 div.sk-parallel-item:first-child::after {align-self: flex-end;width: 50%;}#sk-container-id-4 div.sk-parallel-item:last-child::after {align-self: flex-start;width: 50%;}#sk-container-id-4 div.sk-parallel-item:only-child::after {width: 0;}#sk-container-id-4 div.sk-dashed-wrapped {border: 1px dashed gray;margin: 0 0.4em 0.5em 0.4em;box-sizing: border-box;padding-bottom: 0.4em;background-color: white;}#sk-container-id-4 div.sk-label label {font-family: monospace;font-weight: bold;display: inline-block;line-height: 1.2em;}#sk-container-id-4 div.sk-label-container {text-align: center;}#sk-container-id-4 div.sk-container {/* jupyter's `normalize.less` sets `[hidden] { display: none; }` but bootstrap.min.css set `[hidden] { display: none !important; }` so we also need the `!important` here to be able to override the default hidden behavior on the sphinx rendered scikit-learn.org. See: https://github.com/scikit-learn/scikit-learn/issues/21755 */display: inline-block !important;position: relative;}#sk-container-id-4 div.sk-text-repr-fallback {display: none;}</style><div id=\"sk-container-id-4\" class=\"sk-top-container\"><div class=\"sk-text-repr-fallback\"><pre>GaussianProcessRegressor(kernel=1**2 * RBF(length_scale=1) + WhiteKernel(noise_level=1),\n",
       "                         n_restarts_optimizer=10)</pre><b>In a Jupyter environment, please rerun this cell to show the HTML representation or trust the notebook. <br />On GitHub, the HTML representation is unable to render, please try loading this page with nbviewer.org.</b></div><div class=\"sk-container\" hidden><div class=\"sk-item\"><div class=\"sk-estimator sk-toggleable\"><input class=\"sk-toggleable__control sk-hidden--visually\" id=\"sk-estimator-id-4\" type=\"checkbox\" checked><label for=\"sk-estimator-id-4\" class=\"sk-toggleable__label sk-toggleable__label-arrow\">GaussianProcessRegressor</label><div class=\"sk-toggleable__content\"><pre>GaussianProcessRegressor(kernel=1**2 * RBF(length_scale=1) + WhiteKernel(noise_level=1),\n",
       "                         n_restarts_optimizer=10)</pre></div></div></div></div></div>"
      ],
      "text/plain": [
       "GaussianProcessRegressor(kernel=1**2 * RBF(length_scale=1) + WhiteKernel(noise_level=1),\n",
       "                         n_restarts_optimizer=10)"
      ]
     },
     "execution_count": 42,
     "metadata": {},
     "output_type": "execute_result"
    }
   ],
   "source": [
    "model_compact_std = GaussianProcessRegressor(kernel=our_kernel, n_restarts_optimizer = 10) #dla klasy Compact - ustandaryzowane dane\n",
    "model_compact_std"
   ]
  },
  {
   "cell_type": "markdown",
   "id": "dea8cb35-cdc1-41dd-99db-8482f810cbe5",
   "metadata": {
    "id": "dea8cb35-cdc1-41dd-99db-8482f810cbe5"
   },
   "source": [
    "Podczas uczenia (metoda .fit) automatycznie jest podejmowana próba 'dostrojenia' hiperparametrów na najlepsze. Postanawiamy, że optimizer czyli mechanizm, który wykonuje te próby 'dostrojenia', będzie 'puszczany' 10 razy podczas uczenia, żeby zminimalizować ryzyko 'utknięcia' na lokalnym, ale wcale nie globalnym minimum. Dlatego ustawiamy parametr n_restarts_optimizer na 10."
   ]
  },
  {
   "cell_type": "markdown",
   "id": "8fc5325c-51d2-476e-80f7-ab4a7a2051cc",
   "metadata": {
    "id": "8fc5325c-51d2-476e-80f7-ab4a7a2051cc"
   },
   "source": [
    "Teraz trenujemy nasz model (podczas trenowania uruchomione jest automatycznie dostrajanie hiperparametrów) - jednocześnie z ciekawości mierząc czasy budowania modelu:"
   ]
  },
  {
   "cell_type": "code",
   "execution_count": 43,
   "id": "8676d274-8763-48cb-9a67-5405339e2aed",
   "metadata": {
    "id": "8676d274-8763-48cb-9a67-5405339e2aed"
   },
   "outputs": [
    {
     "name": "stdout",
     "output_type": "stream",
     "text": [
      "Uczenie modelu model_luxury zajęło około: 5.66s.\n"
     ]
    },
    {
     "name": "stderr",
     "output_type": "stream",
     "text": [
      "C:\\Users\\piotr\\pythonlab\\Lib\\site-packages\\sklearn\\gaussian_process\\kernels.py:429: ConvergenceWarning:\n",
      "\n",
      "The optimal value found for dimension 0 of parameter k1__k2__length_scale is close to the specified upper bound 100000.0. Increasing the bound and calling fit again may find a better value.\n",
      "\n"
     ]
    }
   ],
   "source": [
    "time_start = time.time()\n",
    "model_luxury.fit(X_luxury, y_luxury)\n",
    "time_stop = time.time()\n",
    "print(\"Uczenie modelu model_luxury zajęło około: %.2fs.\" % (time_stop-time_start))"
   ]
  },
  {
   "cell_type": "code",
   "execution_count": 44,
   "id": "7596913f-a84f-4a2a-bd01-c1b763f084ec",
   "metadata": {
    "id": "7596913f-a84f-4a2a-bd01-c1b763f084ec"
   },
   "outputs": [
    {
     "name": "stdout",
     "output_type": "stream",
     "text": [
      "Uczenie modelu model_luxury_std zajęło około: 4.61s.\n"
     ]
    }
   ],
   "source": [
    "time_start = time.time()\n",
    "model_luxury_std.fit(X_luxury_std, y_luxury)\n",
    "time_stop = time.time()\n",
    "print(\"Uczenie modelu model_luxury_std zajęło około: %.2fs.\" % (time_stop-time_start))"
   ]
  },
  {
   "cell_type": "code",
   "execution_count": 45,
   "id": "4200ced1-2922-4e07-993b-4c7ada7015bc",
   "metadata": {
    "id": "4200ced1-2922-4e07-993b-4c7ada7015bc"
   },
   "outputs": [
    {
     "name": "stdout",
     "output_type": "stream",
     "text": [
      "Uczenie modelu model_compact zajęło około: 14.07s.\n"
     ]
    },
    {
     "name": "stderr",
     "output_type": "stream",
     "text": [
      "C:\\Users\\piotr\\pythonlab\\Lib\\site-packages\\sklearn\\gaussian_process\\kernels.py:429: ConvergenceWarning:\n",
      "\n",
      "The optimal value found for dimension 0 of parameter k1__k1__constant_value is close to the specified upper bound 100000.0. Increasing the bound and calling fit again may find a better value.\n",
      "\n"
     ]
    }
   ],
   "source": [
    "time_start = time.time()\n",
    "model_compact.fit(X_compact, y_compact)\n",
    "time_stop = time.time()\n",
    "print(\"Uczenie modelu model_compact zajęło około: %.2fs.\" % (time_stop-time_start))"
   ]
  },
  {
   "cell_type": "code",
   "execution_count": 46,
   "id": "1b646f0b-c45e-41d2-8e59-e19b09dbda5d",
   "metadata": {
    "id": "1b646f0b-c45e-41d2-8e59-e19b09dbda5d"
   },
   "outputs": [
    {
     "name": "stderr",
     "output_type": "stream",
     "text": [
      "C:\\Users\\piotr\\pythonlab\\Lib\\site-packages\\sklearn\\gaussian_process\\_gpr.py:663: ConvergenceWarning:\n",
      "\n",
      "lbfgs failed to converge (status=2):\n",
      "ABNORMAL_TERMINATION_IN_LNSRCH.\n",
      "\n",
      "Increase the number of iterations (max_iter) or scale the data as shown in:\n",
      "    https://scikit-learn.org/stable/modules/preprocessing.html\n",
      "\n"
     ]
    },
    {
     "name": "stdout",
     "output_type": "stream",
     "text": [
      "Uczenie modelu model_compact_std zajęło około: 17.96s.\n"
     ]
    }
   ],
   "source": [
    "time_start = time.time()\n",
    "model_compact_std.fit(X_compact_std, y_compact)\n",
    "time_stop = time.time()\n",
    "print(\"Uczenie modelu model_compact_std zajęło około: %.2fs.\" % (time_stop-time_start))"
   ]
  },
  {
   "cell_type": "markdown",
   "id": "325c2e57-d2cf-44b1-b3a7-2016a0a3eba3",
   "metadata": {
    "id": "325c2e57-d2cf-44b1-b3a7-2016a0a3eba3"
   },
   "source": [
    "Podejmujemy teraz kroki w celu zoptymalizowania modelu, który otrzymaliśmy."
   ]
  },
  {
   "cell_type": "markdown",
   "id": "12dd9545-cea8-43b9-9326-c34a254bb881",
   "metadata": {
    "id": "12dd9545-cea8-43b9-9326-c34a254bb881"
   },
   "source": [
    "Zaimplementujemy teraz przeszukiwanie gridowe i w kolejnych zmiennych zapiszemy modele, wskazane przez przeszukiwanie gridowe jako najlepsze - we wszystkich 4 przypadkach. Zrobimy to przy pomocy metody GridSearchCV z pakietu sklearn.model_selection (link do dokumentacji: [link](https://scikit-learn.org/stable/modules/generated/sklearn.model_selection.GridSearchCV.html)). Teraz definiujemy słownik param_grid, pomocniczy do przeszukiwania gridowego:"
   ]
  },
  {
   "cell_type": "code",
   "execution_count": 47,
   "id": "77b47e51-c43b-433b-a298-ff1ea4498c4c",
   "metadata": {
    "id": "77b47e51-c43b-433b-a298-ff1ea4498c4c"
   },
   "outputs": [],
   "source": [
    "param_grid = {\n",
    "    \"kernel\": [our_kernel]\n",
    "}"
   ]
  },
  {
   "cell_type": "markdown",
   "id": "71ea8e02-6a38-4bf9-90b3-9179691e2c09",
   "metadata": {
    "id": "71ea8e02-6a38-4bf9-90b3-9179691e2c09"
   },
   "source": [
    "Teraz definiujemy zmienne typu GridSearchCV dla powyższych 4 modeli (parametr 'cv', określający ilość 'folds' (nie wiem jak to przetłumaczyć) w cross-walidacji, która jest używana podczas przeszukiwania gridowego w celu oceny jakości modelu, ustawiamy na 10, bo nie mamy innego pomysłu, a to jest dość popularna wartość):"
   ]
  },
  {
   "cell_type": "code",
   "execution_count": 48,
   "id": "60ef3121-41dd-42dc-816c-542f961863a7",
   "metadata": {
    "id": "60ef3121-41dd-42dc-816c-542f961863a7"
   },
   "outputs": [],
   "source": [
    "grid_search_model_luxury = GridSearchCV(model_luxury, param_grid, cv=10, scoring = 'neg_mean_absolute_error')"
   ]
  },
  {
   "cell_type": "code",
   "execution_count": 49,
   "id": "d54542ac-bbf9-4e3b-b6c2-35dca319ecc4",
   "metadata": {
    "id": "d54542ac-bbf9-4e3b-b6c2-35dca319ecc4"
   },
   "outputs": [],
   "source": [
    "grid_search_model_luxury_std = GridSearchCV(model_luxury_std, param_grid, cv=10, scoring = 'neg_mean_absolute_error')"
   ]
  },
  {
   "cell_type": "code",
   "execution_count": 50,
   "id": "3b420440-d0db-4707-bde9-8c7367ec9e30",
   "metadata": {
    "id": "3b420440-d0db-4707-bde9-8c7367ec9e30"
   },
   "outputs": [],
   "source": [
    "grid_search_model_compact = GridSearchCV(model_compact, param_grid, cv=10, scoring = 'neg_mean_absolute_error')"
   ]
  },
  {
   "cell_type": "code",
   "execution_count": 51,
   "id": "e031e3dd-0a75-4f45-9e46-a3aed95dcd2a",
   "metadata": {
    "id": "e031e3dd-0a75-4f45-9e46-a3aed95dcd2a"
   },
   "outputs": [],
   "source": [
    "grid_search_model_compact_std = GridSearchCV(model_compact_std, param_grid, cv=10, scoring = 'neg_mean_absolute_error')"
   ]
  },
  {
   "cell_type": "markdown",
   "id": "f2234f2a-418a-4e81-b860-42a7ac36051c",
   "metadata": {
    "id": "f2234f2a-418a-4e81-b860-42a7ac36051c"
   },
   "source": [
    "No więc, uruchamiamy proces uczenia (czyli tak naprawdę przeszukiwanie gridowe) dla już wytrenowanych modeli:"
   ]
  },
  {
   "cell_type": "code",
   "execution_count": 52,
   "id": "7a2874d4-bfa8-40df-9422-1d7ddabe0184",
   "metadata": {
    "id": "7a2874d4-bfa8-40df-9422-1d7ddabe0184"
   },
   "outputs": [
    {
     "name": "stderr",
     "output_type": "stream",
     "text": [
      "C:\\Users\\piotr\\pythonlab\\Lib\\site-packages\\sklearn\\gaussian_process\\kernels.py:429: ConvergenceWarning:\n",
      "\n",
      "The optimal value found for dimension 0 of parameter k1__k2__length_scale is close to the specified upper bound 100000.0. Increasing the bound and calling fit again may find a better value.\n",
      "\n",
      "C:\\Users\\piotr\\pythonlab\\Lib\\site-packages\\sklearn\\gaussian_process\\kernels.py:429: ConvergenceWarning:\n",
      "\n",
      "The optimal value found for dimension 0 of parameter k1__k2__length_scale is close to the specified upper bound 100000.0. Increasing the bound and calling fit again may find a better value.\n",
      "\n",
      "C:\\Users\\piotr\\pythonlab\\Lib\\site-packages\\sklearn\\gaussian_process\\kernels.py:429: ConvergenceWarning:\n",
      "\n",
      "The optimal value found for dimension 0 of parameter k1__k2__length_scale is close to the specified upper bound 100000.0. Increasing the bound and calling fit again may find a better value.\n",
      "\n",
      "C:\\Users\\piotr\\pythonlab\\Lib\\site-packages\\sklearn\\gaussian_process\\kernels.py:429: ConvergenceWarning:\n",
      "\n",
      "The optimal value found for dimension 0 of parameter k1__k2__length_scale is close to the specified upper bound 100000.0. Increasing the bound and calling fit again may find a better value.\n",
      "\n",
      "C:\\Users\\piotr\\pythonlab\\Lib\\site-packages\\sklearn\\gaussian_process\\kernels.py:429: ConvergenceWarning:\n",
      "\n",
      "The optimal value found for dimension 0 of parameter k1__k2__length_scale is close to the specified upper bound 100000.0. Increasing the bound and calling fit again may find a better value.\n",
      "\n",
      "C:\\Users\\piotr\\pythonlab\\Lib\\site-packages\\sklearn\\gaussian_process\\kernels.py:429: ConvergenceWarning:\n",
      "\n",
      "The optimal value found for dimension 0 of parameter k1__k2__length_scale is close to the specified upper bound 100000.0. Increasing the bound and calling fit again may find a better value.\n",
      "\n"
     ]
    },
    {
     "name": "stdout",
     "output_type": "stream",
     "text": [
      "Przeszukiwanie gridowe dla modelu model_luxury zajęło: 30.28s.\n"
     ]
    },
    {
     "name": "stderr",
     "output_type": "stream",
     "text": [
      "C:\\Users\\piotr\\pythonlab\\Lib\\site-packages\\sklearn\\gaussian_process\\kernels.py:429: ConvergenceWarning:\n",
      "\n",
      "The optimal value found for dimension 0 of parameter k1__k2__length_scale is close to the specified upper bound 100000.0. Increasing the bound and calling fit again may find a better value.\n",
      "\n"
     ]
    }
   ],
   "source": [
    "time_start = time.time()\n",
    "grid_search_model_luxury.fit(X_luxury_train, y_luxury_train)\n",
    "time_stop = time.time()\n",
    "print(\"Przeszukiwanie gridowe dla modelu model_luxury zajęło: %.2fs.\" % (time_stop-time_start))"
   ]
  },
  {
   "cell_type": "code",
   "execution_count": 53,
   "id": "75964c0b-1bd1-4dd5-be91-6e56186edbcd",
   "metadata": {
    "id": "75964c0b-1bd1-4dd5-be91-6e56186edbcd"
   },
   "outputs": [
    {
     "name": "stdout",
     "output_type": "stream",
     "text": [
      "Przeszukiwanie gridowe dla modelu model_luxury_std zajęło: 29.20s.\n"
     ]
    }
   ],
   "source": [
    "time_start = time.time()\n",
    "grid_search_model_luxury_std.fit(X_luxury_std_train, y_luxury_train)\n",
    "time_stop = time.time()\n",
    "print(\"Przeszukiwanie gridowe dla modelu model_luxury_std zajęło: %.2fs.\" % (time_stop-time_start))"
   ]
  },
  {
   "cell_type": "code",
   "execution_count": 54,
   "id": "ebdcf783-7411-4a30-af11-a790dae857ba",
   "metadata": {
    "id": "ebdcf783-7411-4a30-af11-a790dae857ba"
   },
   "outputs": [
    {
     "name": "stderr",
     "output_type": "stream",
     "text": [
      "C:\\Users\\piotr\\pythonlab\\Lib\\site-packages\\sklearn\\gaussian_process\\kernels.py:429: ConvergenceWarning:\n",
      "\n",
      "The optimal value found for dimension 0 of parameter k1__k1__constant_value is close to the specified upper bound 100000.0. Increasing the bound and calling fit again may find a better value.\n",
      "\n",
      "C:\\Users\\piotr\\pythonlab\\Lib\\site-packages\\sklearn\\gaussian_process\\kernels.py:429: ConvergenceWarning:\n",
      "\n",
      "The optimal value found for dimension 0 of parameter k1__k1__constant_value is close to the specified upper bound 100000.0. Increasing the bound and calling fit again may find a better value.\n",
      "\n",
      "C:\\Users\\piotr\\pythonlab\\Lib\\site-packages\\sklearn\\gaussian_process\\kernels.py:429: ConvergenceWarning:\n",
      "\n",
      "The optimal value found for dimension 0 of parameter k1__k2__length_scale is close to the specified upper bound 100000.0. Increasing the bound and calling fit again may find a better value.\n",
      "\n",
      "C:\\Users\\piotr\\pythonlab\\Lib\\site-packages\\sklearn\\gaussian_process\\kernels.py:429: ConvergenceWarning:\n",
      "\n",
      "The optimal value found for dimension 0 of parameter k1__k1__constant_value is close to the specified upper bound 100000.0. Increasing the bound and calling fit again may find a better value.\n",
      "\n",
      "C:\\Users\\piotr\\pythonlab\\Lib\\site-packages\\sklearn\\gaussian_process\\kernels.py:429: ConvergenceWarning:\n",
      "\n",
      "The optimal value found for dimension 0 of parameter k1__k2__length_scale is close to the specified upper bound 100000.0. Increasing the bound and calling fit again may find a better value.\n",
      "\n",
      "C:\\Users\\piotr\\pythonlab\\Lib\\site-packages\\sklearn\\gaussian_process\\kernels.py:429: ConvergenceWarning:\n",
      "\n",
      "The optimal value found for dimension 0 of parameter k1__k2__length_scale is close to the specified upper bound 100000.0. Increasing the bound and calling fit again may find a better value.\n",
      "\n",
      "C:\\Users\\piotr\\pythonlab\\Lib\\site-packages\\sklearn\\gaussian_process\\_gpr.py:663: ConvergenceWarning:\n",
      "\n",
      "lbfgs failed to converge (status=2):\n",
      "ABNORMAL_TERMINATION_IN_LNSRCH.\n",
      "\n",
      "Increase the number of iterations (max_iter) or scale the data as shown in:\n",
      "    https://scikit-learn.org/stable/modules/preprocessing.html\n",
      "\n",
      "C:\\Users\\piotr\\pythonlab\\Lib\\site-packages\\sklearn\\gaussian_process\\kernels.py:429: ConvergenceWarning:\n",
      "\n",
      "The optimal value found for dimension 0 of parameter k1__k1__constant_value is close to the specified upper bound 100000.0. Increasing the bound and calling fit again may find a better value.\n",
      "\n",
      "C:\\Users\\piotr\\pythonlab\\Lib\\site-packages\\sklearn\\gaussian_process\\kernels.py:429: ConvergenceWarning:\n",
      "\n",
      "The optimal value found for dimension 0 of parameter k1__k1__constant_value is close to the specified upper bound 100000.0. Increasing the bound and calling fit again may find a better value.\n",
      "\n",
      "C:\\Users\\piotr\\pythonlab\\Lib\\site-packages\\sklearn\\gaussian_process\\kernels.py:429: ConvergenceWarning:\n",
      "\n",
      "The optimal value found for dimension 0 of parameter k1__k1__constant_value is close to the specified upper bound 100000.0. Increasing the bound and calling fit again may find a better value.\n",
      "\n"
     ]
    },
    {
     "name": "stdout",
     "output_type": "stream",
     "text": [
      "Przeszukiwanie gridowe dla modelu model_compact zajęło: 77.33s.\n"
     ]
    },
    {
     "name": "stderr",
     "output_type": "stream",
     "text": [
      "C:\\Users\\piotr\\pythonlab\\Lib\\site-packages\\sklearn\\gaussian_process\\kernels.py:429: ConvergenceWarning:\n",
      "\n",
      "The optimal value found for dimension 0 of parameter k1__k2__length_scale is close to the specified upper bound 100000.0. Increasing the bound and calling fit again may find a better value.\n",
      "\n"
     ]
    }
   ],
   "source": [
    "time_start = time.time()\n",
    "grid_search_model_compact.fit(X_compact_train, y_compact_train)\n",
    "time_stop = time.time()\n",
    "print(\"Przeszukiwanie gridowe dla modelu model_compact zajęło: %.2fs.\" % (time_stop-time_start))"
   ]
  },
  {
   "cell_type": "code",
   "execution_count": 55,
   "id": "e52d40c5-2ebe-4580-9665-dd634b55a5c8",
   "metadata": {
    "id": "e52d40c5-2ebe-4580-9665-dd634b55a5c8"
   },
   "outputs": [
    {
     "name": "stderr",
     "output_type": "stream",
     "text": [
      "C:\\Users\\piotr\\pythonlab\\Lib\\site-packages\\sklearn\\gaussian_process\\_gpr.py:663: ConvergenceWarning:\n",
      "\n",
      "lbfgs failed to converge (status=2):\n",
      "ABNORMAL_TERMINATION_IN_LNSRCH.\n",
      "\n",
      "Increase the number of iterations (max_iter) or scale the data as shown in:\n",
      "    https://scikit-learn.org/stable/modules/preprocessing.html\n",
      "\n"
     ]
    },
    {
     "name": "stdout",
     "output_type": "stream",
     "text": [
      "Przeszukiwanie gridowe dla modelu model_compact_std zajęło: 76.03s.\n"
     ]
    }
   ],
   "source": [
    "time_start = time.time()\n",
    "grid_search_model_compact_std.fit(X_compact_std_train, y_compact_train)\n",
    "time_stop = time.time()\n",
    "print(\"Przeszukiwanie gridowe dla modelu model_compact_std zajęło: %.2fs.\" % (time_stop-time_start))"
   ]
  },
  {
   "cell_type": "markdown",
   "id": "3539e54d-1dea-46f5-8885-cef2925684a0",
   "metadata": {
    "id": "3539e54d-1dea-46f5-8885-cef2925684a0"
   },
   "source": [
    "Jak więc widać po samych ostrzeżeniach, wygenerowanych przez GridSearchCV, standaryzacja danych chyba jednak była dobrym pomysłem."
   ]
  },
  {
   "cell_type": "markdown",
   "id": "bd20d22c-858a-4b23-a607-080ea41a6e24",
   "metadata": {
    "id": "bd20d22c-858a-4b23-a607-080ea41a6e24"
   },
   "source": [
    "Wydobywamy teraz po kolei modele, wskazane przez przeszukiwanie gridowe jako najlepsze:"
   ]
  },
  {
   "cell_type": "code",
   "execution_count": 56,
   "id": "5002b190-08b8-4970-ab2e-906ec4287fbe",
   "metadata": {
    "id": "5002b190-08b8-4970-ab2e-906ec4287fbe"
   },
   "outputs": [
    {
     "data": {
      "text/html": [
       "<style>#sk-container-id-5 {color: black;}#sk-container-id-5 pre{padding: 0;}#sk-container-id-5 div.sk-toggleable {background-color: white;}#sk-container-id-5 label.sk-toggleable__label {cursor: pointer;display: block;width: 100%;margin-bottom: 0;padding: 0.3em;box-sizing: border-box;text-align: center;}#sk-container-id-5 label.sk-toggleable__label-arrow:before {content: \"▸\";float: left;margin-right: 0.25em;color: #696969;}#sk-container-id-5 label.sk-toggleable__label-arrow:hover:before {color: black;}#sk-container-id-5 div.sk-estimator:hover label.sk-toggleable__label-arrow:before {color: black;}#sk-container-id-5 div.sk-toggleable__content {max-height: 0;max-width: 0;overflow: hidden;text-align: left;background-color: #f0f8ff;}#sk-container-id-5 div.sk-toggleable__content pre {margin: 0.2em;color: black;border-radius: 0.25em;background-color: #f0f8ff;}#sk-container-id-5 input.sk-toggleable__control:checked~div.sk-toggleable__content {max-height: 200px;max-width: 100%;overflow: auto;}#sk-container-id-5 input.sk-toggleable__control:checked~label.sk-toggleable__label-arrow:before {content: \"▾\";}#sk-container-id-5 div.sk-estimator input.sk-toggleable__control:checked~label.sk-toggleable__label {background-color: #d4ebff;}#sk-container-id-5 div.sk-label input.sk-toggleable__control:checked~label.sk-toggleable__label {background-color: #d4ebff;}#sk-container-id-5 input.sk-hidden--visually {border: 0;clip: rect(1px 1px 1px 1px);clip: rect(1px, 1px, 1px, 1px);height: 1px;margin: -1px;overflow: hidden;padding: 0;position: absolute;width: 1px;}#sk-container-id-5 div.sk-estimator {font-family: monospace;background-color: #f0f8ff;border: 1px dotted black;border-radius: 0.25em;box-sizing: border-box;margin-bottom: 0.5em;}#sk-container-id-5 div.sk-estimator:hover {background-color: #d4ebff;}#sk-container-id-5 div.sk-parallel-item::after {content: \"\";width: 100%;border-bottom: 1px solid gray;flex-grow: 1;}#sk-container-id-5 div.sk-label:hover label.sk-toggleable__label {background-color: #d4ebff;}#sk-container-id-5 div.sk-serial::before {content: \"\";position: absolute;border-left: 1px solid gray;box-sizing: border-box;top: 0;bottom: 0;left: 50%;z-index: 0;}#sk-container-id-5 div.sk-serial {display: flex;flex-direction: column;align-items: center;background-color: white;padding-right: 0.2em;padding-left: 0.2em;position: relative;}#sk-container-id-5 div.sk-item {position: relative;z-index: 1;}#sk-container-id-5 div.sk-parallel {display: flex;align-items: stretch;justify-content: center;background-color: white;position: relative;}#sk-container-id-5 div.sk-item::before, #sk-container-id-5 div.sk-parallel-item::before {content: \"\";position: absolute;border-left: 1px solid gray;box-sizing: border-box;top: 0;bottom: 0;left: 50%;z-index: -1;}#sk-container-id-5 div.sk-parallel-item {display: flex;flex-direction: column;z-index: 1;position: relative;background-color: white;}#sk-container-id-5 div.sk-parallel-item:first-child::after {align-self: flex-end;width: 50%;}#sk-container-id-5 div.sk-parallel-item:last-child::after {align-self: flex-start;width: 50%;}#sk-container-id-5 div.sk-parallel-item:only-child::after {width: 0;}#sk-container-id-5 div.sk-dashed-wrapped {border: 1px dashed gray;margin: 0 0.4em 0.5em 0.4em;box-sizing: border-box;padding-bottom: 0.4em;background-color: white;}#sk-container-id-5 div.sk-label label {font-family: monospace;font-weight: bold;display: inline-block;line-height: 1.2em;}#sk-container-id-5 div.sk-label-container {text-align: center;}#sk-container-id-5 div.sk-container {/* jupyter's `normalize.less` sets `[hidden] { display: none; }` but bootstrap.min.css set `[hidden] { display: none !important; }` so we also need the `!important` here to be able to override the default hidden behavior on the sphinx rendered scikit-learn.org. See: https://github.com/scikit-learn/scikit-learn/issues/21755 */display: inline-block !important;position: relative;}#sk-container-id-5 div.sk-text-repr-fallback {display: none;}</style><div id=\"sk-container-id-5\" class=\"sk-top-container\"><div class=\"sk-text-repr-fallback\"><pre>GaussianProcessRegressor(kernel=1**2 * RBF(length_scale=1) + WhiteKernel(noise_level=1),\n",
       "                         n_restarts_optimizer=10)</pre><b>In a Jupyter environment, please rerun this cell to show the HTML representation or trust the notebook. <br />On GitHub, the HTML representation is unable to render, please try loading this page with nbviewer.org.</b></div><div class=\"sk-container\" hidden><div class=\"sk-item\"><div class=\"sk-estimator sk-toggleable\"><input class=\"sk-toggleable__control sk-hidden--visually\" id=\"sk-estimator-id-5\" type=\"checkbox\" checked><label for=\"sk-estimator-id-5\" class=\"sk-toggleable__label sk-toggleable__label-arrow\">GaussianProcessRegressor</label><div class=\"sk-toggleable__content\"><pre>GaussianProcessRegressor(kernel=1**2 * RBF(length_scale=1) + WhiteKernel(noise_level=1),\n",
       "                         n_restarts_optimizer=10)</pre></div></div></div></div></div>"
      ],
      "text/plain": [
       "GaussianProcessRegressor(kernel=1**2 * RBF(length_scale=1) + WhiteKernel(noise_level=1),\n",
       "                         n_restarts_optimizer=10)"
      ]
     },
     "execution_count": 56,
     "metadata": {},
     "output_type": "execute_result"
    }
   ],
   "source": [
    "model_luxury_best_from_gridSearch = grid_search_model_luxury.best_estimator_\n",
    "model_luxury_best_from_gridSearch"
   ]
  },
  {
   "cell_type": "code",
   "execution_count": 57,
   "id": "26ae9144-7a96-43ba-b1cc-44e648c4c491",
   "metadata": {
    "id": "26ae9144-7a96-43ba-b1cc-44e648c4c491"
   },
   "outputs": [
    {
     "data": {
      "text/html": [
       "<style>#sk-container-id-6 {color: black;}#sk-container-id-6 pre{padding: 0;}#sk-container-id-6 div.sk-toggleable {background-color: white;}#sk-container-id-6 label.sk-toggleable__label {cursor: pointer;display: block;width: 100%;margin-bottom: 0;padding: 0.3em;box-sizing: border-box;text-align: center;}#sk-container-id-6 label.sk-toggleable__label-arrow:before {content: \"▸\";float: left;margin-right: 0.25em;color: #696969;}#sk-container-id-6 label.sk-toggleable__label-arrow:hover:before {color: black;}#sk-container-id-6 div.sk-estimator:hover label.sk-toggleable__label-arrow:before {color: black;}#sk-container-id-6 div.sk-toggleable__content {max-height: 0;max-width: 0;overflow: hidden;text-align: left;background-color: #f0f8ff;}#sk-container-id-6 div.sk-toggleable__content pre {margin: 0.2em;color: black;border-radius: 0.25em;background-color: #f0f8ff;}#sk-container-id-6 input.sk-toggleable__control:checked~div.sk-toggleable__content {max-height: 200px;max-width: 100%;overflow: auto;}#sk-container-id-6 input.sk-toggleable__control:checked~label.sk-toggleable__label-arrow:before {content: \"▾\";}#sk-container-id-6 div.sk-estimator input.sk-toggleable__control:checked~label.sk-toggleable__label {background-color: #d4ebff;}#sk-container-id-6 div.sk-label input.sk-toggleable__control:checked~label.sk-toggleable__label {background-color: #d4ebff;}#sk-container-id-6 input.sk-hidden--visually {border: 0;clip: rect(1px 1px 1px 1px);clip: rect(1px, 1px, 1px, 1px);height: 1px;margin: -1px;overflow: hidden;padding: 0;position: absolute;width: 1px;}#sk-container-id-6 div.sk-estimator {font-family: monospace;background-color: #f0f8ff;border: 1px dotted black;border-radius: 0.25em;box-sizing: border-box;margin-bottom: 0.5em;}#sk-container-id-6 div.sk-estimator:hover {background-color: #d4ebff;}#sk-container-id-6 div.sk-parallel-item::after {content: \"\";width: 100%;border-bottom: 1px solid gray;flex-grow: 1;}#sk-container-id-6 div.sk-label:hover label.sk-toggleable__label {background-color: #d4ebff;}#sk-container-id-6 div.sk-serial::before {content: \"\";position: absolute;border-left: 1px solid gray;box-sizing: border-box;top: 0;bottom: 0;left: 50%;z-index: 0;}#sk-container-id-6 div.sk-serial {display: flex;flex-direction: column;align-items: center;background-color: white;padding-right: 0.2em;padding-left: 0.2em;position: relative;}#sk-container-id-6 div.sk-item {position: relative;z-index: 1;}#sk-container-id-6 div.sk-parallel {display: flex;align-items: stretch;justify-content: center;background-color: white;position: relative;}#sk-container-id-6 div.sk-item::before, #sk-container-id-6 div.sk-parallel-item::before {content: \"\";position: absolute;border-left: 1px solid gray;box-sizing: border-box;top: 0;bottom: 0;left: 50%;z-index: -1;}#sk-container-id-6 div.sk-parallel-item {display: flex;flex-direction: column;z-index: 1;position: relative;background-color: white;}#sk-container-id-6 div.sk-parallel-item:first-child::after {align-self: flex-end;width: 50%;}#sk-container-id-6 div.sk-parallel-item:last-child::after {align-self: flex-start;width: 50%;}#sk-container-id-6 div.sk-parallel-item:only-child::after {width: 0;}#sk-container-id-6 div.sk-dashed-wrapped {border: 1px dashed gray;margin: 0 0.4em 0.5em 0.4em;box-sizing: border-box;padding-bottom: 0.4em;background-color: white;}#sk-container-id-6 div.sk-label label {font-family: monospace;font-weight: bold;display: inline-block;line-height: 1.2em;}#sk-container-id-6 div.sk-label-container {text-align: center;}#sk-container-id-6 div.sk-container {/* jupyter's `normalize.less` sets `[hidden] { display: none; }` but bootstrap.min.css set `[hidden] { display: none !important; }` so we also need the `!important` here to be able to override the default hidden behavior on the sphinx rendered scikit-learn.org. See: https://github.com/scikit-learn/scikit-learn/issues/21755 */display: inline-block !important;position: relative;}#sk-container-id-6 div.sk-text-repr-fallback {display: none;}</style><div id=\"sk-container-id-6\" class=\"sk-top-container\"><div class=\"sk-text-repr-fallback\"><pre>GaussianProcessRegressor(kernel=1**2 * RBF(length_scale=1) + WhiteKernel(noise_level=1),\n",
       "                         n_restarts_optimizer=10)</pre><b>In a Jupyter environment, please rerun this cell to show the HTML representation or trust the notebook. <br />On GitHub, the HTML representation is unable to render, please try loading this page with nbviewer.org.</b></div><div class=\"sk-container\" hidden><div class=\"sk-item\"><div class=\"sk-estimator sk-toggleable\"><input class=\"sk-toggleable__control sk-hidden--visually\" id=\"sk-estimator-id-6\" type=\"checkbox\" checked><label for=\"sk-estimator-id-6\" class=\"sk-toggleable__label sk-toggleable__label-arrow\">GaussianProcessRegressor</label><div class=\"sk-toggleable__content\"><pre>GaussianProcessRegressor(kernel=1**2 * RBF(length_scale=1) + WhiteKernel(noise_level=1),\n",
       "                         n_restarts_optimizer=10)</pre></div></div></div></div></div>"
      ],
      "text/plain": [
       "GaussianProcessRegressor(kernel=1**2 * RBF(length_scale=1) + WhiteKernel(noise_level=1),\n",
       "                         n_restarts_optimizer=10)"
      ]
     },
     "execution_count": 57,
     "metadata": {},
     "output_type": "execute_result"
    }
   ],
   "source": [
    "model_luxury_std_best_from_gridSearch = grid_search_model_luxury_std.best_estimator_\n",
    "model_luxury_std_best_from_gridSearch"
   ]
  },
  {
   "cell_type": "code",
   "execution_count": 58,
   "id": "a264c41d-005d-4e83-b35f-17cd3bd64680",
   "metadata": {
    "id": "a264c41d-005d-4e83-b35f-17cd3bd64680"
   },
   "outputs": [
    {
     "data": {
      "text/html": [
       "<style>#sk-container-id-7 {color: black;}#sk-container-id-7 pre{padding: 0;}#sk-container-id-7 div.sk-toggleable {background-color: white;}#sk-container-id-7 label.sk-toggleable__label {cursor: pointer;display: block;width: 100%;margin-bottom: 0;padding: 0.3em;box-sizing: border-box;text-align: center;}#sk-container-id-7 label.sk-toggleable__label-arrow:before {content: \"▸\";float: left;margin-right: 0.25em;color: #696969;}#sk-container-id-7 label.sk-toggleable__label-arrow:hover:before {color: black;}#sk-container-id-7 div.sk-estimator:hover label.sk-toggleable__label-arrow:before {color: black;}#sk-container-id-7 div.sk-toggleable__content {max-height: 0;max-width: 0;overflow: hidden;text-align: left;background-color: #f0f8ff;}#sk-container-id-7 div.sk-toggleable__content pre {margin: 0.2em;color: black;border-radius: 0.25em;background-color: #f0f8ff;}#sk-container-id-7 input.sk-toggleable__control:checked~div.sk-toggleable__content {max-height: 200px;max-width: 100%;overflow: auto;}#sk-container-id-7 input.sk-toggleable__control:checked~label.sk-toggleable__label-arrow:before {content: \"▾\";}#sk-container-id-7 div.sk-estimator input.sk-toggleable__control:checked~label.sk-toggleable__label {background-color: #d4ebff;}#sk-container-id-7 div.sk-label input.sk-toggleable__control:checked~label.sk-toggleable__label {background-color: #d4ebff;}#sk-container-id-7 input.sk-hidden--visually {border: 0;clip: rect(1px 1px 1px 1px);clip: rect(1px, 1px, 1px, 1px);height: 1px;margin: -1px;overflow: hidden;padding: 0;position: absolute;width: 1px;}#sk-container-id-7 div.sk-estimator {font-family: monospace;background-color: #f0f8ff;border: 1px dotted black;border-radius: 0.25em;box-sizing: border-box;margin-bottom: 0.5em;}#sk-container-id-7 div.sk-estimator:hover {background-color: #d4ebff;}#sk-container-id-7 div.sk-parallel-item::after {content: \"\";width: 100%;border-bottom: 1px solid gray;flex-grow: 1;}#sk-container-id-7 div.sk-label:hover label.sk-toggleable__label {background-color: #d4ebff;}#sk-container-id-7 div.sk-serial::before {content: \"\";position: absolute;border-left: 1px solid gray;box-sizing: border-box;top: 0;bottom: 0;left: 50%;z-index: 0;}#sk-container-id-7 div.sk-serial {display: flex;flex-direction: column;align-items: center;background-color: white;padding-right: 0.2em;padding-left: 0.2em;position: relative;}#sk-container-id-7 div.sk-item {position: relative;z-index: 1;}#sk-container-id-7 div.sk-parallel {display: flex;align-items: stretch;justify-content: center;background-color: white;position: relative;}#sk-container-id-7 div.sk-item::before, #sk-container-id-7 div.sk-parallel-item::before {content: \"\";position: absolute;border-left: 1px solid gray;box-sizing: border-box;top: 0;bottom: 0;left: 50%;z-index: -1;}#sk-container-id-7 div.sk-parallel-item {display: flex;flex-direction: column;z-index: 1;position: relative;background-color: white;}#sk-container-id-7 div.sk-parallel-item:first-child::after {align-self: flex-end;width: 50%;}#sk-container-id-7 div.sk-parallel-item:last-child::after {align-self: flex-start;width: 50%;}#sk-container-id-7 div.sk-parallel-item:only-child::after {width: 0;}#sk-container-id-7 div.sk-dashed-wrapped {border: 1px dashed gray;margin: 0 0.4em 0.5em 0.4em;box-sizing: border-box;padding-bottom: 0.4em;background-color: white;}#sk-container-id-7 div.sk-label label {font-family: monospace;font-weight: bold;display: inline-block;line-height: 1.2em;}#sk-container-id-7 div.sk-label-container {text-align: center;}#sk-container-id-7 div.sk-container {/* jupyter's `normalize.less` sets `[hidden] { display: none; }` but bootstrap.min.css set `[hidden] { display: none !important; }` so we also need the `!important` here to be able to override the default hidden behavior on the sphinx rendered scikit-learn.org. See: https://github.com/scikit-learn/scikit-learn/issues/21755 */display: inline-block !important;position: relative;}#sk-container-id-7 div.sk-text-repr-fallback {display: none;}</style><div id=\"sk-container-id-7\" class=\"sk-top-container\"><div class=\"sk-text-repr-fallback\"><pre>GaussianProcessRegressor(kernel=1**2 * RBF(length_scale=1) + WhiteKernel(noise_level=1),\n",
       "                         n_restarts_optimizer=10)</pre><b>In a Jupyter environment, please rerun this cell to show the HTML representation or trust the notebook. <br />On GitHub, the HTML representation is unable to render, please try loading this page with nbviewer.org.</b></div><div class=\"sk-container\" hidden><div class=\"sk-item\"><div class=\"sk-estimator sk-toggleable\"><input class=\"sk-toggleable__control sk-hidden--visually\" id=\"sk-estimator-id-7\" type=\"checkbox\" checked><label for=\"sk-estimator-id-7\" class=\"sk-toggleable__label sk-toggleable__label-arrow\">GaussianProcessRegressor</label><div class=\"sk-toggleable__content\"><pre>GaussianProcessRegressor(kernel=1**2 * RBF(length_scale=1) + WhiteKernel(noise_level=1),\n",
       "                         n_restarts_optimizer=10)</pre></div></div></div></div></div>"
      ],
      "text/plain": [
       "GaussianProcessRegressor(kernel=1**2 * RBF(length_scale=1) + WhiteKernel(noise_level=1),\n",
       "                         n_restarts_optimizer=10)"
      ]
     },
     "execution_count": 58,
     "metadata": {},
     "output_type": "execute_result"
    }
   ],
   "source": [
    "model_compact_best_from_gridSearch = grid_search_model_compact.best_estimator_\n",
    "model_compact_best_from_gridSearch"
   ]
  },
  {
   "cell_type": "code",
   "execution_count": 59,
   "id": "2a519630-86c3-4c50-9e2b-64eda799a589",
   "metadata": {
    "id": "2a519630-86c3-4c50-9e2b-64eda799a589"
   },
   "outputs": [
    {
     "data": {
      "text/html": [
       "<style>#sk-container-id-8 {color: black;}#sk-container-id-8 pre{padding: 0;}#sk-container-id-8 div.sk-toggleable {background-color: white;}#sk-container-id-8 label.sk-toggleable__label {cursor: pointer;display: block;width: 100%;margin-bottom: 0;padding: 0.3em;box-sizing: border-box;text-align: center;}#sk-container-id-8 label.sk-toggleable__label-arrow:before {content: \"▸\";float: left;margin-right: 0.25em;color: #696969;}#sk-container-id-8 label.sk-toggleable__label-arrow:hover:before {color: black;}#sk-container-id-8 div.sk-estimator:hover label.sk-toggleable__label-arrow:before {color: black;}#sk-container-id-8 div.sk-toggleable__content {max-height: 0;max-width: 0;overflow: hidden;text-align: left;background-color: #f0f8ff;}#sk-container-id-8 div.sk-toggleable__content pre {margin: 0.2em;color: black;border-radius: 0.25em;background-color: #f0f8ff;}#sk-container-id-8 input.sk-toggleable__control:checked~div.sk-toggleable__content {max-height: 200px;max-width: 100%;overflow: auto;}#sk-container-id-8 input.sk-toggleable__control:checked~label.sk-toggleable__label-arrow:before {content: \"▾\";}#sk-container-id-8 div.sk-estimator input.sk-toggleable__control:checked~label.sk-toggleable__label {background-color: #d4ebff;}#sk-container-id-8 div.sk-label input.sk-toggleable__control:checked~label.sk-toggleable__label {background-color: #d4ebff;}#sk-container-id-8 input.sk-hidden--visually {border: 0;clip: rect(1px 1px 1px 1px);clip: rect(1px, 1px, 1px, 1px);height: 1px;margin: -1px;overflow: hidden;padding: 0;position: absolute;width: 1px;}#sk-container-id-8 div.sk-estimator {font-family: monospace;background-color: #f0f8ff;border: 1px dotted black;border-radius: 0.25em;box-sizing: border-box;margin-bottom: 0.5em;}#sk-container-id-8 div.sk-estimator:hover {background-color: #d4ebff;}#sk-container-id-8 div.sk-parallel-item::after {content: \"\";width: 100%;border-bottom: 1px solid gray;flex-grow: 1;}#sk-container-id-8 div.sk-label:hover label.sk-toggleable__label {background-color: #d4ebff;}#sk-container-id-8 div.sk-serial::before {content: \"\";position: absolute;border-left: 1px solid gray;box-sizing: border-box;top: 0;bottom: 0;left: 50%;z-index: 0;}#sk-container-id-8 div.sk-serial {display: flex;flex-direction: column;align-items: center;background-color: white;padding-right: 0.2em;padding-left: 0.2em;position: relative;}#sk-container-id-8 div.sk-item {position: relative;z-index: 1;}#sk-container-id-8 div.sk-parallel {display: flex;align-items: stretch;justify-content: center;background-color: white;position: relative;}#sk-container-id-8 div.sk-item::before, #sk-container-id-8 div.sk-parallel-item::before {content: \"\";position: absolute;border-left: 1px solid gray;box-sizing: border-box;top: 0;bottom: 0;left: 50%;z-index: -1;}#sk-container-id-8 div.sk-parallel-item {display: flex;flex-direction: column;z-index: 1;position: relative;background-color: white;}#sk-container-id-8 div.sk-parallel-item:first-child::after {align-self: flex-end;width: 50%;}#sk-container-id-8 div.sk-parallel-item:last-child::after {align-self: flex-start;width: 50%;}#sk-container-id-8 div.sk-parallel-item:only-child::after {width: 0;}#sk-container-id-8 div.sk-dashed-wrapped {border: 1px dashed gray;margin: 0 0.4em 0.5em 0.4em;box-sizing: border-box;padding-bottom: 0.4em;background-color: white;}#sk-container-id-8 div.sk-label label {font-family: monospace;font-weight: bold;display: inline-block;line-height: 1.2em;}#sk-container-id-8 div.sk-label-container {text-align: center;}#sk-container-id-8 div.sk-container {/* jupyter's `normalize.less` sets `[hidden] { display: none; }` but bootstrap.min.css set `[hidden] { display: none !important; }` so we also need the `!important` here to be able to override the default hidden behavior on the sphinx rendered scikit-learn.org. See: https://github.com/scikit-learn/scikit-learn/issues/21755 */display: inline-block !important;position: relative;}#sk-container-id-8 div.sk-text-repr-fallback {display: none;}</style><div id=\"sk-container-id-8\" class=\"sk-top-container\"><div class=\"sk-text-repr-fallback\"><pre>GaussianProcessRegressor(kernel=1**2 * RBF(length_scale=1) + WhiteKernel(noise_level=1),\n",
       "                         n_restarts_optimizer=10)</pre><b>In a Jupyter environment, please rerun this cell to show the HTML representation or trust the notebook. <br />On GitHub, the HTML representation is unable to render, please try loading this page with nbviewer.org.</b></div><div class=\"sk-container\" hidden><div class=\"sk-item\"><div class=\"sk-estimator sk-toggleable\"><input class=\"sk-toggleable__control sk-hidden--visually\" id=\"sk-estimator-id-8\" type=\"checkbox\" checked><label for=\"sk-estimator-id-8\" class=\"sk-toggleable__label sk-toggleable__label-arrow\">GaussianProcessRegressor</label><div class=\"sk-toggleable__content\"><pre>GaussianProcessRegressor(kernel=1**2 * RBF(length_scale=1) + WhiteKernel(noise_level=1),\n",
       "                         n_restarts_optimizer=10)</pre></div></div></div></div></div>"
      ],
      "text/plain": [
       "GaussianProcessRegressor(kernel=1**2 * RBF(length_scale=1) + WhiteKernel(noise_level=1),\n",
       "                         n_restarts_optimizer=10)"
      ]
     },
     "execution_count": 59,
     "metadata": {},
     "output_type": "execute_result"
    }
   ],
   "source": [
    "model_compact_std_best_from_gridSearch = grid_search_model_compact_std.best_estimator_\n",
    "model_compact_std_best_from_gridSearch"
   ]
  },
  {
   "cell_type": "markdown",
   "id": "9cceb5f5-84b3-45e8-8066-1113fe19e24d",
   "metadata": {
    "id": "9cceb5f5-84b3-45e8-8066-1113fe19e24d"
   },
   "source": [
    "Mamy więc osiem modeli - 4 stworzono bez użycia GridSearchCV, 4 następnie stworzono za pomocą GridSearchCV.\n",
    "\n",
    "Modele stworzone bez użycia GridSearchCV zapisane są w zmiennych: model_luxury, model_luxury_std, model_compact, model_compact_std.\n",
    "\n",
    "Modele stworzone z użyciem GridSearchCV zapisane są w zmiennych: model_luxury_best_from_gridSearch, model_luxury_std_best_from_gridSearch, model_compact_best_from_gridSearch,  model_compact_std_best_from_gridSearch."
   ]
  },
  {
   "cell_type": "markdown",
   "id": "35261e4d-0730-479a-84ad-aead9d2e07a3",
   "metadata": {
    "id": "35261e4d-0730-479a-84ad-aead9d2e07a3"
   },
   "source": [
    "Utwórzmy teraz listy, których elementami będą te modele - najpierw lista modeli, stworzonych bez użycia GridSearchCV:"
   ]
  },
  {
   "cell_type": "code",
   "execution_count": 60,
   "id": "001a9252-7979-4247-ba5f-03ac8c9fd64f",
   "metadata": {
    "id": "001a9252-7979-4247-ba5f-03ac8c9fd64f"
   },
   "outputs": [],
   "source": [
    "models_not_from_gridSearch = [model_luxury, model_luxury_std, model_compact, model_compact_std]"
   ]
  },
  {
   "cell_type": "markdown",
   "id": "aaa5a1f2-ac8b-4d46-9d12-ba992b98de37",
   "metadata": {
    "id": "aaa5a1f2-ac8b-4d46-9d12-ba992b98de37"
   },
   "source": [
    "Teraz lista modeli, stworzonych na podstawie przeszukiwania gridowego:"
   ]
  },
  {
   "cell_type": "code",
   "execution_count": 61,
   "id": "b4ae4f94-8100-4601-becb-a2108459d014",
   "metadata": {
    "id": "b4ae4f94-8100-4601-becb-a2108459d014"
   },
   "outputs": [],
   "source": [
    "models_from_gridSearch = [model_luxury_best_from_gridSearch, model_luxury_std_best_from_gridSearch, model_compact_best_from_gridSearch,\n",
    "                          model_compact_std_best_from_gridSearch]"
   ]
  },
  {
   "cell_type": "markdown",
   "id": "206d986b-a031-4d60-b6bc-8e2155e5e0e4",
   "metadata": {
    "id": "206d986b-a031-4d60-b6bc-8e2155e5e0e4"
   },
   "source": [
    "Teraz dla wszystkich tych modeli raz jeszcze, ręcznie, przeprowadzimy cross-walidację w celu oceny jakości tych modeli (oczywiście cały czas używamy danych treningowych). Użyjemy w tym celu następującej metryki ewaluacji:  Mean Absolute Error (średni błąd bewzględny) - dana jest wzorem: $$MAE = \\frac{1}{n} \\cdot \\mathop{\\sum}\\limits_{i = 1}^{n} |y_i - \\hat{y_i}| \\text{,}$$ gdzie $n$ to ilość danych, natomiast $y_i$ to rzeczywista oraz $\\hat{y_i}$ to przewidywana wartość dla każdego $i = 1, \\ldots, n$."
   ]
  },
  {
   "cell_type": "markdown",
   "id": "9acbd62e-2359-4020-8755-9ca02ea5c8a1",
   "metadata": {
    "id": "9acbd62e-2359-4020-8755-9ca02ea5c8a1"
   },
   "source": [
    "Stwórzmy więc frame'a, w którym będą zapisane średnie wyniki każdego modelu na odpowiednim mu zbiorze treningowym:"
   ]
  },
  {
   "cell_type": "code",
   "execution_count": 62,
   "id": "4634ba7d-3f03-4beb-b112-0716a51f67fd",
   "metadata": {
    "id": "4634ba7d-3f03-4beb-b112-0716a51f67fd"
   },
   "outputs": [
    {
     "data": {
      "text/html": [
       "<div>\n",
       "<style scoped>\n",
       "    .dataframe tbody tr th:only-of-type {\n",
       "        vertical-align: middle;\n",
       "    }\n",
       "\n",
       "    .dataframe tbody tr th {\n",
       "        vertical-align: top;\n",
       "    }\n",
       "\n",
       "    .dataframe thead th {\n",
       "        text-align: right;\n",
       "    }\n",
       "</style>\n",
       "<table border=\"1\" class=\"dataframe\">\n",
       "  <thead>\n",
       "    <tr style=\"text-align: right;\">\n",
       "      <th></th>\n",
       "      <th>Score_of_model_not_grid</th>\n",
       "      <th>Score_of_model_grid</th>\n",
       "    </tr>\n",
       "    <tr>\n",
       "      <th>Name_of_model</th>\n",
       "      <th></th>\n",
       "      <th></th>\n",
       "    </tr>\n",
       "  </thead>\n",
       "  <tbody>\n",
       "    <tr>\n",
       "      <th>model_luxury</th>\n",
       "      <td>0</td>\n",
       "      <td>0</td>\n",
       "    </tr>\n",
       "    <tr>\n",
       "      <th>model_luxury_std</th>\n",
       "      <td>0</td>\n",
       "      <td>0</td>\n",
       "    </tr>\n",
       "    <tr>\n",
       "      <th>model_compact</th>\n",
       "      <td>0</td>\n",
       "      <td>0</td>\n",
       "    </tr>\n",
       "    <tr>\n",
       "      <th>model_compact_std</th>\n",
       "      <td>0</td>\n",
       "      <td>0</td>\n",
       "    </tr>\n",
       "  </tbody>\n",
       "</table>\n",
       "</div>"
      ],
      "text/plain": [
       "                   Score_of_model_not_grid  Score_of_model_grid\n",
       "Name_of_model                                                  \n",
       "model_luxury                             0                    0\n",
       "model_luxury_std                         0                    0\n",
       "model_compact                            0                    0\n",
       "model_compact_std                        0                    0"
      ]
     },
     "execution_count": 62,
     "metadata": {},
     "output_type": "execute_result"
    }
   ],
   "source": [
    "models_scores = pd.DataFrame()\n",
    "models_scores.insert(loc = 0, column = 'Name_of_model', value = ['model_luxury', 'model_luxury_std', 'model_compact', 'model_compact_std'])\n",
    "models_scores.insert(loc = 1, column = 'Score_of_model_not_grid', value = [0,0,0,0])\n",
    "models_scores.insert(loc = 2, column = 'Score_of_model_grid', value = [0,0,0,0])\n",
    "models_scores = models_scores.set_index('Name_of_model')\n",
    "models_scores"
   ]
  },
  {
   "cell_type": "markdown",
   "id": "4badcc9c-46d5-4077-a007-4f8c2d1ba316",
   "metadata": {
    "id": "4badcc9c-46d5-4077-a007-4f8c2d1ba316"
   },
   "source": [
    "Teraz obliczmy w pętli średnie wyniki dla każdego z modeli:"
   ]
  },
  {
   "cell_type": "code",
   "execution_count": 63,
   "id": "4f95a766-f6a7-4b72-8bce-8063788f044b",
   "metadata": {
    "id": "4f95a766-f6a7-4b72-8bce-8063788f044b"
   },
   "outputs": [
    {
     "name": "stderr",
     "output_type": "stream",
     "text": [
      "C:\\Users\\piotr\\pythonlab\\Lib\\site-packages\\sklearn\\gaussian_process\\kernels.py:429: ConvergenceWarning:\n",
      "\n",
      "The optimal value found for dimension 0 of parameter k1__k2__length_scale is close to the specified upper bound 100000.0. Increasing the bound and calling fit again may find a better value.\n",
      "\n",
      "C:\\Users\\piotr\\pythonlab\\Lib\\site-packages\\sklearn\\gaussian_process\\kernels.py:429: ConvergenceWarning:\n",
      "\n",
      "The optimal value found for dimension 0 of parameter k1__k2__length_scale is close to the specified upper bound 100000.0. Increasing the bound and calling fit again may find a better value.\n",
      "\n",
      "C:\\Users\\piotr\\pythonlab\\Lib\\site-packages\\sklearn\\gaussian_process\\kernels.py:429: ConvergenceWarning:\n",
      "\n",
      "The optimal value found for dimension 0 of parameter k1__k2__length_scale is close to the specified upper bound 100000.0. Increasing the bound and calling fit again may find a better value.\n",
      "\n",
      "C:\\Users\\piotr\\pythonlab\\Lib\\site-packages\\sklearn\\gaussian_process\\kernels.py:429: ConvergenceWarning:\n",
      "\n",
      "The optimal value found for dimension 0 of parameter k1__k2__length_scale is close to the specified upper bound 100000.0. Increasing the bound and calling fit again may find a better value.\n",
      "\n",
      "C:\\Users\\piotr\\pythonlab\\Lib\\site-packages\\sklearn\\gaussian_process\\kernels.py:429: ConvergenceWarning:\n",
      "\n",
      "The optimal value found for dimension 0 of parameter k1__k2__length_scale is close to the specified upper bound 100000.0. Increasing the bound and calling fit again may find a better value.\n",
      "\n",
      "C:\\Users\\piotr\\pythonlab\\Lib\\site-packages\\sklearn\\gaussian_process\\kernels.py:429: ConvergenceWarning:\n",
      "\n",
      "The optimal value found for dimension 0 of parameter k1__k2__length_scale is close to the specified upper bound 100000.0. Increasing the bound and calling fit again may find a better value.\n",
      "\n",
      "C:\\Users\\piotr\\pythonlab\\Lib\\site-packages\\sklearn\\gaussian_process\\kernels.py:429: ConvergenceWarning:\n",
      "\n",
      "The optimal value found for dimension 0 of parameter k1__k2__length_scale is close to the specified upper bound 100000.0. Increasing the bound and calling fit again may find a better value.\n",
      "\n",
      "C:\\Users\\piotr\\pythonlab\\Lib\\site-packages\\sklearn\\gaussian_process\\kernels.py:429: ConvergenceWarning:\n",
      "\n",
      "The optimal value found for dimension 0 of parameter k1__k2__length_scale is close to the specified upper bound 100000.0. Increasing the bound and calling fit again may find a better value.\n",
      "\n",
      "C:\\Users\\piotr\\pythonlab\\Lib\\site-packages\\sklearn\\gaussian_process\\kernels.py:429: ConvergenceWarning:\n",
      "\n",
      "The optimal value found for dimension 0 of parameter k1__k2__length_scale is close to the specified upper bound 100000.0. Increasing the bound and calling fit again may find a better value.\n",
      "\n"
     ]
    },
    {
     "name": "stdout",
     "output_type": "stream",
     "text": [
      "Model model_luxury oceniony przez cv w czasie 44.03s.\n"
     ]
    },
    {
     "name": "stderr",
     "output_type": "stream",
     "text": [
      "C:\\Users\\piotr\\pythonlab\\Lib\\site-packages\\sklearn\\gaussian_process\\kernels.py:429: ConvergenceWarning:\n",
      "\n",
      "The optimal value found for dimension 0 of parameter k1__k2__length_scale is close to the specified upper bound 100000.0. Increasing the bound and calling fit again may find a better value.\n",
      "\n",
      "C:\\Users\\piotr\\pythonlab\\Lib\\site-packages\\sklearn\\gaussian_process\\kernels.py:429: ConvergenceWarning:\n",
      "\n",
      "The optimal value found for dimension 0 of parameter k1__k2__length_scale is close to the specified upper bound 100000.0. Increasing the bound and calling fit again may find a better value.\n",
      "\n",
      "C:\\Users\\piotr\\pythonlab\\Lib\\site-packages\\sklearn\\gaussian_process\\kernels.py:429: ConvergenceWarning:\n",
      "\n",
      "The optimal value found for dimension 0 of parameter k1__k2__length_scale is close to the specified upper bound 100000.0. Increasing the bound and calling fit again may find a better value.\n",
      "\n",
      "C:\\Users\\piotr\\pythonlab\\Lib\\site-packages\\sklearn\\gaussian_process\\kernels.py:429: ConvergenceWarning:\n",
      "\n",
      "The optimal value found for dimension 0 of parameter k1__k2__length_scale is close to the specified upper bound 100000.0. Increasing the bound and calling fit again may find a better value.\n",
      "\n",
      "C:\\Users\\piotr\\pythonlab\\Lib\\site-packages\\sklearn\\gaussian_process\\kernels.py:429: ConvergenceWarning:\n",
      "\n",
      "The optimal value found for dimension 0 of parameter k1__k2__length_scale is close to the specified upper bound 100000.0. Increasing the bound and calling fit again may find a better value.\n",
      "\n",
      "C:\\Users\\piotr\\pythonlab\\Lib\\site-packages\\sklearn\\gaussian_process\\kernels.py:429: ConvergenceWarning:\n",
      "\n",
      "The optimal value found for dimension 0 of parameter k1__k2__length_scale is close to the specified upper bound 100000.0. Increasing the bound and calling fit again may find a better value.\n",
      "\n",
      "C:\\Users\\piotr\\pythonlab\\Lib\\site-packages\\sklearn\\gaussian_process\\kernels.py:429: ConvergenceWarning:\n",
      "\n",
      "The optimal value found for dimension 0 of parameter k1__k2__length_scale is close to the specified upper bound 100000.0. Increasing the bound and calling fit again may find a better value.\n",
      "\n",
      "C:\\Users\\piotr\\pythonlab\\Lib\\site-packages\\sklearn\\gaussian_process\\kernels.py:429: ConvergenceWarning:\n",
      "\n",
      "The optimal value found for dimension 0 of parameter k1__k2__length_scale is close to the specified upper bound 100000.0. Increasing the bound and calling fit again may find a better value.\n",
      "\n",
      "C:\\Users\\piotr\\pythonlab\\Lib\\site-packages\\sklearn\\gaussian_process\\kernels.py:429: ConvergenceWarning:\n",
      "\n",
      "The optimal value found for dimension 0 of parameter k1__k2__length_scale is close to the specified upper bound 100000.0. Increasing the bound and calling fit again may find a better value.\n",
      "\n",
      "C:\\Users\\piotr\\AppData\\Local\\Temp\\ipykernel_25316\\2788059469.py:30: FutureWarning:\n",
      "\n",
      "Setting an item of incompatible dtype is deprecated and will raise in a future error of pandas. Value '1.8007183365270774' has dtype incompatible with int64, please explicitly cast to a compatible dtype first.\n",
      "\n",
      "C:\\Users\\piotr\\AppData\\Local\\Temp\\ipykernel_25316\\2788059469.py:31: FutureWarning:\n",
      "\n",
      "Setting an item of incompatible dtype is deprecated and will raise in a future error of pandas. Value '1.8007172987426863' has dtype incompatible with int64, please explicitly cast to a compatible dtype first.\n",
      "\n"
     ]
    },
    {
     "name": "stdout",
     "output_type": "stream",
     "text": [
      "Model model_luxury_best_from_gridSearch oceniony przez cv w czasie 36.20s.\n",
      "Model model_luxury_std oceniony przez cv w czasie 38.72s.\n",
      "Model model_luxury_std_best_from_gridSearch oceniony przez cv w czasie 39.87s.\n"
     ]
    },
    {
     "name": "stderr",
     "output_type": "stream",
     "text": [
      "C:\\Users\\piotr\\pythonlab\\Lib\\site-packages\\sklearn\\gaussian_process\\kernels.py:429: ConvergenceWarning:\n",
      "\n",
      "The optimal value found for dimension 0 of parameter k1__k1__constant_value is close to the specified upper bound 100000.0. Increasing the bound and calling fit again may find a better value.\n",
      "\n",
      "C:\\Users\\piotr\\pythonlab\\Lib\\site-packages\\sklearn\\gaussian_process\\kernels.py:429: ConvergenceWarning:\n",
      "\n",
      "The optimal value found for dimension 0 of parameter k1__k1__constant_value is close to the specified upper bound 100000.0. Increasing the bound and calling fit again may find a better value.\n",
      "\n",
      "C:\\Users\\piotr\\pythonlab\\Lib\\site-packages\\sklearn\\gaussian_process\\kernels.py:429: ConvergenceWarning:\n",
      "\n",
      "The optimal value found for dimension 0 of parameter k1__k1__constant_value is close to the specified upper bound 100000.0. Increasing the bound and calling fit again may find a better value.\n",
      "\n",
      "C:\\Users\\piotr\\pythonlab\\Lib\\site-packages\\sklearn\\gaussian_process\\kernels.py:429: ConvergenceWarning:\n",
      "\n",
      "The optimal value found for dimension 0 of parameter k1__k1__constant_value is close to the specified upper bound 100000.0. Increasing the bound and calling fit again may find a better value.\n",
      "\n",
      "C:\\Users\\piotr\\pythonlab\\Lib\\site-packages\\sklearn\\gaussian_process\\kernels.py:429: ConvergenceWarning:\n",
      "\n",
      "The optimal value found for dimension 0 of parameter k1__k1__constant_value is close to the specified upper bound 100000.0. Increasing the bound and calling fit again may find a better value.\n",
      "\n",
      "C:\\Users\\piotr\\pythonlab\\Lib\\site-packages\\sklearn\\gaussian_process\\kernels.py:429: ConvergenceWarning:\n",
      "\n",
      "The optimal value found for dimension 0 of parameter k1__k1__constant_value is close to the specified upper bound 100000.0. Increasing the bound and calling fit again may find a better value.\n",
      "\n",
      "C:\\Users\\piotr\\pythonlab\\Lib\\site-packages\\sklearn\\gaussian_process\\kernels.py:429: ConvergenceWarning:\n",
      "\n",
      "The optimal value found for dimension 0 of parameter k1__k2__length_scale is close to the specified upper bound 100000.0. Increasing the bound and calling fit again may find a better value.\n",
      "\n",
      "C:\\Users\\piotr\\pythonlab\\Lib\\site-packages\\sklearn\\gaussian_process\\kernels.py:429: ConvergenceWarning:\n",
      "\n",
      "The optimal value found for dimension 0 of parameter k1__k1__constant_value is close to the specified upper bound 100000.0. Increasing the bound and calling fit again may find a better value.\n",
      "\n",
      "C:\\Users\\piotr\\pythonlab\\Lib\\site-packages\\sklearn\\gaussian_process\\kernels.py:429: ConvergenceWarning:\n",
      "\n",
      "The optimal value found for dimension 0 of parameter k1__k1__constant_value is close to the specified upper bound 100000.0. Increasing the bound and calling fit again may find a better value.\n",
      "\n",
      "C:\\Users\\piotr\\pythonlab\\Lib\\site-packages\\sklearn\\gaussian_process\\kernels.py:429: ConvergenceWarning:\n",
      "\n",
      "The optimal value found for dimension 0 of parameter k1__k1__constant_value is close to the specified upper bound 100000.0. Increasing the bound and calling fit again may find a better value.\n",
      "\n"
     ]
    },
    {
     "name": "stdout",
     "output_type": "stream",
     "text": [
      "Model model_compact oceniony przez cv w czasie 108.34s.\n"
     ]
    },
    {
     "name": "stderr",
     "output_type": "stream",
     "text": [
      "C:\\Users\\piotr\\pythonlab\\Lib\\site-packages\\sklearn\\gaussian_process\\kernels.py:429: ConvergenceWarning:\n",
      "\n",
      "The optimal value found for dimension 0 of parameter k1__k2__length_scale is close to the specified upper bound 100000.0. Increasing the bound and calling fit again may find a better value.\n",
      "\n",
      "C:\\Users\\piotr\\pythonlab\\Lib\\site-packages\\sklearn\\gaussian_process\\kernels.py:429: ConvergenceWarning:\n",
      "\n",
      "The optimal value found for dimension 0 of parameter k1__k1__constant_value is close to the specified upper bound 100000.0. Increasing the bound and calling fit again may find a better value.\n",
      "\n",
      "C:\\Users\\piotr\\pythonlab\\Lib\\site-packages\\sklearn\\gaussian_process\\_gpr.py:663: ConvergenceWarning:\n",
      "\n",
      "lbfgs failed to converge (status=2):\n",
      "ABNORMAL_TERMINATION_IN_LNSRCH.\n",
      "\n",
      "Increase the number of iterations (max_iter) or scale the data as shown in:\n",
      "    https://scikit-learn.org/stable/modules/preprocessing.html\n",
      "\n",
      "C:\\Users\\piotr\\pythonlab\\Lib\\site-packages\\sklearn\\gaussian_process\\kernels.py:429: ConvergenceWarning:\n",
      "\n",
      "The optimal value found for dimension 0 of parameter k1__k1__constant_value is close to the specified upper bound 100000.0. Increasing the bound and calling fit again may find a better value.\n",
      "\n",
      "C:\\Users\\piotr\\pythonlab\\Lib\\site-packages\\sklearn\\gaussian_process\\kernels.py:429: ConvergenceWarning:\n",
      "\n",
      "The optimal value found for dimension 0 of parameter k1__k1__constant_value is close to the specified upper bound 100000.0. Increasing the bound and calling fit again may find a better value.\n",
      "\n",
      "C:\\Users\\piotr\\pythonlab\\Lib\\site-packages\\sklearn\\gaussian_process\\kernels.py:429: ConvergenceWarning:\n",
      "\n",
      "The optimal value found for dimension 0 of parameter k1__k1__constant_value is close to the specified upper bound 100000.0. Increasing the bound and calling fit again may find a better value.\n",
      "\n",
      "C:\\Users\\piotr\\pythonlab\\Lib\\site-packages\\sklearn\\gaussian_process\\kernels.py:429: ConvergenceWarning:\n",
      "\n",
      "The optimal value found for dimension 0 of parameter k1__k1__constant_value is close to the specified upper bound 100000.0. Increasing the bound and calling fit again may find a better value.\n",
      "\n",
      "C:\\Users\\piotr\\pythonlab\\Lib\\site-packages\\sklearn\\gaussian_process\\kernels.py:429: ConvergenceWarning:\n",
      "\n",
      "The optimal value found for dimension 0 of parameter k1__k1__constant_value is close to the specified upper bound 100000.0. Increasing the bound and calling fit again may find a better value.\n",
      "\n",
      "C:\\Users\\piotr\\pythonlab\\Lib\\site-packages\\sklearn\\gaussian_process\\kernels.py:429: ConvergenceWarning:\n",
      "\n",
      "The optimal value found for dimension 0 of parameter k1__k1__constant_value is close to the specified upper bound 100000.0. Increasing the bound and calling fit again may find a better value.\n",
      "\n",
      "C:\\Users\\piotr\\pythonlab\\Lib\\site-packages\\sklearn\\gaussian_process\\kernels.py:429: ConvergenceWarning:\n",
      "\n",
      "The optimal value found for dimension 0 of parameter k1__k1__constant_value is close to the specified upper bound 100000.0. Increasing the bound and calling fit again may find a better value.\n",
      "\n"
     ]
    },
    {
     "name": "stdout",
     "output_type": "stream",
     "text": [
      "Model model_compact_best_from_gridSearch oceniony przez cv w czasie 107.72s.\n",
      "Model model_compact_std oceniony przez cv w czasie 110.91s.\n"
     ]
    },
    {
     "name": "stderr",
     "output_type": "stream",
     "text": [
      "C:\\Users\\piotr\\pythonlab\\Lib\\site-packages\\sklearn\\gaussian_process\\_gpr.py:663: ConvergenceWarning:\n",
      "\n",
      "lbfgs failed to converge (status=2):\n",
      "ABNORMAL_TERMINATION_IN_LNSRCH.\n",
      "\n",
      "Increase the number of iterations (max_iter) or scale the data as shown in:\n",
      "    https://scikit-learn.org/stable/modules/preprocessing.html\n",
      "\n"
     ]
    },
    {
     "name": "stdout",
     "output_type": "stream",
     "text": [
      "Model model_compact_std_best_from_gridSearch oceniony przez cv w czasie 114.59s.\n",
      "Najmniejszy wynik w cross-walidacji osiągnął model model_compact_std_best_from_gridSearch - uzyskał wynik: MAE = 1.6226765358877338.\n"
     ]
    }
   ],
   "source": [
    "name_of_model_min_scored = models_scores.index[0]\n",
    "name_of_y_train_of_best_model = 'y_luxury'\n",
    "min_score = 9223372036854775807 #maxint\n",
    "for i in range(len(models_scores.index)):\n",
    "    #sprytne operacje w celu pozyskania nazw odpowiednich zmiennych, do których będziemy się odwoływać (dzięki temu ta pętla działa tak, jak powinna)\n",
    "    #chciałem to po prostu nieco zautomatyzować\n",
    "    name_of_model_not_from_GridSearch = np.array(models_scores.index)[i]\n",
    "    name_of_model_from_GridSearch = name_of_model_not_from_GridSearch + '_best_from_gridSearch'\n",
    "    name_of_class = name_of_model_not_from_GridSearch[6:]\n",
    "    name_of_X_train = 'X_' + name_of_class\n",
    "    if (name_of_class[-3:] == 'std'):\n",
    "        name_of_class = name_of_class[:-4]\n",
    "    name_of_y_train = 'y_' + name_of_class\n",
    "\n",
    "    #obliczanie wyników cv_score\n",
    "    time_start = time.time()\n",
    "    cv_scores_not_from_grid = cross_val_score(eval(name_of_model_not_from_GridSearch), eval(name_of_X_train), eval(name_of_y_train), cv=10, scoring='neg_mean_absolute_error')\n",
    "    time_stop = time.time()\n",
    "    print('Model', name_of_model_not_from_GridSearch, 'oceniony przez cv w czasie %.2fs.' % (time_stop-time_start))\n",
    "    time_start = time.time()\n",
    "    cv_scores_from_grid = cross_val_score(eval(name_of_model_from_GridSearch), eval(name_of_X_train), eval(name_of_y_train), cv=10, scoring='neg_mean_absolute_error')\n",
    "    time_stop = time.time()\n",
    "    print('Model', name_of_model_from_GridSearch, 'oceniony przez cv w czasie %.2fs.' % (time_stop-time_start))\n",
    "\n",
    "    #obliczanie średnich wyników\n",
    "    mean_score_not_from_grid = (-1)*np.mean(cv_scores_not_from_grid)\n",
    "    mean_score_from_grid = (-1)*np.mean(cv_scores_from_grid)\n",
    "\n",
    "    #wstawienie w odpowiednie miejsce w tabeli\n",
    "    models_scores.loc[name_of_model_not_from_GridSearch, 'Score_of_model_not_grid'] = mean_score_not_from_grid\n",
    "    models_scores.loc[name_of_model_not_from_GridSearch, 'Score_of_model_grid'] = mean_score_from_grid\n",
    "\n",
    "    #aktualizowanie największego wyniku\n",
    "    if mean_score_not_from_grid < min_score:\n",
    "        min_score = mean_score_not_from_grid\n",
    "        name_of_model_min_scored = name_of_model_not_from_GridSearch\n",
    "        name_of_y_train_of_best_model = name_of_y_train\n",
    "    if mean_score_from_grid < min_score:\n",
    "        min_score = mean_score_from_grid\n",
    "        name_of_model_min_scored = name_of_model_from_GridSearch\n",
    "        name_of_y_train_of_best_model = name_of_y_train\n",
    "\n",
    "print('Najmniejszy wynik w cross-walidacji osiągnął model {} - uzyskał wynik: MAE = {}.'.format(name_of_model_min_scored, min_score))"
   ]
  },
  {
   "cell_type": "markdown",
   "id": "0f79bf5f-1645-45ad-96f0-6c77ef6e24f0",
   "metadata": {
    "id": "0f79bf5f-1645-45ad-96f0-6c77ef6e24f0"
   },
   "source": [
    "Wyświetlmy jeszcze tabelę wszystkich wyników z cross-walidacji:"
   ]
  },
  {
   "cell_type": "code",
   "execution_count": 64,
   "id": "c82393bd-b625-4e25-bba3-5f4cf4ca03f5",
   "metadata": {
    "id": "c82393bd-b625-4e25-bba3-5f4cf4ca03f5"
   },
   "outputs": [
    {
     "data": {
      "text/html": [
       "<div>\n",
       "<style scoped>\n",
       "    .dataframe tbody tr th:only-of-type {\n",
       "        vertical-align: middle;\n",
       "    }\n",
       "\n",
       "    .dataframe tbody tr th {\n",
       "        vertical-align: top;\n",
       "    }\n",
       "\n",
       "    .dataframe thead th {\n",
       "        text-align: right;\n",
       "    }\n",
       "</style>\n",
       "<table border=\"1\" class=\"dataframe\">\n",
       "  <thead>\n",
       "    <tr style=\"text-align: right;\">\n",
       "      <th></th>\n",
       "      <th>Score_of_model_not_grid</th>\n",
       "      <th>Score_of_model_grid</th>\n",
       "    </tr>\n",
       "    <tr>\n",
       "      <th>Name_of_model</th>\n",
       "      <th></th>\n",
       "      <th></th>\n",
       "    </tr>\n",
       "  </thead>\n",
       "  <tbody>\n",
       "    <tr>\n",
       "      <th>model_luxury</th>\n",
       "      <td>1.800718</td>\n",
       "      <td>1.800717</td>\n",
       "    </tr>\n",
       "    <tr>\n",
       "      <th>model_luxury_std</th>\n",
       "      <td>1.685359</td>\n",
       "      <td>1.675764</td>\n",
       "    </tr>\n",
       "    <tr>\n",
       "      <th>model_compact</th>\n",
       "      <td>1.625144</td>\n",
       "      <td>1.625012</td>\n",
       "    </tr>\n",
       "    <tr>\n",
       "      <th>model_compact_std</th>\n",
       "      <td>1.622677</td>\n",
       "      <td>1.622677</td>\n",
       "    </tr>\n",
       "  </tbody>\n",
       "</table>\n",
       "</div>"
      ],
      "text/plain": [
       "                   Score_of_model_not_grid  Score_of_model_grid\n",
       "Name_of_model                                                  \n",
       "model_luxury                      1.800718             1.800717\n",
       "model_luxury_std                  1.685359             1.675764\n",
       "model_compact                     1.625144             1.625012\n",
       "model_compact_std                 1.622677             1.622677"
      ]
     },
     "execution_count": 64,
     "metadata": {},
     "output_type": "execute_result"
    }
   ],
   "source": [
    "models_scores"
   ]
  },
  {
   "cell_type": "markdown",
   "id": "418323c2-515f-4709-a012-5338f9d9a458",
   "metadata": {
    "id": "418323c2-515f-4709-a012-5338f9d9a458"
   },
   "source": [
    "Oceńmy teraz te modele na zbiorze testowym. Znów tworzymy analogicznego data frame'a:"
   ]
  },
  {
   "cell_type": "code",
   "execution_count": 65,
   "id": "1a79f285-2043-44b0-8e25-6042303deb5a",
   "metadata": {
    "id": "1a79f285-2043-44b0-8e25-6042303deb5a"
   },
   "outputs": [
    {
     "data": {
      "text/html": [
       "<div>\n",
       "<style scoped>\n",
       "    .dataframe tbody tr th:only-of-type {\n",
       "        vertical-align: middle;\n",
       "    }\n",
       "\n",
       "    .dataframe tbody tr th {\n",
       "        vertical-align: top;\n",
       "    }\n",
       "\n",
       "    .dataframe thead th {\n",
       "        text-align: right;\n",
       "    }\n",
       "</style>\n",
       "<table border=\"1\" class=\"dataframe\">\n",
       "  <thead>\n",
       "    <tr style=\"text-align: right;\">\n",
       "      <th></th>\n",
       "      <th>Score_of_model_not_grid</th>\n",
       "      <th>Score_of_model_grid</th>\n",
       "    </tr>\n",
       "    <tr>\n",
       "      <th>Name_of_model</th>\n",
       "      <th></th>\n",
       "      <th></th>\n",
       "    </tr>\n",
       "  </thead>\n",
       "  <tbody>\n",
       "    <tr>\n",
       "      <th>model_luxury</th>\n",
       "      <td>0</td>\n",
       "      <td>0</td>\n",
       "    </tr>\n",
       "    <tr>\n",
       "      <th>model_luxury_std</th>\n",
       "      <td>0</td>\n",
       "      <td>0</td>\n",
       "    </tr>\n",
       "    <tr>\n",
       "      <th>model_compact</th>\n",
       "      <td>0</td>\n",
       "      <td>0</td>\n",
       "    </tr>\n",
       "    <tr>\n",
       "      <th>model_compact_std</th>\n",
       "      <td>0</td>\n",
       "      <td>0</td>\n",
       "    </tr>\n",
       "  </tbody>\n",
       "</table>\n",
       "</div>"
      ],
      "text/plain": [
       "                   Score_of_model_not_grid  Score_of_model_grid\n",
       "Name_of_model                                                  \n",
       "model_luxury                             0                    0\n",
       "model_luxury_std                         0                    0\n",
       "model_compact                            0                    0\n",
       "model_compact_std                        0                    0"
      ]
     },
     "execution_count": 65,
     "metadata": {},
     "output_type": "execute_result"
    }
   ],
   "source": [
    "models_scores_on_test_data = pd.DataFrame()\n",
    "models_scores_on_test_data.insert(loc = 0, column = 'Name_of_model', value = ['model_luxury', 'model_luxury_std', 'model_compact', 'model_compact_std'])\n",
    "models_scores_on_test_data.insert(loc = 1, column = 'Score_of_model_not_grid', value = [0,0,0,0])\n",
    "models_scores_on_test_data.insert(loc = 2, column = 'Score_of_model_grid', value = [0,0,0,0])\n",
    "models_scores_on_test_data = models_scores_on_test_data.set_index('Name_of_model')\n",
    "models_scores_on_test_data"
   ]
  },
  {
   "cell_type": "markdown",
   "id": "9057b159-50d0-4ee5-b139-f70c2293a954",
   "metadata": {
    "id": "9057b159-50d0-4ee5-b139-f70c2293a954"
   },
   "source": [
    "Teraz obliczmy w pętli wyniki dla każdego z modeli:"
   ]
  },
  {
   "cell_type": "code",
   "execution_count": 66,
   "id": "5df88073-8f32-42ad-858b-cf5621324b1a",
   "metadata": {
    "id": "5df88073-8f32-42ad-858b-cf5621324b1a"
   },
   "outputs": [
    {
     "name": "stdout",
     "output_type": "stream",
     "text": [
      "Na modelu  model_luxury  dokonano predykcji na zbiorze testowym w czasie 0.01s.\n",
      "Na modelu  model_luxury_best_from_gridSearch  dokonano predykcji na zbiorze testowym w czasie 0.01s.\n",
      "Wynik dla modelu  model_luxury  w ocenie na zbiorze testowym obliczono w czasie 0.01s.\n",
      "Wynik dla modelu  model_luxury_best_from_gridSearch  w ocenie na zbiorze testowym obliczono w czasie 0.00s.\n",
      "Na modelu  model_luxury_std  dokonano predykcji na zbiorze testowym w czasie 0.01s.\n",
      "Na modelu  model_luxury_std_best_from_gridSearch  dokonano predykcji na zbiorze testowym w czasie 0.01s.\n",
      "Wynik dla modelu  model_luxury_std  w ocenie na zbiorze testowym obliczono w czasie 0.01s.\n",
      "Wynik dla modelu  model_luxury_std_best_from_gridSearch  w ocenie na zbiorze testowym obliczono w czasie 0.00s.\n",
      "Na modelu  model_compact  dokonano predykcji na zbiorze testowym w czasie 0.01s.\n",
      "Na modelu  model_compact_best_from_gridSearch  dokonano predykcji na zbiorze testowym w czasie 0.01s.\n",
      "Wynik dla modelu  model_compact  w ocenie na zbiorze testowym obliczono w czasie 0.00s.\n",
      "Wynik dla modelu  model_compact_best_from_gridSearch  w ocenie na zbiorze testowym obliczono w czasie 0.00s.\n",
      "Na modelu  model_compact_std  dokonano predykcji na zbiorze testowym w czasie 0.01s.\n",
      "Na modelu  model_compact_std_best_from_gridSearch  dokonano predykcji na zbiorze testowym w czasie 0.00s.\n",
      "Wynik dla modelu  model_compact_std  w ocenie na zbiorze testowym obliczono w czasie 0.00s.\n",
      "Wynik dla modelu  model_compact_std_best_from_gridSearch  w ocenie na zbiorze testowym obliczono w czasie 0.00s.\n",
      "Najmniejszy wynik na zbiorze testowym osiągnął model model_compact_std - uzyskał wynik: MAE = 1.2207271266679567.\n"
     ]
    },
    {
     "name": "stderr",
     "output_type": "stream",
     "text": [
      "C:\\Users\\piotr\\AppData\\Local\\Temp\\ipykernel_25316\\2188619341.py:37: FutureWarning:\n",
      "\n",
      "Setting an item of incompatible dtype is deprecated and will raise in a future error of pandas. Value '1.8319424622392169' has dtype incompatible with int64, please explicitly cast to a compatible dtype first.\n",
      "\n",
      "C:\\Users\\piotr\\AppData\\Local\\Temp\\ipykernel_25316\\2188619341.py:38: FutureWarning:\n",
      "\n",
      "Setting an item of incompatible dtype is deprecated and will raise in a future error of pandas. Value '1.8453247249081253' has dtype incompatible with int64, please explicitly cast to a compatible dtype first.\n",
      "\n"
     ]
    }
   ],
   "source": [
    "name_of_model_min_scored_on_test_data = models_scores_on_test_data.index[0]\n",
    "name_of_y_test_of_best_model_on_test_data = 'y_luxury_test'\n",
    "name_of_X_test_of_best_model_on_test_data = 'X_luxury_test'\n",
    "min_score_on_test_data = 9223372036854775807 #maxint\n",
    "for i in range(len(models_scores_on_test_data.index)):\n",
    "    #sprytne operacje w celu pozyskania nazw odpowiednich zmiennych, do których będziemy się odwoływać (dzięki temu ta pętla działa tak, jak powinna)\n",
    "    #chciałem to po prostu nieco zautomatyzować\n",
    "    name_of_model_not_from_GridSearch = np.array(models_scores_on_test_data.index)[i]\n",
    "    name_of_model_from_GridSearch = name_of_model_not_from_GridSearch + '_best_from_gridSearch'\n",
    "    name_of_class = name_of_model_not_from_GridSearch[6:]\n",
    "    name_of_X_test = 'X_' + name_of_class + '_test'\n",
    "    if (name_of_class[-3:] == 'std'):\n",
    "        name_of_class = name_of_class[:-4]\n",
    "    name_of_y_test = 'y_' + name_of_class + '_test'\n",
    "\n",
    "    #obliczanie predykcji dla każdego modelu (nie z grida, z grida)\n",
    "    time_start = time.time()\n",
    "    predicts_not_from_grid = eval(name_of_model_not_from_GridSearch).predict(eval(name_of_X_test))\n",
    "    time_stop = time.time()\n",
    "    print('Na modelu ', name_of_model_not_from_GridSearch, ' dokonano predykcji na zbiorze testowym w czasie %.2fs.' % (time_stop-time_start))\n",
    "    time_start = time.time()\n",
    "    predicts_from_grid = eval(name_of_model_from_GridSearch).predict(eval(name_of_X_test))\n",
    "    time_stop = time.time()\n",
    "    print('Na modelu ', name_of_model_from_GridSearch, ' dokonano predykcji na zbiorze testowym w czasie %.2fs.' % (time_stop-time_start))\n",
    "\n",
    "    #obliczanie wyników dla każdego modelu (nie z grida, z grida)\n",
    "    time_start = time.time()\n",
    "    score_not_from_grid = mean_absolute_error(eval(name_of_y_test),predicts_not_from_grid)\n",
    "    time_stop = time.time()\n",
    "    print('Wynik dla modelu ', name_of_model_not_from_GridSearch, ' w ocenie na zbiorze testowym obliczono w czasie %.2fs.' % (time_stop-time_start))\n",
    "    time_start = time.time()\n",
    "    score_from_grid = mean_absolute_error(eval(name_of_y_test),predicts_from_grid)\n",
    "    time_stop = time.time()\n",
    "    print('Wynik dla modelu ', name_of_model_from_GridSearch, ' w ocenie na zbiorze testowym obliczono w czasie %.2fs.' % (time_stop-time_start))\n",
    "\n",
    "    #wstawienie wyniku w odpowiednie miejsce w tabeli\n",
    "    models_scores_on_test_data.loc[name_of_model_not_from_GridSearch, 'Score_of_model_not_grid'] = score_not_from_grid\n",
    "    models_scores_on_test_data.loc[name_of_model_not_from_GridSearch, 'Score_of_model_grid'] = score_from_grid\n",
    "\n",
    "    #aktualizowanie największego wyniku\n",
    "    if score_not_from_grid < min_score_on_test_data:\n",
    "        min_score_on_test_data = score_not_from_grid\n",
    "        name_of_model_min_scored_on_test_data = name_of_model_not_from_GridSearch\n",
    "        name_of_y_test_of_best_model_on_test_data = name_of_y_test\n",
    "        name_of_X_test_of_best_model_on_test_data = name_of_X_test\n",
    "    if score_from_grid < min_score_on_test_data:\n",
    "        min_score_on_test_data = score_from_grid\n",
    "        name_of_model_min_scored_on_test_data = name_of_model_from_GridSearch\n",
    "        name_of_y_test_of_best_model_on_test_data = name_of_y_test\n",
    "        name_of_X_test_of_best_model_on_test_data = name_of_X_test\n",
    "\n",
    "print('Najmniejszy wynik na zbiorze testowym osiągnął model {} - uzyskał wynik: MAE = {}.'.format(name_of_model_min_scored_on_test_data, min_score_on_test_data))"
   ]
  },
  {
   "cell_type": "markdown",
   "id": "55d211cd-838f-4b2d-b4ff-4be52872c4b0",
   "metadata": {
    "id": "55d211cd-838f-4b2d-b4ff-4be52872c4b0"
   },
   "source": [
    "Wyświetlmy jeszcze tabelę wszystkich wyników ze zbioru testowego:"
   ]
  },
  {
   "cell_type": "code",
   "execution_count": 67,
   "id": "75b44db6-7fb6-4edf-8f84-5c3878f8658f",
   "metadata": {
    "id": "75b44db6-7fb6-4edf-8f84-5c3878f8658f"
   },
   "outputs": [
    {
     "data": {
      "text/html": [
       "<div>\n",
       "<style scoped>\n",
       "    .dataframe tbody tr th:only-of-type {\n",
       "        vertical-align: middle;\n",
       "    }\n",
       "\n",
       "    .dataframe tbody tr th {\n",
       "        vertical-align: top;\n",
       "    }\n",
       "\n",
       "    .dataframe thead th {\n",
       "        text-align: right;\n",
       "    }\n",
       "</style>\n",
       "<table border=\"1\" class=\"dataframe\">\n",
       "  <thead>\n",
       "    <tr style=\"text-align: right;\">\n",
       "      <th></th>\n",
       "      <th>Score_of_model_not_grid</th>\n",
       "      <th>Score_of_model_grid</th>\n",
       "    </tr>\n",
       "    <tr>\n",
       "      <th>Name_of_model</th>\n",
       "      <th></th>\n",
       "      <th></th>\n",
       "    </tr>\n",
       "  </thead>\n",
       "  <tbody>\n",
       "    <tr>\n",
       "      <th>model_luxury</th>\n",
       "      <td>1.831942</td>\n",
       "      <td>1.845325</td>\n",
       "    </tr>\n",
       "    <tr>\n",
       "      <th>model_luxury_std</th>\n",
       "      <td>1.592976</td>\n",
       "      <td>1.609108</td>\n",
       "    </tr>\n",
       "    <tr>\n",
       "      <th>model_compact</th>\n",
       "      <td>1.414955</td>\n",
       "      <td>1.692091</td>\n",
       "    </tr>\n",
       "    <tr>\n",
       "      <th>model_compact_std</th>\n",
       "      <td>1.220727</td>\n",
       "      <td>1.331001</td>\n",
       "    </tr>\n",
       "  </tbody>\n",
       "</table>\n",
       "</div>"
      ],
      "text/plain": [
       "                   Score_of_model_not_grid  Score_of_model_grid\n",
       "Name_of_model                                                  \n",
       "model_luxury                      1.831942             1.845325\n",
       "model_luxury_std                  1.592976             1.609108\n",
       "model_compact                     1.414955             1.692091\n",
       "model_compact_std                 1.220727             1.331001"
      ]
     },
     "execution_count": 67,
     "metadata": {},
     "output_type": "execute_result"
    }
   ],
   "source": [
    "models_scores_on_test_data"
   ]
  },
  {
   "cell_type": "markdown",
   "id": "f06439ee-e2d2-416e-b17c-806f88366153",
   "metadata": {
    "id": "f06439ee-e2d2-416e-b17c-806f88366153"
   },
   "source": [
    "A więc podsumujmy:"
   ]
  },
  {
   "cell_type": "code",
   "execution_count": 68,
   "id": "00268b5c-5fc2-40d7-be3b-5fa1735ecd01",
   "metadata": {
    "id": "00268b5c-5fc2-40d7-be3b-5fa1735ecd01"
   },
   "outputs": [
    {
     "name": "stdout",
     "output_type": "stream",
     "text": [
      "Model, który najlepiej wypadł w cross-walidacji: model_compact_std_best_from_gridSearch, uzyskał wynik: MAE = 1.62, co stanowi 11.05 proc. \n",
      "wartości średniej na zbiorze uczącym (tj. 14.68).\n"
     ]
    }
   ],
   "source": [
    "print('Model, który najlepiej wypadł w cross-walidacji: %s, uzyskał wynik: MAE = %.2f, co stanowi %.2f proc. \\nwartości średniej na zbiorze uczącym (tj. %.2f).' % (name_of_model_min_scored, min_score, 100*min_score/np.mean(eval(name_of_y_train_of_best_model)),np.mean(eval(name_of_y_train_of_best_model))))"
   ]
  },
  {
   "cell_type": "code",
   "execution_count": 69,
   "id": "81c92b1c-65c7-4688-8836-ecc50a00b7b3",
   "metadata": {
    "id": "81c92b1c-65c7-4688-8836-ecc50a00b7b3"
   },
   "outputs": [
    {
     "name": "stdout",
     "output_type": "stream",
     "text": [
      "Model, który najlepiej wypadł na części testowej: model_compact_std, uzyskał wynik: MAE = 1.22, co stanowi 8.30 proc. \n",
      "wartości średniej na zbiorze testowym (tj. 14.70).\n"
     ]
    }
   ],
   "source": [
    "print('Model, który najlepiej wypadł na części testowej: %s, uzyskał wynik: MAE = %.2f, co stanowi %.2f proc. \\nwartości średniej na zbiorze testowym (tj. %.2f).' % (name_of_model_min_scored_on_test_data, min_score_on_test_data, 100*min_score_on_test_data/np.mean(eval(name_of_y_test_of_best_model_on_test_data)),np.mean(eval(name_of_y_test_of_best_model_on_test_data))))"
   ]
  },
  {
   "cell_type": "markdown",
   "id": "a454079f-4731-43a0-9c65-4bb6e0b85092",
   "metadata": {
    "id": "a454079f-4731-43a0-9c65-4bb6e0b85092"
   },
   "source": [
    "Najlepszy model według wyników na części testowej to:"
   ]
  },
  {
   "cell_type": "code",
   "execution_count": 70,
   "id": "93090a89-3ee4-4286-89db-65f476fc1c2c",
   "metadata": {
    "id": "93090a89-3ee4-4286-89db-65f476fc1c2c"
   },
   "outputs": [
    {
     "data": {
      "text/plain": [
       "'model_compact_std'"
      ]
     },
     "execution_count": 70,
     "metadata": {},
     "output_type": "execute_result"
    }
   ],
   "source": [
    "best_model = name_of_model_min_scored_on_test_data\n",
    "best_model"
   ]
  },
  {
   "cell_type": "markdown",
   "id": "dc2decd6-e0ee-4cce-8643-4504d95c1fbb",
   "metadata": {
    "id": "dc2decd6-e0ee-4cce-8643-4504d95c1fbb"
   },
   "source": [
    "Zapisujemy go pod osobną zmienną:"
   ]
  },
  {
   "cell_type": "code",
   "execution_count": 71,
   "id": "4d51bae9-b377-47cd-ac57-ecc467354dfe",
   "metadata": {
    "id": "4d51bae9-b377-47cd-ac57-ecc467354dfe"
   },
   "outputs": [
    {
     "data": {
      "text/html": [
       "<style>#sk-container-id-9 {color: black;}#sk-container-id-9 pre{padding: 0;}#sk-container-id-9 div.sk-toggleable {background-color: white;}#sk-container-id-9 label.sk-toggleable__label {cursor: pointer;display: block;width: 100%;margin-bottom: 0;padding: 0.3em;box-sizing: border-box;text-align: center;}#sk-container-id-9 label.sk-toggleable__label-arrow:before {content: \"▸\";float: left;margin-right: 0.25em;color: #696969;}#sk-container-id-9 label.sk-toggleable__label-arrow:hover:before {color: black;}#sk-container-id-9 div.sk-estimator:hover label.sk-toggleable__label-arrow:before {color: black;}#sk-container-id-9 div.sk-toggleable__content {max-height: 0;max-width: 0;overflow: hidden;text-align: left;background-color: #f0f8ff;}#sk-container-id-9 div.sk-toggleable__content pre {margin: 0.2em;color: black;border-radius: 0.25em;background-color: #f0f8ff;}#sk-container-id-9 input.sk-toggleable__control:checked~div.sk-toggleable__content {max-height: 200px;max-width: 100%;overflow: auto;}#sk-container-id-9 input.sk-toggleable__control:checked~label.sk-toggleable__label-arrow:before {content: \"▾\";}#sk-container-id-9 div.sk-estimator input.sk-toggleable__control:checked~label.sk-toggleable__label {background-color: #d4ebff;}#sk-container-id-9 div.sk-label input.sk-toggleable__control:checked~label.sk-toggleable__label {background-color: #d4ebff;}#sk-container-id-9 input.sk-hidden--visually {border: 0;clip: rect(1px 1px 1px 1px);clip: rect(1px, 1px, 1px, 1px);height: 1px;margin: -1px;overflow: hidden;padding: 0;position: absolute;width: 1px;}#sk-container-id-9 div.sk-estimator {font-family: monospace;background-color: #f0f8ff;border: 1px dotted black;border-radius: 0.25em;box-sizing: border-box;margin-bottom: 0.5em;}#sk-container-id-9 div.sk-estimator:hover {background-color: #d4ebff;}#sk-container-id-9 div.sk-parallel-item::after {content: \"\";width: 100%;border-bottom: 1px solid gray;flex-grow: 1;}#sk-container-id-9 div.sk-label:hover label.sk-toggleable__label {background-color: #d4ebff;}#sk-container-id-9 div.sk-serial::before {content: \"\";position: absolute;border-left: 1px solid gray;box-sizing: border-box;top: 0;bottom: 0;left: 50%;z-index: 0;}#sk-container-id-9 div.sk-serial {display: flex;flex-direction: column;align-items: center;background-color: white;padding-right: 0.2em;padding-left: 0.2em;position: relative;}#sk-container-id-9 div.sk-item {position: relative;z-index: 1;}#sk-container-id-9 div.sk-parallel {display: flex;align-items: stretch;justify-content: center;background-color: white;position: relative;}#sk-container-id-9 div.sk-item::before, #sk-container-id-9 div.sk-parallel-item::before {content: \"\";position: absolute;border-left: 1px solid gray;box-sizing: border-box;top: 0;bottom: 0;left: 50%;z-index: -1;}#sk-container-id-9 div.sk-parallel-item {display: flex;flex-direction: column;z-index: 1;position: relative;background-color: white;}#sk-container-id-9 div.sk-parallel-item:first-child::after {align-self: flex-end;width: 50%;}#sk-container-id-9 div.sk-parallel-item:last-child::after {align-self: flex-start;width: 50%;}#sk-container-id-9 div.sk-parallel-item:only-child::after {width: 0;}#sk-container-id-9 div.sk-dashed-wrapped {border: 1px dashed gray;margin: 0 0.4em 0.5em 0.4em;box-sizing: border-box;padding-bottom: 0.4em;background-color: white;}#sk-container-id-9 div.sk-label label {font-family: monospace;font-weight: bold;display: inline-block;line-height: 1.2em;}#sk-container-id-9 div.sk-label-container {text-align: center;}#sk-container-id-9 div.sk-container {/* jupyter's `normalize.less` sets `[hidden] { display: none; }` but bootstrap.min.css set `[hidden] { display: none !important; }` so we also need the `!important` here to be able to override the default hidden behavior on the sphinx rendered scikit-learn.org. See: https://github.com/scikit-learn/scikit-learn/issues/21755 */display: inline-block !important;position: relative;}#sk-container-id-9 div.sk-text-repr-fallback {display: none;}</style><div id=\"sk-container-id-9\" class=\"sk-top-container\"><div class=\"sk-text-repr-fallback\"><pre>GaussianProcessRegressor(kernel=1**2 * RBF(length_scale=1) + WhiteKernel(noise_level=1),\n",
       "                         n_restarts_optimizer=10)</pre><b>In a Jupyter environment, please rerun this cell to show the HTML representation or trust the notebook. <br />On GitHub, the HTML representation is unable to render, please try loading this page with nbviewer.org.</b></div><div class=\"sk-container\" hidden><div class=\"sk-item\"><div class=\"sk-estimator sk-toggleable\"><input class=\"sk-toggleable__control sk-hidden--visually\" id=\"sk-estimator-id-9\" type=\"checkbox\" checked><label for=\"sk-estimator-id-9\" class=\"sk-toggleable__label sk-toggleable__label-arrow\">GaussianProcessRegressor</label><div class=\"sk-toggleable__content\"><pre>GaussianProcessRegressor(kernel=1**2 * RBF(length_scale=1) + WhiteKernel(noise_level=1),\n",
       "                         n_restarts_optimizer=10)</pre></div></div></div></div></div>"
      ],
      "text/plain": [
       "GaussianProcessRegressor(kernel=1**2 * RBF(length_scale=1) + WhiteKernel(noise_level=1),\n",
       "                         n_restarts_optimizer=10)"
      ]
     },
     "execution_count": 71,
     "metadata": {},
     "output_type": "execute_result"
    }
   ],
   "source": [
    "best_model = eval(best_model)\n",
    "best_model"
   ]
  },
  {
   "cell_type": "markdown",
   "id": "bfac8123-d3b5-43c8-a977-cfebc1e86629",
   "metadata": {
    "id": "bfac8123-d3b5-43c8-a977-cfebc1e86629"
   },
   "source": [
    "Zobaczmy jego wynik log_marginal_likelihood:"
   ]
  },
  {
   "cell_type": "code",
   "execution_count": 72,
   "id": "78fe2216-15c6-45a3-a711-7da76d2df57f",
   "metadata": {
    "id": "78fe2216-15c6-45a3-a711-7da76d2df57f"
   },
   "outputs": [
    {
     "data": {
      "text/plain": [
       "-906.1260951872293"
      ]
     },
     "execution_count": 72,
     "metadata": {},
     "output_type": "execute_result"
    }
   ],
   "source": [
    "best_model.log_marginal_likelihood_value_"
   ]
  },
  {
   "cell_type": "markdown",
   "id": "f3f80c97-65ca-4aa4-8b82-042a2942085c",
   "metadata": {
    "id": "f3f80c97-65ca-4aa4-8b82-042a2942085c"
   },
   "source": [
    "Zdefiniujmy teraz słownik, w którym zapiszemy najlepsze hiperparametry:"
   ]
  },
  {
   "cell_type": "code",
   "execution_count": 73,
   "id": "dd619f10-d749-4179-b42f-3bd3fc46bf8b",
   "metadata": {
    "id": "dd619f10-d749-4179-b42f-3bd3fc46bf8b"
   },
   "outputs": [],
   "source": [
    "best_model_hyperparams = dict()"
   ]
  },
  {
   "cell_type": "markdown",
   "id": "a3ebe82a-992a-4059-afed-1370e131cdf6",
   "metadata": {
    "id": "a3ebe82a-992a-4059-afed-1370e131cdf6"
   },
   "source": [
    "Teraz 'wyciągnijmy' je z 'czeluści' wyznaczonego najlepszego modelu:"
   ]
  },
  {
   "cell_type": "code",
   "execution_count": 74,
   "id": "19213863-4978-4541-9929-e1977825a4f6",
   "metadata": {
    "id": "19213863-4978-4541-9929-e1977825a4f6"
   },
   "outputs": [],
   "source": [
    "oryg_params = best_model.kernel_.get_params()\n",
    "best_model_hyperparams['length_scale'] = oryg_params['k1__k2__length_scale']\n",
    "best_model_hyperparams['signal_variance'] = oryg_params['k1__k1__constant_value']\n",
    "best_model_hyperparams['noise_variance'] = oryg_params['k2__noise_level']"
   ]
  },
  {
   "cell_type": "markdown",
   "id": "879c2d43-9205-4bf4-8295-5cd3f42c40eb",
   "metadata": {
    "id": "879c2d43-9205-4bf4-8295-5cd3f42c40eb"
   },
   "source": [
    "Wyświetlmy teraz te hiperparametry:"
   ]
  },
  {
   "cell_type": "code",
   "execution_count": 75,
   "id": "aaf52d3b-e92a-4268-9c4f-df3995ebff75",
   "metadata": {
    "id": "aaf52d3b-e92a-4268-9c4f-df3995ebff75"
   },
   "outputs": [
    {
     "data": {
      "text/plain": [
       "{'length_scale': 10.295801006273322,\n",
       " 'signal_variance': 218.49278984267866,\n",
       " 'noise_variance': 4.671632703318203}"
      ]
     },
     "execution_count": 75,
     "metadata": {},
     "output_type": "execute_result"
    }
   ],
   "source": [
    "best_model_hyperparams"
   ]
  },
  {
   "cell_type": "markdown",
   "id": "4d263802-5760-455a-aca3-bc3a3bb113cd",
   "metadata": {},
   "source": [
    "Jeszcze raz, dla przypomnienia - wynik naszego najlepszego modelu na zbiorze testowym:"
   ]
  },
  {
   "cell_type": "code",
   "execution_count": 76,
   "id": "f1384a8e-6b1c-4dbb-bdae-91b3f340376b",
   "metadata": {},
   "outputs": [
    {
     "name": "stdout",
     "output_type": "stream",
     "text": [
      "MAE(Best_GPR_Model) =  1.2207271266679567 , tzn.  8.302344330483285 % średniej wartości.\n"
     ]
    }
   ],
   "source": [
    "print('MAE(Best_GPR_Model) = ', min_score_on_test_data, ', tzn. ', 100*min_score_on_test_data/np.mean(eval(name_of_y_test_of_best_model_on_test_data)), '% średniej wartości.')"
   ]
  },
  {
   "cell_type": "markdown",
   "id": "37cabcef-5391-48c1-b221-dae381107b16",
   "metadata": {},
   "source": [
    "Cały kod wykonany - zapisujemy aktualny czas:"
   ]
  },
  {
   "cell_type": "code",
   "execution_count": 77,
   "id": "eb52bf37-9fc8-4a86-81c4-9f3514f5a8fc",
   "metadata": {},
   "outputs": [],
   "source": [
    "total_time_stop = time.time()"
   ]
  },
  {
   "cell_type": "code",
   "execution_count": 78,
   "id": "beed9ef6-4182-4888-b5d7-f0b5b3256f29",
   "metadata": {},
   "outputs": [
    {
     "name": "stdout",
     "output_type": "stream",
     "text": [
      "Wykonywanie całego kodu zajęło: 861.27s.\n"
     ]
    }
   ],
   "source": [
    "print('Wykonywanie całego kodu zajęło: %.2fs.' % (total_time_stop-total_time_start))"
   ]
  },
  {
   "cell_type": "markdown",
   "id": "cc01fe6c-7d04-4c50-b335-961298f3d7b5",
   "metadata": {
    "jp-MarkdownHeadingCollapsed": true
   },
   "source": [
    "# 6. Wykresy końcowe."
   ]
  },
  {
   "cell_type": "markdown",
   "id": "063f0948-c504-44e7-9499-281166bee2d6",
   "metadata": {},
   "source": [
    "Najpierw importujemy moduł potrzebny do rysowania wykresów:"
   ]
  },
  {
   "cell_type": "code",
   "execution_count": 79,
   "id": "ad83d7bb-0392-4729-bcc3-35de9e2f63d7",
   "metadata": {},
   "outputs": [],
   "source": [
    "import matplotlib.pyplot as plt"
   ]
  },
  {
   "cell_type": "markdown",
   "id": "2c81e8ae-75df-469c-be2b-2d62d6bd23b5",
   "metadata": {},
   "source": [
    "Teraz zapiszmy do pomocniczych zmiennych kolejno predykcje wybranego, najlepszego modelu oraz oryginalne wartości na zbiorze testowym:"
   ]
  },
  {
   "cell_type": "code",
   "execution_count": 80,
   "id": "b81e6e82-b72f-459c-86b0-2bff00c332da",
   "metadata": {},
   "outputs": [],
   "source": [
    "best_model_predicts_test_data = best_model.predict(eval(name_of_X_test_of_best_model_on_test_data),return_std=True) #predykcje na zb. testowym\n",
    "#tutaj best_model_predicts_test_data[0] to są predykcje, natomiast best_model_predicts_test_data[1] to są błędy w odpowiednich punktach\n",
    "\n",
    "real_model_values_test_data = np.array([i[0] for i in eval(name_of_y_test_of_best_model_on_test_data).to_numpy()]) #prawdziwe wartości na zb. testowym"
   ]
  },
  {
   "cell_type": "markdown",
   "id": "0aedff71-e938-4be3-9253-3655a54e1bb2",
   "metadata": {},
   "source": [
    "Najpierw narysujmy wykres błędu przybliżenia dla kolejnych obserwacji:"
   ]
  },
  {
   "cell_type": "code",
   "execution_count": 81,
   "id": "40e725c1-4af9-4619-ad26-c75286127fa2",
   "metadata": {},
   "outputs": [
    {
     "data": {
      "image/png": "[encoded data removed]",
      "text/plain": [
       "<Figure size 640x480 with 1 Axes>"
      ]
     },
     "metadata": {},
     "output_type": "display_data"
    }
   ],
   "source": [
    "plot_x = [i for i in range(len(eval(name_of_X_test_of_best_model_on_test_data)))] #zakres x do rysowania na wykresie (indeksy po zbiorze testowym)\n",
    "plot_y_pred = best_model_predicts_test_data[0] #predykcje naszego  modelu na zbiorze testowym\n",
    "plot_y_real = real_model_values_test_data #prawdziwe wartości na zbiorze testowym\n",
    "plt.plot(plot_x, plot_y_pred-plot_y_real, color = 'red',label='approx_error') #narysowanie krzywej błędu przybliżenia\n",
    "plt.plot(plot_x, [0 for i in range(len(plot_x))], label='error=0') #narysowanie linii y = 0\n",
    "plt.xlabel('nr_observation')\n",
    "plt.ylabel('approx_error')\n",
    "plt.legend()\n",
    "plt.title('Approximation error vs observation ID on test data - data Compact')\n",
    "plt.show() #a oto wykres błędu przybliżenia względem numeru obserwacji"
   ]
  },
  {
   "cell_type": "markdown",
   "id": "8200d61d-9482-4ba0-878a-ab8c7bad0bd5",
   "metadata": {},
   "source": [
    "Dla większej czytelności, narysujmy wykres procentowego błędu (względnego) przybliżenia:"
   ]
  },
  {
   "cell_type": "code",
   "execution_count": 82,
   "id": "fdd1289b-6714-460f-bc52-c26c936f2f5a",
   "metadata": {},
   "outputs": [
    {
     "data": {
      "image/png": "[encoded data removed]",
      "text/plain": [
       "<Figure size 640x480 with 1 Axes>"
      ]
     },
     "metadata": {},
     "output_type": "display_data"
    }
   ],
   "source": [
    "plt.plot(plot_x,100*(plot_y_pred-plot_y_real)/plot_y_real, color = 'red',label='percent_error') #narysowanie krzywej błędu procentowego (względnego) przybliżenia\n",
    "plt.plot(plot_x, [0 for i in range(len(plot_x))], label = 'error=0') #narysowanie linii y = 0\n",
    "plt.xlabel('nr_observation')\n",
    "plt.ylabel('percentage_approx_error')\n",
    "plt.legend()\n",
    "plt.title('Percent approximation error vs observation ID on test data - data Compact')\n",
    "plt.show() #a oto wykres procentowego (względnego) błędu przybliżenia względem numeru obserwacji"
   ]
  },
  {
   "cell_type": "markdown",
   "id": "8298c420-d763-434c-af0d-742ba148bf02",
   "metadata": {},
   "source": [
    "Jak widać, błędy są na naprawdę przyzwoicie niskim (procentowym) poziomie - oscylują one wokół 10 procent. Narysujmy teraz na jednym wykresie predykcje, przedziały ufności wokół predykcji oraz oryginalne dane:"
   ]
  },
  {
   "cell_type": "code",
   "execution_count": 83,
   "id": "f73ccaff-b39e-4c5a-990b-5dddea6a510b",
   "metadata": {},
   "outputs": [
    {
     "name": "stderr",
     "output_type": "stream",
     "text": [
      "<>:4: SyntaxWarning:\n",
      "\n",
      "invalid escape sequence '\\p'\n",
      "\n",
      "<>:5: SyntaxWarning:\n",
      "\n",
      "invalid escape sequence '\\p'\n",
      "\n",
      "<>:4: SyntaxWarning:\n",
      "\n",
      "invalid escape sequence '\\p'\n",
      "\n",
      "<>:5: SyntaxWarning:\n",
      "\n",
      "invalid escape sequence '\\p'\n",
      "\n",
      "C:\\Users\\piotr\\AppData\\Local\\Temp\\ipykernel_25316\\3175655897.py:4: SyntaxWarning:\n",
      "\n",
      "invalid escape sequence '\\p'\n",
      "\n",
      "C:\\Users\\piotr\\AppData\\Local\\Temp\\ipykernel_25316\\3175655897.py:5: SyntaxWarning:\n",
      "\n",
      "invalid escape sequence '\\p'\n",
      "\n"
     ]
    },
    {
     "data": {
      "image/png": "[encoded data removed]",
      "text/plain": [
       "<Figure size 640x480 with 1 Axes>"
      ]
     },
     "metadata": {},
     "output_type": "display_data"
    }
   ],
   "source": [
    "plot_y_err = best_model_predicts_test_data[1] #błędy (standardowe) niepewności dla poszczególnych obserwacji (zwrócone przez metodę predict)\n",
    "plt.plot(plot_x,plot_y_pred, color = 'red',label='predicted') #narysowanie krzywej predykcji\n",
    "plt.scatter(plot_x,plot_y_real, label = 'observed') #zaznaczenie punktów oznaczających oryginalne dane\n",
    "plt.fill_between(plot_x, plot_y_pred - plot_y_err, plot_y_pred + plot_y_err, color='gray', alpha=0.2, label='uncertainty ($\\pm$ 1std)')\n",
    "plt.fill_between(plot_x, plot_y_pred - 2*plot_y_err, plot_y_pred + 2*plot_y_err, color='gray', alpha=0.2, label='uncertainty ($\\pm$ 2std)')\n",
    "plt.xlabel('nr_observation')\n",
    "plt.ylabel('velocity [m/s]')\n",
    "plt.legend()\n",
    "plt.title('Predicted vs observed on test data - data Compact')\n",
    "plt.show() #a oto wykres błędu przybliżenia względem numeru obserwacji + zaznaczone obserwacje"
   ]
  },
  {
   "cell_type": "markdown",
   "id": "953fd4f5-95bf-4a69-aa20-576b9c89f509",
   "metadata": {},
   "source": [
    "Jak więc widać, predykcje są dosyć zgodne z faktycznie zaobserwowanymi wartościami. Teraz wykonamy te same wykresy dla danych z klasy Luxury, dla modelu zbudowanego na danych po standaryzacji. Najpierw wyznaczę predykcje i zbiorę oryginalne wartości:"
   ]
  },
  {
   "cell_type": "code",
   "execution_count": 84,
   "id": "820c9996-1beb-4c07-bfb4-561e8b77cb04",
   "metadata": {},
   "outputs": [],
   "source": [
    "model_luxury_std_predicts = model_luxury_std.predict(eval(\"X_luxury_std_test\"),return_std=True) #predykcje na zb. testowym\n",
    "#tutaj model_luxury_std_predicts_test_data[0] to są predykcje, natomiastmodel_luxury_std_predicts_test_data[1] to są błędy w odpowiednich punktach\n",
    "\n",
    "model_luxury_std_real_test = np.array([i[0] for i in eval(\"y_luxury_test\").to_numpy()]) #prawdziwe wartości na zb. testowym"
   ]
  },
  {
   "cell_type": "markdown",
   "id": "98ba4494-998f-45c2-bccb-718c2326c55c",
   "metadata": {},
   "source": [
    "Najpierw narysujmy wykres błędu przybliżenia dla kolejnych obserwacji:"
   ]
  },
  {
   "cell_type": "code",
   "execution_count": 85,
   "id": "0cbffe75-5eb9-47c4-b8c2-8737ec5123bf",
   "metadata": {},
   "outputs": [
    {
     "data": {
      "image/png": "[encoded data removed]",
      "text/plain": [
       "<Figure size 640x480 with 1 Axes>"
      ]
     },
     "metadata": {},
     "output_type": "display_data"
    }
   ],
   "source": [
    "plot_x_luxury = [i for i in range(len(eval(\"X_luxury_std_test\")))] #zakres x do rysowania na wykresie (indeksy po zbiorze testowym)\n",
    "plot_y_pred_luxury = model_luxury_std_predicts[0] #predykcje naszego modelu na zbiorze testowym\n",
    "plot_y_real_luxury = model_luxury_std_real_test #prawdziwe wartości na zbiorze testowym\n",
    "plt.plot(plot_x_luxury, plot_y_pred_luxury-plot_y_real_luxury, color = 'red',label='approx_error') #narysowanie krzywej błędu przybliżenia\n",
    "plt.plot(plot_x_luxury, [0 for i in range(len(plot_x_luxury))], label='error=0') #narysowanie linii y = 0\n",
    "plt.xlabel('nr_observation')\n",
    "plt.ylabel('approx_error')\n",
    "plt.legend()\n",
    "plt.title('Approximation error vs observation ID on test data - data Luxury')\n",
    "plt.show() #a oto wykres błędu przybliżenia względem numeru obserwacji"
   ]
  },
  {
   "cell_type": "markdown",
   "id": "4c84ce8b-10a4-4a48-ac52-4631cc19f3d9",
   "metadata": {},
   "source": [
    "Teraz narysujemy wykres błędu procentowego:"
   ]
  },
  {
   "cell_type": "code",
   "execution_count": 86,
   "id": "64521901-02e8-44a2-9bfa-d813f5ba8742",
   "metadata": {},
   "outputs": [
    {
     "data": {
      "image/png": "[encoded data removed]",
      "text/plain": [
       "<Figure size 640x480 with 1 Axes>"
      ]
     },
     "metadata": {},
     "output_type": "display_data"
    }
   ],
   "source": [
    "plt.plot(plot_x_luxury,100*(plot_y_pred_luxury-plot_y_real_luxury)/plot_y_real_luxury, color = 'red',label='percent_error') #narysowanie krzywej błędu procentowego (względnego) przybliżenia\n",
    "plt.plot(plot_x_luxury, [0 for i in range(len(plot_x_luxury))], label = 'error=0') #narysowanie linii y = 0\n",
    "plt.xlabel('nr_observation')\n",
    "plt.ylabel('percentage_approx_error')\n",
    "plt.legend()\n",
    "plt.title('Percent approximation error vs observation ID on test data - data Luxury')\n",
    "plt.show() #a oto wykres procentowego (względnego) błędu przybliżenia względem numeru obserwacji"
   ]
  },
  {
   "cell_type": "markdown",
   "id": "a03603d6-c158-49bb-ad9c-6be876e8de0b",
   "metadata": {},
   "source": [
    "Jak widać, błędy są na naprawdę przyzwoicie niskim (procentowym) poziomie - oscylują one wokół 10 procent. Narysujmy teraz na jednym wykresie predykcje, przedziały ufności wokół predykcji oraz oryginalne dane:"
   ]
  },
  {
   "cell_type": "code",
   "execution_count": 87,
   "id": "2c75168e-601a-4682-9fee-2280e0a100ad",
   "metadata": {},
   "outputs": [
    {
     "name": "stderr",
     "output_type": "stream",
     "text": [
      "<>:4: SyntaxWarning:\n",
      "\n",
      "invalid escape sequence '\\p'\n",
      "\n",
      "<>:5: SyntaxWarning:\n",
      "\n",
      "invalid escape sequence '\\p'\n",
      "\n",
      "<>:4: SyntaxWarning:\n",
      "\n",
      "invalid escape sequence '\\p'\n",
      "\n",
      "<>:5: SyntaxWarning:\n",
      "\n",
      "invalid escape sequence '\\p'\n",
      "\n",
      "C:\\Users\\piotr\\AppData\\Local\\Temp\\ipykernel_25316\\1620236896.py:4: SyntaxWarning:\n",
      "\n",
      "invalid escape sequence '\\p'\n",
      "\n",
      "C:\\Users\\piotr\\AppData\\Local\\Temp\\ipykernel_25316\\1620236896.py:5: SyntaxWarning:\n",
      "\n",
      "invalid escape sequence '\\p'\n",
      "\n"
     ]
    },
    {
     "data": {
      "image/png": "[encoded data removed]",
      "text/plain": [
       "<Figure size 640x480 with 1 Axes>"
      ]
     },
     "metadata": {},
     "output_type": "display_data"
    }
   ],
   "source": [
    "plot_y_err_luxury = model_luxury_std_predicts[1] #błędy (standardowe) niepewności dla poszczególnych obserwacji (zwrócone przez metodę predict)\n",
    "plt.plot(plot_x_luxury,plot_y_pred_luxury, color = 'red',label='predicted') #narysowanie krzywej predykcji\n",
    "plt.scatter(plot_x_luxury,plot_y_real_luxury, label = 'observed') #zaznaczenie punktów oznaczających oryginalne dane\n",
    "plt.fill_between(plot_x_luxury, plot_y_pred_luxury - plot_y_err_luxury, plot_y_pred_luxury + plot_y_err_luxury, color='gray', alpha=0.2, label='uncertainty ($\\pm$ 1std)')\n",
    "plt.fill_between(plot_x_luxury, plot_y_pred_luxury - 2*plot_y_err_luxury, plot_y_pred_luxury + 2*plot_y_err_luxury, color='gray', alpha=0.2, label='uncertainty ($\\pm$ 2std)')\n",
    "plt.xlabel('nr_observation')\n",
    "plt.ylabel('velocity [m/s]')\n",
    "plt.legend()\n",
    "plt.title('Predicted vs observed on test data - data Luxury')\n",
    "plt.show() #a oto wykres błędu przybliżenia względem numeru obserwacji + zaznaczone obserwacje"
   ]
  },
  {
   "cell_type": "markdown",
   "id": "3b598259-6255-438b-a867-7034dda44993",
   "metadata": {
    "jp-MarkdownHeadingCollapsed": true
   },
   "source": [
    "# 7. A tak czysto, z ciekawości... regresja liniowa."
   ]
  },
  {
   "cell_type": "markdown",
   "id": "76fe0c7f-89b9-4505-a99a-48ce51e38ac2",
   "metadata": {},
   "source": [
    "Z ciekawości, zobaczmy jakie wyniki dałaby zwykła regresja wieloraka (nie wiemy jednak, czy tak naprawdę 'wolno' nam z niej skorzystać, tzn. czy jej teoretyczne założenia są spełnione). Importujemy moduł LinearRegression z pakietu scikit (link do dokumentacji:[link](https://scikit-learn.org/stable/modules/generated/sklearn.linear_model.LinearRegression.html)):"
   ]
  },
  {
   "cell_type": "code",
   "execution_count": 88,
   "id": "f7ca2250-5987-44d0-bd80-2940d3fad22b",
   "metadata": {},
   "outputs": [],
   "source": [
    "from sklearn.linear_model import LinearRegression"
   ]
  },
  {
   "cell_type": "markdown",
   "id": "a4e72d54-9196-4af3-b18e-5820dac99c44",
   "metadata": {},
   "source": [
    "Tworzymy pustą zmienną typu LinearRegression, w której za chwilę będzie nasz model:"
   ]
  },
  {
   "cell_type": "code",
   "execution_count": 89,
   "id": "cb91726b-bd65-4d9a-9981-23643ad3fc90",
   "metadata": {},
   "outputs": [],
   "source": [
    "linear_model = LinearRegression()"
   ]
  },
  {
   "cell_type": "markdown",
   "id": "193d7b9e-6446-4584-afe2-d2f71495ac1f",
   "metadata": {},
   "source": [
    "Teraz trenujemy ten model:"
   ]
  },
  {
   "cell_type": "code",
   "execution_count": 90,
   "id": "1f1e52c3-97bc-49a7-bead-40c501cd950d",
   "metadata": {},
   "outputs": [
    {
     "data": {
      "text/html": [
       "<style>#sk-container-id-10 {color: black;}#sk-container-id-10 pre{padding: 0;}#sk-container-id-10 div.sk-toggleable {background-color: white;}#sk-container-id-10 label.sk-toggleable__label {cursor: pointer;display: block;width: 100%;margin-bottom: 0;padding: 0.3em;box-sizing: border-box;text-align: center;}#sk-container-id-10 label.sk-toggleable__label-arrow:before {content: \"▸\";float: left;margin-right: 0.25em;color: #696969;}#sk-container-id-10 label.sk-toggleable__label-arrow:hover:before {color: black;}#sk-container-id-10 div.sk-estimator:hover label.sk-toggleable__label-arrow:before {color: black;}#sk-container-id-10 div.sk-toggleable__content {max-height: 0;max-width: 0;overflow: hidden;text-align: left;background-color: #f0f8ff;}#sk-container-id-10 div.sk-toggleable__content pre {margin: 0.2em;color: black;border-radius: 0.25em;background-color: #f0f8ff;}#sk-container-id-10 input.sk-toggleable__control:checked~div.sk-toggleable__content {max-height: 200px;max-width: 100%;overflow: auto;}#sk-container-id-10 input.sk-toggleable__control:checked~label.sk-toggleable__label-arrow:before {content: \"▾\";}#sk-container-id-10 div.sk-estimator input.sk-toggleable__control:checked~label.sk-toggleable__label {background-color: #d4ebff;}#sk-container-id-10 div.sk-label input.sk-toggleable__control:checked~label.sk-toggleable__label {background-color: #d4ebff;}#sk-container-id-10 input.sk-hidden--visually {border: 0;clip: rect(1px 1px 1px 1px);clip: rect(1px, 1px, 1px, 1px);height: 1px;margin: -1px;overflow: hidden;padding: 0;position: absolute;width: 1px;}#sk-container-id-10 div.sk-estimator {font-family: monospace;background-color: #f0f8ff;border: 1px dotted black;border-radius: 0.25em;box-sizing: border-box;margin-bottom: 0.5em;}#sk-container-id-10 div.sk-estimator:hover {background-color: #d4ebff;}#sk-container-id-10 div.sk-parallel-item::after {content: \"\";width: 100%;border-bottom: 1px solid gray;flex-grow: 1;}#sk-container-id-10 div.sk-label:hover label.sk-toggleable__label {background-color: #d4ebff;}#sk-container-id-10 div.sk-serial::before {content: \"\";position: absolute;border-left: 1px solid gray;box-sizing: border-box;top: 0;bottom: 0;left: 50%;z-index: 0;}#sk-container-id-10 div.sk-serial {display: flex;flex-direction: column;align-items: center;background-color: white;padding-right: 0.2em;padding-left: 0.2em;position: relative;}#sk-container-id-10 div.sk-item {position: relative;z-index: 1;}#sk-container-id-10 div.sk-parallel {display: flex;align-items: stretch;justify-content: center;background-color: white;position: relative;}#sk-container-id-10 div.sk-item::before, #sk-container-id-10 div.sk-parallel-item::before {content: \"\";position: absolute;border-left: 1px solid gray;box-sizing: border-box;top: 0;bottom: 0;left: 50%;z-index: -1;}#sk-container-id-10 div.sk-parallel-item {display: flex;flex-direction: column;z-index: 1;position: relative;background-color: white;}#sk-container-id-10 div.sk-parallel-item:first-child::after {align-self: flex-end;width: 50%;}#sk-container-id-10 div.sk-parallel-item:last-child::after {align-self: flex-start;width: 50%;}#sk-container-id-10 div.sk-parallel-item:only-child::after {width: 0;}#sk-container-id-10 div.sk-dashed-wrapped {border: 1px dashed gray;margin: 0 0.4em 0.5em 0.4em;box-sizing: border-box;padding-bottom: 0.4em;background-color: white;}#sk-container-id-10 div.sk-label label {font-family: monospace;font-weight: bold;display: inline-block;line-height: 1.2em;}#sk-container-id-10 div.sk-label-container {text-align: center;}#sk-container-id-10 div.sk-container {/* jupyter's `normalize.less` sets `[hidden] { display: none; }` but bootstrap.min.css set `[hidden] { display: none !important; }` so we also need the `!important` here to be able to override the default hidden behavior on the sphinx rendered scikit-learn.org. See: https://github.com/scikit-learn/scikit-learn/issues/21755 */display: inline-block !important;position: relative;}#sk-container-id-10 div.sk-text-repr-fallback {display: none;}</style><div id=\"sk-container-id-10\" class=\"sk-top-container\"><div class=\"sk-text-repr-fallback\"><pre>LinearRegression()</pre><b>In a Jupyter environment, please rerun this cell to show the HTML representation or trust the notebook. <br />On GitHub, the HTML representation is unable to render, please try loading this page with nbviewer.org.</b></div><div class=\"sk-container\" hidden><div class=\"sk-item\"><div class=\"sk-estimator sk-toggleable\"><input class=\"sk-toggleable__control sk-hidden--visually\" id=\"sk-estimator-id-10\" type=\"checkbox\" checked><label for=\"sk-estimator-id-10\" class=\"sk-toggleable__label sk-toggleable__label-arrow\">LinearRegression</label><div class=\"sk-toggleable__content\"><pre>LinearRegression()</pre></div></div></div></div></div>"
      ],
      "text/plain": [
       "LinearRegression()"
      ]
     },
     "execution_count": 90,
     "metadata": {},
     "output_type": "execute_result"
    }
   ],
   "source": [
    "linear_model.fit(eval(name_of_X_test_of_best_model_on_test_data.replace('test','train')), eval(name_of_y_test_of_best_model_on_test_data.replace('test','train')))"
   ]
  },
  {
   "cell_type": "markdown",
   "id": "5ea6dc44-25c7-4a4c-bb94-23d603ef20c7",
   "metadata": {},
   "source": [
    "Teraz wyznaczamy predykcje na zbiorze testowym:"
   ]
  },
  {
   "cell_type": "code",
   "execution_count": 91,
   "id": "b35f54c2-3cb8-4d0b-801f-9a1862bee5e1",
   "metadata": {},
   "outputs": [],
   "source": [
    "linear_model_predictions = linear_model.predict(eval(name_of_X_test_of_best_model_on_test_data))"
   ]
  },
  {
   "cell_type": "markdown",
   "id": "32cb2842-e754-4def-9db4-99745d70d6d6",
   "metadata": {},
   "source": [
    "Teraz wyznaczamy ocenę MAE tego modelu na zbiorze testowym:"
   ]
  },
  {
   "cell_type": "code",
   "execution_count": 92,
   "id": "eb0160b3-7e52-4612-b38a-aad019301712",
   "metadata": {},
   "outputs": [],
   "source": [
    "linear_model_mae_score_on_test_data = mean_absolute_error(eval(name_of_y_test_of_best_model_on_test_data), linear_model_predictions)"
   ]
  },
  {
   "cell_type": "markdown",
   "id": "92bf7750-709b-4198-bab9-15b5052a1ac7",
   "metadata": {},
   "source": [
    "I wyświetlamy wynik:"
   ]
  },
  {
   "cell_type": "code",
   "execution_count": 93,
   "id": "7e97defc-afb9-4564-8b1e-8ca428b55553",
   "metadata": {},
   "outputs": [
    {
     "name": "stdout",
     "output_type": "stream",
     "text": [
      "MAE(Multiple_Linear_Regression_Model) =  1.3556226754732723 , tzn.  9.219788753864133 % średniej wartości.\n"
     ]
    }
   ],
   "source": [
    "print('MAE(Multiple_Linear_Regression_Model) = ', linear_model_mae_score_on_test_data, ', tzn. ', 100*linear_model_mae_score_on_test_data/np.mean(eval(name_of_y_test_of_best_model_on_test_data)), '% średniej wartości.')"
   ]
  },
  {
   "cell_type": "markdown",
   "id": "0cb4eb3b-3e7d-4cda-b02e-70add5ab2df6",
   "metadata": {},
   "source": [
    "Jak widać, nawet nieźle, ale i tak o prawie 1 punkt procentowy gorzej niż najlepszy model GPR :-)"
   ]
  }
 ],
 "metadata": {
  "colab": {
   "provenance": []
  },
  "kernelspec": {
   "display_name": "Python 3 (ipykernel)",
   "language": "python",
   "name": "python3"
  },
  "language_info": {
   "codemirror_mode": {
    "name": "ipython",
    "version": 3
   },
   "file_extension": ".py",
   "mimetype": "text/x-python",
   "name": "python",
   "nbconvert_exporter": "python",
   "pygments_lexer": "ipython3",
   "version": "3.12.3"
  }
 },
 "nbformat": 4,
 "nbformat_minor": 5
}
